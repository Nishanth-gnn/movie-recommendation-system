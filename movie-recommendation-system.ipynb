{
 "cells": [
  {
   "cell_type": "code",
   "execution_count": 33,
   "id": "32e3b15d-6429-4377-a8a1-3de42acd4a95",
   "metadata": {},
   "outputs": [],
   "source": [
    "import numpy as np\n",
    "import pandas as pd"
   ]
  },
  {
   "cell_type": "code",
   "execution_count": 36,
   "id": "fca37501-e8b6-4828-b2c4-6e2afa215c4c",
   "metadata": {},
   "outputs": [],
   "source": [
    "movies= pd.read_csv('tmdb_5000_movies.csv')\n",
    "credits= pd.read_csv('tmdb_5000_credits.csv')"
   ]
  },
  {
   "cell_type": "code",
   "execution_count": 38,
   "id": "497784f9-f47d-428f-9b44-f52cf0f47ffa",
   "metadata": {},
   "outputs": [
    {
     "data": {
      "text/html": [
       "<div>\n",
       "<style scoped>\n",
       "    .dataframe tbody tr th:only-of-type {\n",
       "        vertical-align: middle;\n",
       "    }\n",
       "\n",
       "    .dataframe tbody tr th {\n",
       "        vertical-align: top;\n",
       "    }\n",
       "\n",
       "    .dataframe thead th {\n",
       "        text-align: right;\n",
       "    }\n",
       "</style>\n",
       "<table border=\"1\" class=\"dataframe\">\n",
       "  <thead>\n",
       "    <tr style=\"text-align: right;\">\n",
       "      <th></th>\n",
       "      <th>budget</th>\n",
       "      <th>genres</th>\n",
       "      <th>homepage</th>\n",
       "      <th>id</th>\n",
       "      <th>keywords</th>\n",
       "      <th>original_language</th>\n",
       "      <th>original_title</th>\n",
       "      <th>overview</th>\n",
       "      <th>popularity</th>\n",
       "      <th>production_companies</th>\n",
       "      <th>production_countries</th>\n",
       "      <th>release_date</th>\n",
       "      <th>revenue</th>\n",
       "      <th>runtime</th>\n",
       "      <th>spoken_languages</th>\n",
       "      <th>status</th>\n",
       "      <th>tagline</th>\n",
       "      <th>title</th>\n",
       "      <th>vote_average</th>\n",
       "      <th>vote_count</th>\n",
       "    </tr>\n",
       "  </thead>\n",
       "  <tbody>\n",
       "    <tr>\n",
       "      <th>0</th>\n",
       "      <td>237000000</td>\n",
       "      <td>[{\"id\": 28, \"name\": \"Action\"}, {\"id\": 12, \"nam...</td>\n",
       "      <td>http://www.avatarmovie.com/</td>\n",
       "      <td>19995</td>\n",
       "      <td>[{\"id\": 1463, \"name\": \"culture clash\"}, {\"id\":...</td>\n",
       "      <td>en</td>\n",
       "      <td>Avatar</td>\n",
       "      <td>In the 22nd century, a paraplegic Marine is di...</td>\n",
       "      <td>150.437577</td>\n",
       "      <td>[{\"name\": \"Ingenious Film Partners\", \"id\": 289...</td>\n",
       "      <td>[{\"iso_3166_1\": \"US\", \"name\": \"United States o...</td>\n",
       "      <td>2009-12-10</td>\n",
       "      <td>2787965087</td>\n",
       "      <td>162.0</td>\n",
       "      <td>[{\"iso_639_1\": \"en\", \"name\": \"English\"}, {\"iso...</td>\n",
       "      <td>Released</td>\n",
       "      <td>Enter the World of Pandora.</td>\n",
       "      <td>Avatar</td>\n",
       "      <td>7.2</td>\n",
       "      <td>11800</td>\n",
       "    </tr>\n",
       "  </tbody>\n",
       "</table>\n",
       "</div>"
      ],
      "text/plain": [
       "      budget                                             genres  \\\n",
       "0  237000000  [{\"id\": 28, \"name\": \"Action\"}, {\"id\": 12, \"nam...   \n",
       "\n",
       "                      homepage     id  \\\n",
       "0  http://www.avatarmovie.com/  19995   \n",
       "\n",
       "                                            keywords original_language  \\\n",
       "0  [{\"id\": 1463, \"name\": \"culture clash\"}, {\"id\":...                en   \n",
       "\n",
       "  original_title                                           overview  \\\n",
       "0         Avatar  In the 22nd century, a paraplegic Marine is di...   \n",
       "\n",
       "   popularity                               production_companies  \\\n",
       "0  150.437577  [{\"name\": \"Ingenious Film Partners\", \"id\": 289...   \n",
       "\n",
       "                                production_countries release_date     revenue  \\\n",
       "0  [{\"iso_3166_1\": \"US\", \"name\": \"United States o...   2009-12-10  2787965087   \n",
       "\n",
       "   runtime                                   spoken_languages    status  \\\n",
       "0    162.0  [{\"iso_639_1\": \"en\", \"name\": \"English\"}, {\"iso...  Released   \n",
       "\n",
       "                       tagline   title  vote_average  vote_count  \n",
       "0  Enter the World of Pandora.  Avatar           7.2       11800  "
      ]
     },
     "execution_count": 38,
     "metadata": {},
     "output_type": "execute_result"
    }
   ],
   "source": [
    "movies.head(1)"
   ]
  },
  {
   "cell_type": "code",
   "execution_count": 39,
   "id": "9f4ee4be-e727-4b49-9026-39af03a291fe",
   "metadata": {},
   "outputs": [
    {
     "data": {
      "text/html": [
       "<div>\n",
       "<style scoped>\n",
       "    .dataframe tbody tr th:only-of-type {\n",
       "        vertical-align: middle;\n",
       "    }\n",
       "\n",
       "    .dataframe tbody tr th {\n",
       "        vertical-align: top;\n",
       "    }\n",
       "\n",
       "    .dataframe thead th {\n",
       "        text-align: right;\n",
       "    }\n",
       "</style>\n",
       "<table border=\"1\" class=\"dataframe\">\n",
       "  <thead>\n",
       "    <tr style=\"text-align: right;\">\n",
       "      <th></th>\n",
       "      <th>movie_id</th>\n",
       "      <th>title</th>\n",
       "      <th>cast</th>\n",
       "      <th>crew</th>\n",
       "    </tr>\n",
       "  </thead>\n",
       "  <tbody>\n",
       "    <tr>\n",
       "      <th>0</th>\n",
       "      <td>19995</td>\n",
       "      <td>Avatar</td>\n",
       "      <td>[{\"cast_id\": 242, \"character\": \"Jake Sully\", \"...</td>\n",
       "      <td>[{\"credit_id\": \"52fe48009251416c750aca23\", \"de...</td>\n",
       "    </tr>\n",
       "  </tbody>\n",
       "</table>\n",
       "</div>"
      ],
      "text/plain": [
       "   movie_id   title                                               cast  \\\n",
       "0     19995  Avatar  [{\"cast_id\": 242, \"character\": \"Jake Sully\", \"...   \n",
       "\n",
       "                                                crew  \n",
       "0  [{\"credit_id\": \"52fe48009251416c750aca23\", \"de...  "
      ]
     },
     "execution_count": 39,
     "metadata": {},
     "output_type": "execute_result"
    }
   ],
   "source": [
    "credits.head(1)"
   ]
  },
  {
   "cell_type": "code",
   "execution_count": 41,
   "id": "7990b1b6-2f1f-4a98-9320-daaea71c6bfd",
   "metadata": {},
   "outputs": [
    {
     "data": {
      "text/plain": [
       "(4803, 20)"
      ]
     },
     "execution_count": 41,
     "metadata": {},
     "output_type": "execute_result"
    }
   ],
   "source": [
    "movies.shape"
   ]
  },
  {
   "cell_type": "code",
   "execution_count": 42,
   "id": "3a91b3c0-f5ba-4263-9cf0-22339d89a6d8",
   "metadata": {},
   "outputs": [
    {
     "data": {
      "text/plain": [
       "(4803, 4)"
      ]
     },
     "execution_count": 42,
     "metadata": {},
     "output_type": "execute_result"
    }
   ],
   "source": [
    "credits.shape"
   ]
  },
  {
   "cell_type": "code",
   "execution_count": 43,
   "id": "e408cdf1-aa35-4ab2-baf5-2f8f59a85b69",
   "metadata": {},
   "outputs": [],
   "source": [
    "movies= movies.merge(credits,on='title')"
   ]
  },
  {
   "cell_type": "code",
   "execution_count": 44,
   "id": "b5fd159a-c7e3-4afa-b446-97f20d66b241",
   "metadata": {},
   "outputs": [
    {
     "data": {
      "text/plain": [
       "(4809, 23)"
      ]
     },
     "execution_count": 44,
     "metadata": {},
     "output_type": "execute_result"
    }
   ],
   "source": [
    "movies.shape # since title is common so its subtracted"
   ]
  },
  {
   "cell_type": "code",
   "execution_count": 45,
   "id": "00089bc5-5716-431c-9990-a9ee52de6b4e",
   "metadata": {},
   "outputs": [
    {
     "data": {
      "text/html": [
       "<div>\n",
       "<style scoped>\n",
       "    .dataframe tbody tr th:only-of-type {\n",
       "        vertical-align: middle;\n",
       "    }\n",
       "\n",
       "    .dataframe tbody tr th {\n",
       "        vertical-align: top;\n",
       "    }\n",
       "\n",
       "    .dataframe thead th {\n",
       "        text-align: right;\n",
       "    }\n",
       "</style>\n",
       "<table border=\"1\" class=\"dataframe\">\n",
       "  <thead>\n",
       "    <tr style=\"text-align: right;\">\n",
       "      <th></th>\n",
       "      <th>budget</th>\n",
       "      <th>genres</th>\n",
       "      <th>homepage</th>\n",
       "      <th>id</th>\n",
       "      <th>keywords</th>\n",
       "      <th>original_language</th>\n",
       "      <th>original_title</th>\n",
       "      <th>overview</th>\n",
       "      <th>popularity</th>\n",
       "      <th>production_companies</th>\n",
       "      <th>...</th>\n",
       "      <th>runtime</th>\n",
       "      <th>spoken_languages</th>\n",
       "      <th>status</th>\n",
       "      <th>tagline</th>\n",
       "      <th>title</th>\n",
       "      <th>vote_average</th>\n",
       "      <th>vote_count</th>\n",
       "      <th>movie_id</th>\n",
       "      <th>cast</th>\n",
       "      <th>crew</th>\n",
       "    </tr>\n",
       "  </thead>\n",
       "  <tbody>\n",
       "    <tr>\n",
       "      <th>0</th>\n",
       "      <td>237000000</td>\n",
       "      <td>[{\"id\": 28, \"name\": \"Action\"}, {\"id\": 12, \"nam...</td>\n",
       "      <td>http://www.avatarmovie.com/</td>\n",
       "      <td>19995</td>\n",
       "      <td>[{\"id\": 1463, \"name\": \"culture clash\"}, {\"id\":...</td>\n",
       "      <td>en</td>\n",
       "      <td>Avatar</td>\n",
       "      <td>In the 22nd century, a paraplegic Marine is di...</td>\n",
       "      <td>150.437577</td>\n",
       "      <td>[{\"name\": \"Ingenious Film Partners\", \"id\": 289...</td>\n",
       "      <td>...</td>\n",
       "      <td>162.0</td>\n",
       "      <td>[{\"iso_639_1\": \"en\", \"name\": \"English\"}, {\"iso...</td>\n",
       "      <td>Released</td>\n",
       "      <td>Enter the World of Pandora.</td>\n",
       "      <td>Avatar</td>\n",
       "      <td>7.2</td>\n",
       "      <td>11800</td>\n",
       "      <td>19995</td>\n",
       "      <td>[{\"cast_id\": 242, \"character\": \"Jake Sully\", \"...</td>\n",
       "      <td>[{\"credit_id\": \"52fe48009251416c750aca23\", \"de...</td>\n",
       "    </tr>\n",
       "  </tbody>\n",
       "</table>\n",
       "<p>1 rows × 23 columns</p>\n",
       "</div>"
      ],
      "text/plain": [
       "      budget                                             genres  \\\n",
       "0  237000000  [{\"id\": 28, \"name\": \"Action\"}, {\"id\": 12, \"nam...   \n",
       "\n",
       "                      homepage     id  \\\n",
       "0  http://www.avatarmovie.com/  19995   \n",
       "\n",
       "                                            keywords original_language  \\\n",
       "0  [{\"id\": 1463, \"name\": \"culture clash\"}, {\"id\":...                en   \n",
       "\n",
       "  original_title                                           overview  \\\n",
       "0         Avatar  In the 22nd century, a paraplegic Marine is di...   \n",
       "\n",
       "   popularity                               production_companies  ... runtime  \\\n",
       "0  150.437577  [{\"name\": \"Ingenious Film Partners\", \"id\": 289...  ...   162.0   \n",
       "\n",
       "                                    spoken_languages    status  \\\n",
       "0  [{\"iso_639_1\": \"en\", \"name\": \"English\"}, {\"iso...  Released   \n",
       "\n",
       "                       tagline   title vote_average vote_count movie_id  \\\n",
       "0  Enter the World of Pandora.  Avatar          7.2      11800    19995   \n",
       "\n",
       "                                                cast  \\\n",
       "0  [{\"cast_id\": 242, \"character\": \"Jake Sully\", \"...   \n",
       "\n",
       "                                                crew  \n",
       "0  [{\"credit_id\": \"52fe48009251416c750aca23\", \"de...  \n",
       "\n",
       "[1 rows x 23 columns]"
      ]
     },
     "execution_count": 45,
     "metadata": {},
     "output_type": "execute_result"
    }
   ],
   "source": [
    "movies.head(1)"
   ]
  },
  {
   "cell_type": "code",
   "execution_count": 47,
   "id": "f5f83026-503c-4103-8541-a9a494bb4a52",
   "metadata": {},
   "outputs": [],
   "source": [
    "# so we willkeep only these columns:\n",
    "# genres, id, keywords , title , overview, cast, crew"
   ]
  },
  {
   "cell_type": "code",
   "execution_count": null,
   "id": "e1621849-08a4-4a92-afe6-24cef0f3f77a",
   "metadata": {},
   "outputs": [],
   "source": [
    "# language wasn't considered coz already 96% of movies are english"
   ]
  },
  {
   "cell_type": "code",
   "execution_count": 48,
   "id": "aa2f3c85-dab4-4e6e-8b67-3808bbbc97dc",
   "metadata": {},
   "outputs": [],
   "source": [
    "movies= movies[['movie_id','title','overview','genres','keywords','cast','crew']]"
   ]
  },
  {
   "cell_type": "code",
   "execution_count": 49,
   "id": "616ae6e8-7aed-4dd4-ba35-25a862968eeb",
   "metadata": {},
   "outputs": [
    {
     "data": {
      "text/html": [
       "<div>\n",
       "<style scoped>\n",
       "    .dataframe tbody tr th:only-of-type {\n",
       "        vertical-align: middle;\n",
       "    }\n",
       "\n",
       "    .dataframe tbody tr th {\n",
       "        vertical-align: top;\n",
       "    }\n",
       "\n",
       "    .dataframe thead th {\n",
       "        text-align: right;\n",
       "    }\n",
       "</style>\n",
       "<table border=\"1\" class=\"dataframe\">\n",
       "  <thead>\n",
       "    <tr style=\"text-align: right;\">\n",
       "      <th></th>\n",
       "      <th>movie_id</th>\n",
       "      <th>title</th>\n",
       "      <th>overview</th>\n",
       "      <th>genres</th>\n",
       "      <th>keywords</th>\n",
       "      <th>cast</th>\n",
       "      <th>crew</th>\n",
       "    </tr>\n",
       "  </thead>\n",
       "  <tbody>\n",
       "    <tr>\n",
       "      <th>0</th>\n",
       "      <td>19995</td>\n",
       "      <td>Avatar</td>\n",
       "      <td>In the 22nd century, a paraplegic Marine is di...</td>\n",
       "      <td>[{\"id\": 28, \"name\": \"Action\"}, {\"id\": 12, \"nam...</td>\n",
       "      <td>[{\"id\": 1463, \"name\": \"culture clash\"}, {\"id\":...</td>\n",
       "      <td>[{\"cast_id\": 242, \"character\": \"Jake Sully\", \"...</td>\n",
       "      <td>[{\"credit_id\": \"52fe48009251416c750aca23\", \"de...</td>\n",
       "    </tr>\n",
       "  </tbody>\n",
       "</table>\n",
       "</div>"
      ],
      "text/plain": [
       "   movie_id   title                                           overview  \\\n",
       "0     19995  Avatar  In the 22nd century, a paraplegic Marine is di...   \n",
       "\n",
       "                                              genres  \\\n",
       "0  [{\"id\": 28, \"name\": \"Action\"}, {\"id\": 12, \"nam...   \n",
       "\n",
       "                                            keywords  \\\n",
       "0  [{\"id\": 1463, \"name\": \"culture clash\"}, {\"id\":...   \n",
       "\n",
       "                                                cast  \\\n",
       "0  [{\"cast_id\": 242, \"character\": \"Jake Sully\", \"...   \n",
       "\n",
       "                                                crew  \n",
       "0  [{\"credit_id\": \"52fe48009251416c750aca23\", \"de...  "
      ]
     },
     "execution_count": 49,
     "metadata": {},
     "output_type": "execute_result"
    }
   ],
   "source": [
    "movies.head(1)"
   ]
  },
  {
   "cell_type": "code",
   "execution_count": 50,
   "id": "d1a66a45-c86a-4b69-88ef-4d89f02da306",
   "metadata": {},
   "outputs": [
    {
     "name": "stdout",
     "output_type": "stream",
     "text": [
      "<class 'pandas.core.frame.DataFrame'>\n",
      "RangeIndex: 4809 entries, 0 to 4808\n",
      "Data columns (total 7 columns):\n",
      " #   Column    Non-Null Count  Dtype \n",
      "---  ------    --------------  ----- \n",
      " 0   movie_id  4809 non-null   int64 \n",
      " 1   title     4809 non-null   object\n",
      " 2   overview  4806 non-null   object\n",
      " 3   genres    4809 non-null   object\n",
      " 4   keywords  4809 non-null   object\n",
      " 5   cast      4809 non-null   object\n",
      " 6   crew      4809 non-null   object\n",
      "dtypes: int64(1), object(6)\n",
      "memory usage: 263.1+ KB\n"
     ]
    }
   ],
   "source": [
    "movies.info()"
   ]
  },
  {
   "cell_type": "code",
   "execution_count": 51,
   "id": "037569d4-8221-4a36-a1bd-d7c3c2a67752",
   "metadata": {},
   "outputs": [],
   "source": [
    "# removing null values\n",
    "movies=movies.dropna()"
   ]
  },
  {
   "cell_type": "code",
   "execution_count": 52,
   "id": "5dd70a6a-482b-46df-a938-eb9a640f35ed",
   "metadata": {},
   "outputs": [
    {
     "name": "stdout",
     "output_type": "stream",
     "text": [
      "<class 'pandas.core.frame.DataFrame'>\n",
      "Index: 4806 entries, 0 to 4808\n",
      "Data columns (total 7 columns):\n",
      " #   Column    Non-Null Count  Dtype \n",
      "---  ------    --------------  ----- \n",
      " 0   movie_id  4806 non-null   int64 \n",
      " 1   title     4806 non-null   object\n",
      " 2   overview  4806 non-null   object\n",
      " 3   genres    4806 non-null   object\n",
      " 4   keywords  4806 non-null   object\n",
      " 5   cast      4806 non-null   object\n",
      " 6   crew      4806 non-null   object\n",
      "dtypes: int64(1), object(6)\n",
      "memory usage: 300.4+ KB\n"
     ]
    }
   ],
   "source": [
    "movies.info()"
   ]
  },
  {
   "cell_type": "code",
   "execution_count": 53,
   "id": "e82e08e5-a65b-4795-8942-3248fd3f6993",
   "metadata": {},
   "outputs": [
    {
     "data": {
      "text/plain": [
       "0"
      ]
     },
     "execution_count": 53,
     "metadata": {},
     "output_type": "execute_result"
    }
   ],
   "source": [
    "movies.duplicated().sum()"
   ]
  },
  {
   "cell_type": "code",
   "execution_count": 54,
   "id": "45fc55ea-c215-437b-aaad-7be0978a239e",
   "metadata": {},
   "outputs": [
    {
     "data": {
      "text/plain": [
       "'[{\"id\": 28, \"name\": \"Action\"}, {\"id\": 12, \"name\": \"Adventure\"}, {\"id\": 14, \"name\": \"Fantasy\"}, {\"id\": 878, \"name\": \"Science Fiction\"}]'"
      ]
     },
     "execution_count": 54,
     "metadata": {},
     "output_type": "execute_result"
    }
   ],
   "source": [
    "movies.iloc[0].genres"
   ]
  },
  {
   "cell_type": "code",
   "execution_count": null,
   "id": "30da8293-4c65-4410-b718-a0ca3774cef2",
   "metadata": {},
   "outputs": [],
   "source": [
    "# to convert string to list we use literal_eval"
   ]
  },
  {
   "cell_type": "code",
   "execution_count": 59,
   "id": "72fc838f-210f-4a14-8ec5-3714e4369ca4",
   "metadata": {},
   "outputs": [],
   "source": [
    "import ast\n",
    "def convert(obj):\n",
    "    L=[]\n",
    "    for i in ast.literal_eval(obj):\n",
    "        L.append(i['name'])\n",
    "    return L"
   ]
  },
  {
   "cell_type": "code",
   "execution_count": 61,
   "id": "13643fe5-cf65-4c2f-a081-4ed68dfdb616",
   "metadata": {},
   "outputs": [],
   "source": [
    "movies['genres']=movies['genres'].apply(convert)"
   ]
  },
  {
   "cell_type": "code",
   "execution_count": 63,
   "id": "3f2ce3e6-04fe-4695-bb3e-1b9006818f7e",
   "metadata": {},
   "outputs": [
    {
     "data": {
      "text/html": [
       "<div>\n",
       "<style scoped>\n",
       "    .dataframe tbody tr th:only-of-type {\n",
       "        vertical-align: middle;\n",
       "    }\n",
       "\n",
       "    .dataframe tbody tr th {\n",
       "        vertical-align: top;\n",
       "    }\n",
       "\n",
       "    .dataframe thead th {\n",
       "        text-align: right;\n",
       "    }\n",
       "</style>\n",
       "<table border=\"1\" class=\"dataframe\">\n",
       "  <thead>\n",
       "    <tr style=\"text-align: right;\">\n",
       "      <th></th>\n",
       "      <th>movie_id</th>\n",
       "      <th>title</th>\n",
       "      <th>overview</th>\n",
       "      <th>genres</th>\n",
       "      <th>keywords</th>\n",
       "      <th>cast</th>\n",
       "      <th>crew</th>\n",
       "    </tr>\n",
       "  </thead>\n",
       "  <tbody>\n",
       "    <tr>\n",
       "      <th>0</th>\n",
       "      <td>19995</td>\n",
       "      <td>Avatar</td>\n",
       "      <td>In the 22nd century, a paraplegic Marine is di...</td>\n",
       "      <td>[Action, Adventure, Fantasy, Science Fiction]</td>\n",
       "      <td>[{\"id\": 1463, \"name\": \"culture clash\"}, {\"id\":...</td>\n",
       "      <td>[{\"cast_id\": 242, \"character\": \"Jake Sully\", \"...</td>\n",
       "      <td>[{\"credit_id\": \"52fe48009251416c750aca23\", \"de...</td>\n",
       "    </tr>\n",
       "  </tbody>\n",
       "</table>\n",
       "</div>"
      ],
      "text/plain": [
       "   movie_id   title                                           overview  \\\n",
       "0     19995  Avatar  In the 22nd century, a paraplegic Marine is di...   \n",
       "\n",
       "                                          genres  \\\n",
       "0  [Action, Adventure, Fantasy, Science Fiction]   \n",
       "\n",
       "                                            keywords  \\\n",
       "0  [{\"id\": 1463, \"name\": \"culture clash\"}, {\"id\":...   \n",
       "\n",
       "                                                cast  \\\n",
       "0  [{\"cast_id\": 242, \"character\": \"Jake Sully\", \"...   \n",
       "\n",
       "                                                crew  \n",
       "0  [{\"credit_id\": \"52fe48009251416c750aca23\", \"de...  "
      ]
     },
     "execution_count": 63,
     "metadata": {},
     "output_type": "execute_result"
    }
   ],
   "source": [
    "movies.head(1)"
   ]
  },
  {
   "cell_type": "code",
   "execution_count": 64,
   "id": "a376cbfd-15a0-48e8-9ed7-f411fe0c52b5",
   "metadata": {},
   "outputs": [],
   "source": [
    "movies['keywords']=movies['keywords'].apply(convert)"
   ]
  },
  {
   "cell_type": "code",
   "execution_count": 65,
   "id": "7a1df283-f778-44dd-beb4-d98751c39e34",
   "metadata": {},
   "outputs": [
    {
     "name": "stdout",
     "output_type": "stream",
     "text": [
      "[{\"cast_id\": 242, \"character\": \"Jake Sully\", \"credit_id\": \"5602a8a7c3a3685532001c9a\", \"gender\": 2, \"id\": 65731, \"name\": \"Sam Worthington\", \"order\": 0}, {\"cast_id\": 3, \"character\": \"Neytiri\", \"credit_id\": \"52fe48009251416c750ac9cb\", \"gender\": 1, \"id\": 8691, \"name\": \"Zoe Saldana\", \"order\": 1}, {\"cast_id\": 25, \"character\": \"Dr. Grace Augustine\", \"credit_id\": \"52fe48009251416c750aca39\", \"gender\": 1, \"id\": 10205, \"name\": \"Sigourney Weaver\", \"order\": 2}, {\"cast_id\": 4, \"character\": \"Col. Quaritch\", \"credit_id\": \"52fe48009251416c750ac9cf\", \"gender\": 2, \"id\": 32747, \"name\": \"Stephen Lang\", \"order\": 3}, {\"cast_id\": 5, \"character\": \"Trudy Chacon\", \"credit_id\": \"52fe48009251416c750ac9d3\", \"gender\": 1, \"id\": 17647, \"name\": \"Michelle Rodriguez\", \"order\": 4}, {\"cast_id\": 8, \"character\": \"Selfridge\", \"credit_id\": \"52fe48009251416c750ac9e1\", \"gender\": 2, \"id\": 1771, \"name\": \"Giovanni Ribisi\", \"order\": 5}, {\"cast_id\": 7, \"character\": \"Norm Spellman\", \"credit_id\": \"52fe48009251416c750ac9dd\", \"gender\": 2, \"id\": 59231, \"name\": \"Joel David Moore\", \"order\": 6}, {\"cast_id\": 9, \"character\": \"Moat\", \"credit_id\": \"52fe48009251416c750ac9e5\", \"gender\": 1, \"id\": 30485, \"name\": \"CCH Pounder\", \"order\": 7}, {\"cast_id\": 11, \"character\": \"Eytukan\", \"credit_id\": \"52fe48009251416c750ac9ed\", \"gender\": 2, \"id\": 15853, \"name\": \"Wes Studi\", \"order\": 8}, {\"cast_id\": 10, \"character\": \"Tsu'Tey\", \"credit_id\": \"52fe48009251416c750ac9e9\", \"gender\": 2, \"id\": 10964, \"name\": \"Laz Alonso\", \"order\": 9}, {\"cast_id\": 12, \"character\": \"Dr. Max Patel\", \"credit_id\": \"52fe48009251416c750ac9f1\", \"gender\": 2, \"id\": 95697, \"name\": \"Dileep Rao\", \"order\": 10}, {\"cast_id\": 13, \"character\": \"Lyle Wainfleet\", \"credit_id\": \"52fe48009251416c750ac9f5\", \"gender\": 2, \"id\": 98215, \"name\": \"Matt Gerald\", \"order\": 11}, {\"cast_id\": 32, \"character\": \"Private Fike\", \"credit_id\": \"52fe48009251416c750aca5b\", \"gender\": 2, \"id\": 154153, \"name\": \"Sean Anthony Moran\", \"order\": 12}, {\"cast_id\": 33, \"character\": \"Cryo Vault Med Tech\", \"credit_id\": \"52fe48009251416c750aca5f\", \"gender\": 2, \"id\": 397312, \"name\": \"Jason Whyte\", \"order\": 13}, {\"cast_id\": 34, \"character\": \"Venture Star Crew Chief\", \"credit_id\": \"52fe48009251416c750aca63\", \"gender\": 2, \"id\": 42317, \"name\": \"Scott Lawrence\", \"order\": 14}, {\"cast_id\": 35, \"character\": \"Lock Up Trooper\", \"credit_id\": \"52fe48009251416c750aca67\", \"gender\": 2, \"id\": 986734, \"name\": \"Kelly Kilgour\", \"order\": 15}, {\"cast_id\": 36, \"character\": \"Shuttle Pilot\", \"credit_id\": \"52fe48009251416c750aca6b\", \"gender\": 0, \"id\": 1207227, \"name\": \"James Patrick Pitt\", \"order\": 16}, {\"cast_id\": 37, \"character\": \"Shuttle Co-Pilot\", \"credit_id\": \"52fe48009251416c750aca6f\", \"gender\": 0, \"id\": 1180936, \"name\": \"Sean Patrick Murphy\", \"order\": 17}, {\"cast_id\": 38, \"character\": \"Shuttle Crew Chief\", \"credit_id\": \"52fe48009251416c750aca73\", \"gender\": 2, \"id\": 1019578, \"name\": \"Peter Dillon\", \"order\": 18}, {\"cast_id\": 39, \"character\": \"Tractor Operator / Troupe\", \"credit_id\": \"52fe48009251416c750aca77\", \"gender\": 0, \"id\": 91443, \"name\": \"Kevin Dorman\", \"order\": 19}, {\"cast_id\": 40, \"character\": \"Dragon Gunship Pilot\", \"credit_id\": \"52fe48009251416c750aca7b\", \"gender\": 2, \"id\": 173391, \"name\": \"Kelson Henderson\", \"order\": 20}, {\"cast_id\": 41, \"character\": \"Dragon Gunship Gunner\", \"credit_id\": \"52fe48009251416c750aca7f\", \"gender\": 0, \"id\": 1207236, \"name\": \"David Van Horn\", \"order\": 21}, {\"cast_id\": 42, \"character\": \"Dragon Gunship Navigator\", \"credit_id\": \"52fe48009251416c750aca83\", \"gender\": 0, \"id\": 215913, \"name\": \"Jacob Tomuri\", \"order\": 22}, {\"cast_id\": 43, \"character\": \"Suit #1\", \"credit_id\": \"52fe48009251416c750aca87\", \"gender\": 0, \"id\": 143206, \"name\": \"Michael Blain-Rozgay\", \"order\": 23}, {\"cast_id\": 44, \"character\": \"Suit #2\", \"credit_id\": \"52fe48009251416c750aca8b\", \"gender\": 2, \"id\": 169676, \"name\": \"Jon Curry\", \"order\": 24}, {\"cast_id\": 46, \"character\": \"Ambient Room Tech\", \"credit_id\": \"52fe48009251416c750aca8f\", \"gender\": 0, \"id\": 1048610, \"name\": \"Luke Hawker\", \"order\": 25}, {\"cast_id\": 47, \"character\": \"Ambient Room Tech / Troupe\", \"credit_id\": \"52fe48009251416c750aca93\", \"gender\": 0, \"id\": 42288, \"name\": \"Woody Schultz\", \"order\": 26}, {\"cast_id\": 48, \"character\": \"Horse Clan Leader\", \"credit_id\": \"52fe48009251416c750aca97\", \"gender\": 2, \"id\": 68278, \"name\": \"Peter Mensah\", \"order\": 27}, {\"cast_id\": 49, \"character\": \"Link Room Tech\", \"credit_id\": \"52fe48009251416c750aca9b\", \"gender\": 0, \"id\": 1207247, \"name\": \"Sonia Yee\", \"order\": 28}, {\"cast_id\": 50, \"character\": \"Basketball Avatar / Troupe\", \"credit_id\": \"52fe48009251416c750aca9f\", \"gender\": 1, \"id\": 1207248, \"name\": \"Jahnel Curfman\", \"order\": 29}, {\"cast_id\": 51, \"character\": \"Basketball Avatar\", \"credit_id\": \"52fe48009251416c750acaa3\", \"gender\": 0, \"id\": 89714, \"name\": \"Ilram Choi\", \"order\": 30}, {\"cast_id\": 52, \"character\": \"Na'vi Child\", \"credit_id\": \"52fe48009251416c750acaa7\", \"gender\": 0, \"id\": 1207249, \"name\": \"Kyla Warren\", \"order\": 31}, {\"cast_id\": 53, \"character\": \"Troupe\", \"credit_id\": \"52fe48009251416c750acaab\", \"gender\": 0, \"id\": 1207250, \"name\": \"Lisa Roumain\", \"order\": 32}, {\"cast_id\": 54, \"character\": \"Troupe\", \"credit_id\": \"52fe48009251416c750acaaf\", \"gender\": 1, \"id\": 83105, \"name\": \"Debra Wilson\", \"order\": 33}, {\"cast_id\": 57, \"character\": \"Troupe\", \"credit_id\": \"52fe48009251416c750acabb\", \"gender\": 0, \"id\": 1207253, \"name\": \"Chris Mala\", \"order\": 34}, {\"cast_id\": 55, \"character\": \"Troupe\", \"credit_id\": \"52fe48009251416c750acab3\", \"gender\": 0, \"id\": 1207251, \"name\": \"Taylor Kibby\", \"order\": 35}, {\"cast_id\": 56, \"character\": \"Troupe\", \"credit_id\": \"52fe48009251416c750acab7\", \"gender\": 0, \"id\": 1207252, \"name\": \"Jodie Landau\", \"order\": 36}, {\"cast_id\": 58, \"character\": \"Troupe\", \"credit_id\": \"52fe48009251416c750acabf\", \"gender\": 0, \"id\": 1207254, \"name\": \"Julie Lamm\", \"order\": 37}, {\"cast_id\": 59, \"character\": \"Troupe\", \"credit_id\": \"52fe48009251416c750acac3\", \"gender\": 0, \"id\": 1207257, \"name\": \"Cullen B. Madden\", \"order\": 38}, {\"cast_id\": 60, \"character\": \"Troupe\", \"credit_id\": \"52fe48009251416c750acac7\", \"gender\": 0, \"id\": 1207259, \"name\": \"Joseph Brady Madden\", \"order\": 39}, {\"cast_id\": 61, \"character\": \"Troupe\", \"credit_id\": \"52fe48009251416c750acacb\", \"gender\": 0, \"id\": 1207262, \"name\": \"Frankie Torres\", \"order\": 40}, {\"cast_id\": 62, \"character\": \"Troupe\", \"credit_id\": \"52fe48009251416c750acacf\", \"gender\": 1, \"id\": 1158600, \"name\": \"Austin Wilson\", \"order\": 41}, {\"cast_id\": 63, \"character\": \"Troupe\", \"credit_id\": \"52fe48019251416c750acad3\", \"gender\": 1, \"id\": 983705, \"name\": \"Sara Wilson\", \"order\": 42}, {\"cast_id\": 64, \"character\": \"Troupe\", \"credit_id\": \"52fe48019251416c750acad7\", \"gender\": 0, \"id\": 1207263, \"name\": \"Tamica Washington-Miller\", \"order\": 43}, {\"cast_id\": 65, \"character\": \"Op Center Staff\", \"credit_id\": \"52fe48019251416c750acadb\", \"gender\": 1, \"id\": 1145098, \"name\": \"Lucy Briant\", \"order\": 44}, {\"cast_id\": 66, \"character\": \"Op Center Staff\", \"credit_id\": \"52fe48019251416c750acadf\", \"gender\": 2, \"id\": 33305, \"name\": \"Nathan Meister\", \"order\": 45}, {\"cast_id\": 67, \"character\": \"Op Center Staff\", \"credit_id\": \"52fe48019251416c750acae3\", \"gender\": 0, \"id\": 1207264, \"name\": \"Gerry Blair\", \"order\": 46}, {\"cast_id\": 68, \"character\": \"Op Center Staff\", \"credit_id\": \"52fe48019251416c750acae7\", \"gender\": 2, \"id\": 33311, \"name\": \"Matthew Chamberlain\", \"order\": 47}, {\"cast_id\": 69, \"character\": \"Op Center Staff\", \"credit_id\": \"52fe48019251416c750acaeb\", \"gender\": 0, \"id\": 1207265, \"name\": \"Paul Yates\", \"order\": 48}, {\"cast_id\": 70, \"character\": \"Op Center Duty Officer\", \"credit_id\": \"52fe48019251416c750acaef\", \"gender\": 0, \"id\": 1207266, \"name\": \"Wray Wilson\", \"order\": 49}, {\"cast_id\": 71, \"character\": \"Op Center Staff\", \"credit_id\": \"52fe48019251416c750acaf3\", \"gender\": 2, \"id\": 54492, \"name\": \"James Gaylyn\", \"order\": 50}, {\"cast_id\": 72, \"character\": \"Dancer\", \"credit_id\": \"52fe48019251416c750acaf7\", \"gender\": 0, \"id\": 1207267, \"name\": \"Melvin Leno Clark III\", \"order\": 51}, {\"cast_id\": 73, \"character\": \"Dancer\", \"credit_id\": \"52fe48019251416c750acafb\", \"gender\": 0, \"id\": 1207268, \"name\": \"Carvon Futrell\", \"order\": 52}, {\"cast_id\": 74, \"character\": \"Dancer\", \"credit_id\": \"52fe48019251416c750acaff\", \"gender\": 0, \"id\": 1207269, \"name\": \"Brandon Jelkes\", \"order\": 53}, {\"cast_id\": 75, \"character\": \"Dancer\", \"credit_id\": \"52fe48019251416c750acb03\", \"gender\": 0, \"id\": 1207270, \"name\": \"Micah Moch\", \"order\": 54}, {\"cast_id\": 76, \"character\": \"Dancer\", \"credit_id\": \"52fe48019251416c750acb07\", \"gender\": 0, \"id\": 1207271, \"name\": \"Hanniyah Muhammad\", \"order\": 55}, {\"cast_id\": 77, \"character\": \"Dancer\", \"credit_id\": \"52fe48019251416c750acb0b\", \"gender\": 0, \"id\": 1207272, \"name\": \"Christopher Nolen\", \"order\": 56}, {\"cast_id\": 78, \"character\": \"Dancer\", \"credit_id\": \"52fe48019251416c750acb0f\", \"gender\": 0, \"id\": 1207273, \"name\": \"Christa Oliver\", \"order\": 57}, {\"cast_id\": 79, \"character\": \"Dancer\", \"credit_id\": \"52fe48019251416c750acb13\", \"gender\": 0, \"id\": 1207274, \"name\": \"April Marie Thomas\", \"order\": 58}, {\"cast_id\": 80, \"character\": \"Dancer\", \"credit_id\": \"52fe48019251416c750acb17\", \"gender\": 0, \"id\": 1207275, \"name\": \"Bravita A. Threatt\", \"order\": 59}, {\"cast_id\": 81, \"character\": \"Mining Chief (uncredited)\", \"credit_id\": \"52fe48019251416c750acb1b\", \"gender\": 0, \"id\": 1207276, \"name\": \"Colin Bleasdale\", \"order\": 60}, {\"cast_id\": 82, \"character\": \"Veteran Miner (uncredited)\", \"credit_id\": \"52fe48019251416c750acb1f\", \"gender\": 0, \"id\": 107969, \"name\": \"Mike Bodnar\", \"order\": 61}, {\"cast_id\": 83, \"character\": \"Richard (uncredited)\", \"credit_id\": \"52fe48019251416c750acb23\", \"gender\": 0, \"id\": 1207278, \"name\": \"Matt Clayton\", \"order\": 62}, {\"cast_id\": 84, \"character\": \"Nav'i (uncredited)\", \"credit_id\": \"52fe48019251416c750acb27\", \"gender\": 1, \"id\": 147898, \"name\": \"Nicole Dionne\", \"order\": 63}, {\"cast_id\": 85, \"character\": \"Trooper (uncredited)\", \"credit_id\": \"52fe48019251416c750acb2b\", \"gender\": 0, \"id\": 1207280, \"name\": \"Jamie Harrison\", \"order\": 64}, {\"cast_id\": 86, \"character\": \"Trooper (uncredited)\", \"credit_id\": \"52fe48019251416c750acb2f\", \"gender\": 0, \"id\": 1207281, \"name\": \"Allan Henry\", \"order\": 65}, {\"cast_id\": 87, \"character\": \"Ground Technician (uncredited)\", \"credit_id\": \"52fe48019251416c750acb33\", \"gender\": 2, \"id\": 1207282, \"name\": \"Anthony Ingruber\", \"order\": 66}, {\"cast_id\": 88, \"character\": \"Flight Crew Mechanic (uncredited)\", \"credit_id\": \"52fe48019251416c750acb37\", \"gender\": 0, \"id\": 1207283, \"name\": \"Ashley Jeffery\", \"order\": 67}, {\"cast_id\": 14, \"character\": \"Samson Pilot\", \"credit_id\": \"52fe48009251416c750ac9f9\", \"gender\": 0, \"id\": 98216, \"name\": \"Dean Knowsley\", \"order\": 68}, {\"cast_id\": 89, \"character\": \"Trooper (uncredited)\", \"credit_id\": \"52fe48019251416c750acb3b\", \"gender\": 0, \"id\": 1201399, \"name\": \"Joseph Mika-Hunt\", \"order\": 69}, {\"cast_id\": 90, \"character\": \"Banshee (uncredited)\", \"credit_id\": \"52fe48019251416c750acb3f\", \"gender\": 0, \"id\": 236696, \"name\": \"Terry Notary\", \"order\": 70}, {\"cast_id\": 91, \"character\": \"Soldier (uncredited)\", \"credit_id\": \"52fe48019251416c750acb43\", \"gender\": 0, \"id\": 1207287, \"name\": \"Kai Pantano\", \"order\": 71}, {\"cast_id\": 92, \"character\": \"Blast Technician (uncredited)\", \"credit_id\": \"52fe48019251416c750acb47\", \"gender\": 0, \"id\": 1207288, \"name\": \"Logan Pithyou\", \"order\": 72}, {\"cast_id\": 93, \"character\": \"Vindum Raah (uncredited)\", \"credit_id\": \"52fe48019251416c750acb4b\", \"gender\": 0, \"id\": 1207289, \"name\": \"Stuart Pollock\", \"order\": 73}, {\"cast_id\": 94, \"character\": \"Hero (uncredited)\", \"credit_id\": \"52fe48019251416c750acb4f\", \"gender\": 0, \"id\": 584868, \"name\": \"Raja\", \"order\": 74}, {\"cast_id\": 95, \"character\": \"Ops Centreworker (uncredited)\", \"credit_id\": \"52fe48019251416c750acb53\", \"gender\": 0, \"id\": 1207290, \"name\": \"Gareth Ruck\", \"order\": 75}, {\"cast_id\": 96, \"character\": \"Engineer (uncredited)\", \"credit_id\": \"52fe48019251416c750acb57\", \"gender\": 0, \"id\": 1062463, \"name\": \"Rhian Sheehan\", \"order\": 76}, {\"cast_id\": 97, \"character\": \"Col. Quaritch's Mech Suit (uncredited)\", \"credit_id\": \"52fe48019251416c750acb5b\", \"gender\": 0, \"id\": 60656, \"name\": \"T. J. Storm\", \"order\": 77}, {\"cast_id\": 98, \"character\": \"Female Marine (uncredited)\", \"credit_id\": \"52fe48019251416c750acb5f\", \"gender\": 0, \"id\": 1207291, \"name\": \"Jodie Taylor\", \"order\": 78}, {\"cast_id\": 99, \"character\": \"Ikran Clan Leader (uncredited)\", \"credit_id\": \"52fe48019251416c750acb63\", \"gender\": 1, \"id\": 1186027, \"name\": \"Alicia Vela-Bailey\", \"order\": 79}, {\"cast_id\": 100, \"character\": \"Geologist (uncredited)\", \"credit_id\": \"52fe48019251416c750acb67\", \"gender\": 0, \"id\": 1207292, \"name\": \"Richard Whiteside\", \"order\": 80}, {\"cast_id\": 101, \"character\": \"Na'vi (uncredited)\", \"credit_id\": \"52fe48019251416c750acb6b\", \"gender\": 0, \"id\": 103259, \"name\": \"Nikie Zambo\", \"order\": 81}, {\"cast_id\": 102, \"character\": \"Ambient Room Tech / Troupe\", \"credit_id\": \"52fe48019251416c750acb6f\", \"gender\": 1, \"id\": 42286, \"name\": \"Julene Renee\", \"order\": 82}]\n"
     ]
    }
   ],
   "source": [
    "print(movies['cast'].iloc[0])"
   ]
  },
  {
   "cell_type": "code",
   "execution_count": 66,
   "id": "52277871-ad25-4f56-ae6f-f3df2de73531",
   "metadata": {},
   "outputs": [],
   "source": [
    "# we select only top 3 actors of each movie\n",
    "def convert3(obj):\n",
    "    L=[]\n",
    "    counter=0\n",
    "    for i in ast.literal_eval(obj):\n",
    "        if counter!=3:\n",
    "          counter+=1\n",
    "          L.append(i['name'])\n",
    "        else:\n",
    "            break\n",
    "    return L"
   ]
  },
  {
   "cell_type": "code",
   "execution_count": 67,
   "id": "27c84545-4fd6-45df-baf6-098746aced7d",
   "metadata": {},
   "outputs": [],
   "source": [
    "movies['cast']= movies['cast'].apply(convert3)"
   ]
  },
  {
   "cell_type": "code",
   "execution_count": 68,
   "id": "d6846ef9-92cf-4652-8b4d-4a1a4aa86b8c",
   "metadata": {},
   "outputs": [
    {
     "data": {
      "text/html": [
       "<div>\n",
       "<style scoped>\n",
       "    .dataframe tbody tr th:only-of-type {\n",
       "        vertical-align: middle;\n",
       "    }\n",
       "\n",
       "    .dataframe tbody tr th {\n",
       "        vertical-align: top;\n",
       "    }\n",
       "\n",
       "    .dataframe thead th {\n",
       "        text-align: right;\n",
       "    }\n",
       "</style>\n",
       "<table border=\"1\" class=\"dataframe\">\n",
       "  <thead>\n",
       "    <tr style=\"text-align: right;\">\n",
       "      <th></th>\n",
       "      <th>movie_id</th>\n",
       "      <th>title</th>\n",
       "      <th>overview</th>\n",
       "      <th>genres</th>\n",
       "      <th>keywords</th>\n",
       "      <th>cast</th>\n",
       "      <th>crew</th>\n",
       "    </tr>\n",
       "  </thead>\n",
       "  <tbody>\n",
       "    <tr>\n",
       "      <th>0</th>\n",
       "      <td>19995</td>\n",
       "      <td>Avatar</td>\n",
       "      <td>In the 22nd century, a paraplegic Marine is di...</td>\n",
       "      <td>[Action, Adventure, Fantasy, Science Fiction]</td>\n",
       "      <td>[culture clash, future, space war, space colon...</td>\n",
       "      <td>[Sam Worthington, Zoe Saldana, Sigourney Weaver]</td>\n",
       "      <td>[{\"credit_id\": \"52fe48009251416c750aca23\", \"de...</td>\n",
       "    </tr>\n",
       "  </tbody>\n",
       "</table>\n",
       "</div>"
      ],
      "text/plain": [
       "   movie_id   title                                           overview  \\\n",
       "0     19995  Avatar  In the 22nd century, a paraplegic Marine is di...   \n",
       "\n",
       "                                          genres  \\\n",
       "0  [Action, Adventure, Fantasy, Science Fiction]   \n",
       "\n",
       "                                            keywords  \\\n",
       "0  [culture clash, future, space war, space colon...   \n",
       "\n",
       "                                               cast  \\\n",
       "0  [Sam Worthington, Zoe Saldana, Sigourney Weaver]   \n",
       "\n",
       "                                                crew  \n",
       "0  [{\"credit_id\": \"52fe48009251416c750aca23\", \"de...  "
      ]
     },
     "execution_count": 68,
     "metadata": {},
     "output_type": "execute_result"
    }
   ],
   "source": [
    "movies.head(1)"
   ]
  },
  {
   "cell_type": "code",
   "execution_count": 69,
   "id": "f7eadf6f-5850-4896-8e84-d26c318c48f1",
   "metadata": {},
   "outputs": [
    {
     "name": "stdout",
     "output_type": "stream",
     "text": [
      "[{\"credit_id\": \"52fe48009251416c750aca23\", \"department\": \"Editing\", \"gender\": 0, \"id\": 1721, \"job\": \"Editor\", \"name\": \"Stephen E. Rivkin\"}, {\"credit_id\": \"539c47ecc3a36810e3001f87\", \"department\": \"Art\", \"gender\": 2, \"id\": 496, \"job\": \"Production Design\", \"name\": \"Rick Carter\"}, {\"credit_id\": \"54491c89c3a3680fb4001cf7\", \"department\": \"Sound\", \"gender\": 0, \"id\": 900, \"job\": \"Sound Designer\", \"name\": \"Christopher Boyes\"}, {\"credit_id\": \"54491cb70e0a267480001bd0\", \"department\": \"Sound\", \"gender\": 0, \"id\": 900, \"job\": \"Supervising Sound Editor\", \"name\": \"Christopher Boyes\"}, {\"credit_id\": \"539c4a4cc3a36810c9002101\", \"department\": \"Production\", \"gender\": 1, \"id\": 1262, \"job\": \"Casting\", \"name\": \"Mali Finn\"}, {\"credit_id\": \"5544ee3b925141499f0008fc\", \"department\": \"Sound\", \"gender\": 2, \"id\": 1729, \"job\": \"Original Music Composer\", \"name\": \"James Horner\"}, {\"credit_id\": \"52fe48009251416c750ac9c3\", \"department\": \"Directing\", \"gender\": 2, \"id\": 2710, \"job\": \"Director\", \"name\": \"James Cameron\"}, {\"credit_id\": \"52fe48009251416c750ac9d9\", \"department\": \"Writing\", \"gender\": 2, \"id\": 2710, \"job\": \"Writer\", \"name\": \"James Cameron\"}, {\"credit_id\": \"52fe48009251416c750aca17\", \"department\": \"Editing\", \"gender\": 2, \"id\": 2710, \"job\": \"Editor\", \"name\": \"James Cameron\"}, {\"credit_id\": \"52fe48009251416c750aca29\", \"department\": \"Production\", \"gender\": 2, \"id\": 2710, \"job\": \"Producer\", \"name\": \"James Cameron\"}, {\"credit_id\": \"52fe48009251416c750aca3f\", \"department\": \"Writing\", \"gender\": 2, \"id\": 2710, \"job\": \"Screenplay\", \"name\": \"James Cameron\"}, {\"credit_id\": \"539c4987c3a36810ba0021a4\", \"department\": \"Art\", \"gender\": 2, \"id\": 7236, \"job\": \"Art Direction\", \"name\": \"Andrew Menzies\"}, {\"credit_id\": \"549598c3c3a3686ae9004383\", \"department\": \"Visual Effects\", \"gender\": 0, \"id\": 6690, \"job\": \"Visual Effects Producer\", \"name\": \"Jill Brooks\"}, {\"credit_id\": \"52fe48009251416c750aca4b\", \"department\": \"Production\", \"gender\": 1, \"id\": 6347, \"job\": \"Casting\", \"name\": \"Margery Simkin\"}, {\"credit_id\": \"570b6f419251417da70032fe\", \"department\": \"Art\", \"gender\": 2, \"id\": 6878, \"job\": \"Supervising Art Director\", \"name\": \"Kevin Ishioka\"}, {\"credit_id\": \"5495a0fac3a3686ae9004468\", \"department\": \"Sound\", \"gender\": 0, \"id\": 6883, \"job\": \"Music Editor\", \"name\": \"Dick Bernstein\"}, {\"credit_id\": \"54959706c3a3686af3003e81\", \"department\": \"Sound\", \"gender\": 0, \"id\": 8159, \"job\": \"Sound Effects Editor\", \"name\": \"Shannon Mills\"}, {\"credit_id\": \"54491d58c3a3680fb1001ccb\", \"department\": \"Sound\", \"gender\": 0, \"id\": 8160, \"job\": \"Foley\", \"name\": \"Dennie Thorpe\"}, {\"credit_id\": \"54491d6cc3a3680fa5001b2c\", \"department\": \"Sound\", \"gender\": 0, \"id\": 8163, \"job\": \"Foley\", \"name\": \"Jana Vance\"}, {\"credit_id\": \"52fe48009251416c750aca57\", \"department\": \"Costume & Make-Up\", \"gender\": 1, \"id\": 8527, \"job\": \"Costume Design\", \"name\": \"Deborah Lynn Scott\"}, {\"credit_id\": \"52fe48009251416c750aca2f\", \"department\": \"Production\", \"gender\": 2, \"id\": 8529, \"job\": \"Producer\", \"name\": \"Jon Landau\"}, {\"credit_id\": \"539c4937c3a36810ba002194\", \"department\": \"Art\", \"gender\": 0, \"id\": 9618, \"job\": \"Art Direction\", \"name\": \"Sean Haworth\"}, {\"credit_id\": \"539c49b6c3a36810c10020e6\", \"department\": \"Art\", \"gender\": 1, \"id\": 12653, \"job\": \"Set Decoration\", \"name\": \"Kim Sinclair\"}, {\"credit_id\": \"570b6f2f9251413a0e00020d\", \"department\": \"Art\", \"gender\": 1, \"id\": 12653, \"job\": \"Supervising Art Director\", \"name\": \"Kim Sinclair\"}, {\"credit_id\": \"54491a6c0e0a26748c001b19\", \"department\": \"Art\", \"gender\": 2, \"id\": 14350, \"job\": \"Set Designer\", \"name\": \"Richard F. Mays\"}, {\"credit_id\": \"56928cf4c3a3684cff0025c4\", \"department\": \"Production\", \"gender\": 1, \"id\": 20294, \"job\": \"Executive Producer\", \"name\": \"Laeta Kalogridis\"}, {\"credit_id\": \"52fe48009251416c750aca51\", \"department\": \"Costume & Make-Up\", \"gender\": 0, \"id\": 17675, \"job\": \"Costume Design\", \"name\": \"Mayes C. Rubeo\"}, {\"credit_id\": \"52fe48009251416c750aca11\", \"department\": \"Camera\", \"gender\": 2, \"id\": 18265, \"job\": \"Director of Photography\", \"name\": \"Mauro Fiore\"}, {\"credit_id\": \"5449194d0e0a26748f001b39\", \"department\": \"Art\", \"gender\": 0, \"id\": 42281, \"job\": \"Set Designer\", \"name\": \"Scott Herbertson\"}, {\"credit_id\": \"52fe48009251416c750aca05\", \"department\": \"Crew\", \"gender\": 0, \"id\": 42288, \"job\": \"Stunts\", \"name\": \"Woody Schultz\"}, {\"credit_id\": \"5592aefb92514152de0010f5\", \"department\": \"Costume & Make-Up\", \"gender\": 0, \"id\": 29067, \"job\": \"Makeup Artist\", \"name\": \"Linda DeVetta\"}, {\"credit_id\": \"5592afa492514152de00112c\", \"department\": \"Costume & Make-Up\", \"gender\": 0, \"id\": 29067, \"job\": \"Hairstylist\", \"name\": \"Linda DeVetta\"}, {\"credit_id\": \"54959ed592514130fc002e5d\", \"department\": \"Camera\", \"gender\": 2, \"id\": 33302, \"job\": \"Camera Operator\", \"name\": \"Richard Bluck\"}, {\"credit_id\": \"539c4891c3a36810ba002147\", \"department\": \"Art\", \"gender\": 2, \"id\": 33303, \"job\": \"Art Direction\", \"name\": \"Simon Bright\"}, {\"credit_id\": \"54959c069251417a81001f3a\", \"department\": \"Visual Effects\", \"gender\": 0, \"id\": 113145, \"job\": \"Visual Effects Supervisor\", \"name\": \"Richard Martin\"}, {\"credit_id\": \"54959a0dc3a3680ff5002c8d\", \"department\": \"Crew\", \"gender\": 2, \"id\": 58188, \"job\": \"Visual Effects Editor\", \"name\": \"Steve R. Moore\"}, {\"credit_id\": \"52fe48009251416c750aca1d\", \"department\": \"Editing\", \"gender\": 2, \"id\": 58871, \"job\": \"Editor\", \"name\": \"John Refoua\"}, {\"credit_id\": \"54491a4dc3a3680fc30018ca\", \"department\": \"Art\", \"gender\": 0, \"id\": 92359, \"job\": \"Set Designer\", \"name\": \"Karl J. Martin\"}, {\"credit_id\": \"52fe48009251416c750aca35\", \"department\": \"Camera\", \"gender\": 1, \"id\": 72201, \"job\": \"Director of Photography\", \"name\": \"Chiling Lin\"}, {\"credit_id\": \"52fe48009251416c750ac9ff\", \"department\": \"Crew\", \"gender\": 0, \"id\": 89714, \"job\": \"Stunts\", \"name\": \"Ilram Choi\"}, {\"credit_id\": \"54959c529251416e2b004394\", \"department\": \"Visual Effects\", \"gender\": 2, \"id\": 93214, \"job\": \"Visual Effects Supervisor\", \"name\": \"Steven Quale\"}, {\"credit_id\": \"54491edf0e0a267489001c37\", \"department\": \"Crew\", \"gender\": 1, \"id\": 122607, \"job\": \"Dialect Coach\", \"name\": \"Carla Meyer\"}, {\"credit_id\": \"539c485bc3a368653d001a3a\", \"department\": \"Art\", \"gender\": 2, \"id\": 132585, \"job\": \"Art Direction\", \"name\": \"Nick Bassett\"}, {\"credit_id\": \"539c4903c3a368653d001a74\", \"department\": \"Art\", \"gender\": 0, \"id\": 132596, \"job\": \"Art Direction\", \"name\": \"Jill Cormack\"}, {\"credit_id\": \"539c4967c3a368653d001a94\", \"department\": \"Art\", \"gender\": 0, \"id\": 132604, \"job\": \"Art Direction\", \"name\": \"Andy McLaren\"}, {\"credit_id\": \"52fe48009251416c750aca45\", \"department\": \"Crew\", \"gender\": 0, \"id\": 236696, \"job\": \"Motion Capture Artist\", \"name\": \"Terry Notary\"}, {\"credit_id\": \"54959e02c3a3680fc60027d2\", \"department\": \"Crew\", \"gender\": 2, \"id\": 956198, \"job\": \"Stunt Coordinator\", \"name\": \"Garrett Warren\"}, {\"credit_id\": \"54959ca3c3a3686ae300438c\", \"department\": \"Visual Effects\", \"gender\": 2, \"id\": 957874, \"job\": \"Visual Effects Supervisor\", \"name\": \"Jonathan Rothbart\"}, {\"credit_id\": \"570b6f519251412c74001b2f\", \"department\": \"Art\", \"gender\": 0, \"id\": 957889, \"job\": \"Supervising Art Director\", \"name\": \"Stefan Dechant\"}, {\"credit_id\": \"570b6f62c3a3680b77007460\", \"department\": \"Art\", \"gender\": 2, \"id\": 959555, \"job\": \"Supervising Art Director\", \"name\": \"Todd Cherniawsky\"}, {\"credit_id\": \"539c4a3ac3a36810da0021cc\", \"department\": \"Production\", \"gender\": 0, \"id\": 1016177, \"job\": \"Casting\", \"name\": \"Miranda Rivers\"}, {\"credit_id\": \"539c482cc3a36810c1002062\", \"department\": \"Art\", \"gender\": 0, \"id\": 1032536, \"job\": \"Production Design\", \"name\": \"Robert Stromberg\"}, {\"credit_id\": \"539c4b65c3a36810c9002125\", \"department\": \"Costume & Make-Up\", \"gender\": 2, \"id\": 1071680, \"job\": \"Costume Design\", \"name\": \"John Harding\"}, {\"credit_id\": \"54959e6692514130fc002e4e\", \"department\": \"Camera\", \"gender\": 0, \"id\": 1177364, \"job\": \"Steadicam Operator\", \"name\": \"Roberto De Angelis\"}, {\"credit_id\": \"539c49f1c3a368653d001aac\", \"department\": \"Costume & Make-Up\", \"gender\": 2, \"id\": 1202850, \"job\": \"Makeup Department Head\", \"name\": \"Mike Smithson\"}, {\"credit_id\": \"5495999ec3a3686ae100460c\", \"department\": \"Visual Effects\", \"gender\": 0, \"id\": 1204668, \"job\": \"Visual Effects Producer\", \"name\": \"Alain Lalanne\"}, {\"credit_id\": \"54959cdfc3a3681153002729\", \"department\": \"Visual Effects\", \"gender\": 0, \"id\": 1206410, \"job\": \"Visual Effects Supervisor\", \"name\": \"Lucas Salton\"}, {\"credit_id\": \"549596239251417a81001eae\", \"department\": \"Crew\", \"gender\": 0, \"id\": 1234266, \"job\": \"Post Production Supervisor\", \"name\": \"Janace Tashjian\"}, {\"credit_id\": \"54959c859251416e1e003efe\", \"department\": \"Visual Effects\", \"gender\": 0, \"id\": 1271932, \"job\": \"Visual Effects Supervisor\", \"name\": \"Stephen Rosenbaum\"}, {\"credit_id\": \"5592af28c3a368775a00105f\", \"department\": \"Costume & Make-Up\", \"gender\": 0, \"id\": 1310064, \"job\": \"Makeup Artist\", \"name\": \"Frankie Karena\"}, {\"credit_id\": \"539c4adfc3a36810e300203b\", \"department\": \"Costume & Make-Up\", \"gender\": 1, \"id\": 1319844, \"job\": \"Costume Supervisor\", \"name\": \"Lisa Lovaas\"}, {\"credit_id\": \"54959b579251416e2b004371\", \"department\": \"Visual Effects\", \"gender\": 0, \"id\": 1327028, \"job\": \"Visual Effects Supervisor\", \"name\": \"Jonathan Fawkner\"}, {\"credit_id\": \"539c48a7c3a36810b5001fa7\", \"department\": \"Art\", \"gender\": 0, \"id\": 1330561, \"job\": \"Art Direction\", \"name\": \"Robert Bavin\"}, {\"credit_id\": \"539c4a71c3a36810da0021e0\", \"department\": \"Costume & Make-Up\", \"gender\": 0, \"id\": 1330567, \"job\": \"Costume Supervisor\", \"name\": \"Anthony Almaraz\"}, {\"credit_id\": \"539c4a8ac3a36810ba0021e4\", \"department\": \"Costume & Make-Up\", \"gender\": 0, \"id\": 1330570, \"job\": \"Costume Supervisor\", \"name\": \"Carolyn M. Fenton\"}, {\"credit_id\": \"539c4ab6c3a36810da0021f0\", \"department\": \"Costume & Make-Up\", \"gender\": 0, \"id\": 1330574, \"job\": \"Costume Supervisor\", \"name\": \"Beth Koenigsberg\"}, {\"credit_id\": \"54491ab70e0a267480001ba2\", \"department\": \"Art\", \"gender\": 0, \"id\": 1336191, \"job\": \"Set Designer\", \"name\": \"Sam Page\"}, {\"credit_id\": \"544919d9c3a3680fc30018bd\", \"department\": \"Art\", \"gender\": 0, \"id\": 1339441, \"job\": \"Set Designer\", \"name\": \"Tex Kadonaga\"}, {\"credit_id\": \"54491cf50e0a267483001b0c\", \"department\": \"Editing\", \"gender\": 0, \"id\": 1352422, \"job\": \"Dialogue Editor\", \"name\": \"Kim Foscato\"}, {\"credit_id\": \"544919f40e0a26748c001b09\", \"department\": \"Art\", \"gender\": 0, \"id\": 1352962, \"job\": \"Set Designer\", \"name\": \"Tammy S. Lee\"}, {\"credit_id\": \"5495a115c3a3680ff5002d71\", \"department\": \"Crew\", \"gender\": 0, \"id\": 1357070, \"job\": \"Transportation Coordinator\", \"name\": \"Denny Caira\"}, {\"credit_id\": \"5495a12f92514130fc002e94\", \"department\": \"Crew\", \"gender\": 0, \"id\": 1357071, \"job\": \"Transportation Coordinator\", \"name\": \"James Waitkus\"}, {\"credit_id\": \"5495976fc3a36811530026b0\", \"department\": \"Sound\", \"gender\": 0, \"id\": 1360103, \"job\": \"Supervising Sound Editor\", \"name\": \"Addison Teague\"}, {\"credit_id\": \"54491837c3a3680fb1001c5a\", \"department\": \"Art\", \"gender\": 2, \"id\": 1376887, \"job\": \"Set Designer\", \"name\": \"C. Scott Baker\"}, {\"credit_id\": \"54491878c3a3680fb4001c9d\", \"department\": \"Art\", \"gender\": 0, \"id\": 1376888, \"job\": \"Set Designer\", \"name\": \"Luke Caska\"}, {\"credit_id\": \"544918dac3a3680fa5001ae0\", \"department\": \"Art\", \"gender\": 0, \"id\": 1376889, \"job\": \"Set Designer\", \"name\": \"David Chow\"}, {\"credit_id\": \"544919110e0a267486001b68\", \"department\": \"Art\", \"gender\": 0, \"id\": 1376890, \"job\": \"Set Designer\", \"name\": \"Jonathan Dyer\"}, {\"credit_id\": \"54491967c3a3680faa001b5e\", \"department\": \"Art\", \"gender\": 0, \"id\": 1376891, \"job\": \"Set Designer\", \"name\": \"Joseph Hiura\"}, {\"credit_id\": \"54491997c3a3680fb1001c8a\", \"department\": \"Art\", \"gender\": 0, \"id\": 1376892, \"job\": \"Art Department Coordinator\", \"name\": \"Rebecca Jellie\"}, {\"credit_id\": \"544919ba0e0a26748f001b42\", \"department\": \"Art\", \"gender\": 0, \"id\": 1376893, \"job\": \"Set Designer\", \"name\": \"Robert Andrew Johnson\"}, {\"credit_id\": \"54491b1dc3a3680faa001b8c\", \"department\": \"Art\", \"gender\": 0, \"id\": 1376895, \"job\": \"Assistant Art Director\", \"name\": \"Mike Stassi\"}, {\"credit_id\": \"54491b79c3a3680fbb001826\", \"department\": \"Art\", \"gender\": 0, \"id\": 1376897, \"job\": \"Construction Coordinator\", \"name\": \"John Villarino\"}, {\"credit_id\": \"54491baec3a3680fb4001ce6\", \"department\": \"Art\", \"gender\": 2, \"id\": 1376898, \"job\": \"Assistant Art Director\", \"name\": \"Jeffrey Wisniewski\"}, {\"credit_id\": \"54491d2fc3a3680fb4001d07\", \"department\": \"Editing\", \"gender\": 0, \"id\": 1376899, \"job\": \"Dialogue Editor\", \"name\": \"Cheryl Nardi\"}, {\"credit_id\": \"54491d86c3a3680fa5001b2f\", \"department\": \"Editing\", \"gender\": 0, \"id\": 1376901, \"job\": \"Dialogue Editor\", \"name\": \"Marshall Winn\"}, {\"credit_id\": \"54491d9dc3a3680faa001bb0\", \"department\": \"Sound\", \"gender\": 0, \"id\": 1376902, \"job\": \"Supervising Sound Editor\", \"name\": \"Gwendolyn Yates Whittle\"}, {\"credit_id\": \"54491dc10e0a267486001bce\", \"department\": \"Sound\", \"gender\": 0, \"id\": 1376903, \"job\": \"Sound Re-Recording Mixer\", \"name\": \"William Stein\"}, {\"credit_id\": \"54491f500e0a26747c001c07\", \"department\": \"Crew\", \"gender\": 0, \"id\": 1376909, \"job\": \"Choreographer\", \"name\": \"Lula Washington\"}, {\"credit_id\": \"549599239251412c4e002a2e\", \"department\": \"Visual Effects\", \"gender\": 0, \"id\": 1391692, \"job\": \"Visual Effects Producer\", \"name\": \"Chris Del Conte\"}, {\"credit_id\": \"54959d54c3a36831b8001d9a\", \"department\": \"Visual Effects\", \"gender\": 2, \"id\": 1391695, \"job\": \"Visual Effects Supervisor\", \"name\": \"R. Christopher White\"}, {\"credit_id\": \"54959bdf9251412c4e002a66\", \"department\": \"Visual Effects\", \"gender\": 0, \"id\": 1394070, \"job\": \"Visual Effects Supervisor\", \"name\": \"Dan Lemmon\"}, {\"credit_id\": \"5495971d92514132ed002922\", \"department\": \"Sound\", \"gender\": 0, \"id\": 1394129, \"job\": \"Sound Effects Editor\", \"name\": \"Tim Nielsen\"}, {\"credit_id\": \"5592b25792514152cc0011aa\", \"department\": \"Crew\", \"gender\": 0, \"id\": 1394286, \"job\": \"CG Supervisor\", \"name\": \"Michael Mulholland\"}, {\"credit_id\": \"54959a329251416e2b004355\", \"department\": \"Crew\", \"gender\": 0, \"id\": 1394750, \"job\": \"Visual Effects Editor\", \"name\": \"Thomas Nittmann\"}, {\"credit_id\": \"54959d6dc3a3686ae9004401\", \"department\": \"Visual Effects\", \"gender\": 0, \"id\": 1394755, \"job\": \"Visual Effects Supervisor\", \"name\": \"Edson Williams\"}, {\"credit_id\": \"5495a08fc3a3686ae300441c\", \"department\": \"Editing\", \"gender\": 0, \"id\": 1394953, \"job\": \"Digital Intermediate\", \"name\": \"Christine Carr\"}, {\"credit_id\": \"55402d659251413d6d000249\", \"department\": \"Visual Effects\", \"gender\": 0, \"id\": 1395269, \"job\": \"Visual Effects Supervisor\", \"name\": \"John Bruno\"}, {\"credit_id\": \"54959e7b9251416e1e003f3e\", \"department\": \"Camera\", \"gender\": 0, \"id\": 1398970, \"job\": \"Steadicam Operator\", \"name\": \"David Emmerichs\"}, {\"credit_id\": \"54959734c3a3686ae10045e0\", \"department\": \"Sound\", \"gender\": 0, \"id\": 1400906, \"job\": \"Sound Effects Editor\", \"name\": \"Christopher Scarabosio\"}, {\"credit_id\": \"549595dd92514130fc002d79\", \"department\": \"Production\", \"gender\": 0, \"id\": 1401784, \"job\": \"Production Supervisor\", \"name\": \"Jennifer Teves\"}, {\"credit_id\": \"549596009251413af70028cc\", \"department\": \"Production\", \"gender\": 0, \"id\": 1401785, \"job\": \"Production Manager\", \"name\": \"Brigitte Yorke\"}, {\"credit_id\": \"549596e892514130fc002d99\", \"department\": \"Sound\", \"gender\": 0, \"id\": 1401786, \"job\": \"Sound Effects Editor\", \"name\": \"Ken Fischer\"}, {\"credit_id\": \"549598229251412c4e002a1c\", \"department\": \"Crew\", \"gender\": 0, \"id\": 1401787, \"job\": \"Special Effects Coordinator\", \"name\": \"Iain Hutton\"}, {\"credit_id\": \"549598349251416e2b00432b\", \"department\": \"Crew\", \"gender\": 0, \"id\": 1401788, \"job\": \"Special Effects Coordinator\", \"name\": \"Steve Ingram\"}, {\"credit_id\": \"54959905c3a3686ae3004324\", \"department\": \"Visual Effects\", \"gender\": 0, \"id\": 1401789, \"job\": \"Visual Effects Producer\", \"name\": \"Joyce Cox\"}, {\"credit_id\": \"5495994b92514132ed002951\", \"department\": \"Visual Effects\", \"gender\": 0, \"id\": 1401790, \"job\": \"Visual Effects Producer\", \"name\": \"Jenny Foster\"}, {\"credit_id\": \"549599cbc3a3686ae1004613\", \"department\": \"Crew\", \"gender\": 0, \"id\": 1401791, \"job\": \"Visual Effects Editor\", \"name\": \"Christopher Marino\"}, {\"credit_id\": \"549599f2c3a3686ae100461e\", \"department\": \"Crew\", \"gender\": 0, \"id\": 1401792, \"job\": \"Visual Effects Editor\", \"name\": \"Jim Milton\"}, {\"credit_id\": \"54959a51c3a3686af3003eb5\", \"department\": \"Visual Effects\", \"gender\": 0, \"id\": 1401793, \"job\": \"Visual Effects Producer\", \"name\": \"Cyndi Ochs\"}, {\"credit_id\": \"54959a7cc3a36811530026f4\", \"department\": \"Crew\", \"gender\": 0, \"id\": 1401794, \"job\": \"Visual Effects Editor\", \"name\": \"Lucas Putnam\"}, {\"credit_id\": \"54959b91c3a3680ff5002cb4\", \"department\": \"Visual Effects\", \"gender\": 0, \"id\": 1401795, \"job\": \"Visual Effects Supervisor\", \"name\": \"Anthony 'Max' Ivins\"}, {\"credit_id\": \"54959bb69251412c4e002a5f\", \"department\": \"Visual Effects\", \"gender\": 0, \"id\": 1401796, \"job\": \"Visual Effects Supervisor\", \"name\": \"John Knoll\"}, {\"credit_id\": \"54959cbbc3a3686ae3004391\", \"department\": \"Visual Effects\", \"gender\": 2, \"id\": 1401799, \"job\": \"Visual Effects Supervisor\", \"name\": \"Eric Saindon\"}, {\"credit_id\": \"54959d06c3a3686ae90043f6\", \"department\": \"Visual Effects\", \"gender\": 0, \"id\": 1401800, \"job\": \"Visual Effects Supervisor\", \"name\": \"Wayne Stables\"}, {\"credit_id\": \"54959d259251416e1e003f11\", \"department\": \"Visual Effects\", \"gender\": 0, \"id\": 1401801, \"job\": \"Visual Effects Supervisor\", \"name\": \"David Stinnett\"}, {\"credit_id\": \"54959db49251413af7002975\", \"department\": \"Visual Effects\", \"gender\": 0, \"id\": 1401803, \"job\": \"Visual Effects Supervisor\", \"name\": \"Guy Williams\"}, {\"credit_id\": \"54959de4c3a3681153002750\", \"department\": \"Crew\", \"gender\": 0, \"id\": 1401804, \"job\": \"Stunt Coordinator\", \"name\": \"Stuart Thorp\"}, {\"credit_id\": \"54959ef2c3a3680fc60027f2\", \"department\": \"Lighting\", \"gender\": 0, \"id\": 1401805, \"job\": \"Best Boy Electric\", \"name\": \"Giles Coburn\"}, {\"credit_id\": \"54959f07c3a3680fc60027f9\", \"department\": \"Camera\", \"gender\": 2, \"id\": 1401806, \"job\": \"Still Photographer\", \"name\": \"Mark Fellman\"}, {\"credit_id\": \"54959f47c3a3681153002774\", \"department\": \"Lighting\", \"gender\": 0, \"id\": 1401807, \"job\": \"Lighting Technician\", \"name\": \"Scott Sprague\"}, {\"credit_id\": \"54959f8cc3a36831b8001df2\", \"department\": \"Visual Effects\", \"gender\": 0, \"id\": 1401808, \"job\": \"Animation Director\", \"name\": \"Jeremy Hollobon\"}, {\"credit_id\": \"54959fa0c3a36831b8001dfb\", \"department\": \"Visual Effects\", \"gender\": 0, \"id\": 1401809, \"job\": \"Animation Director\", \"name\": \"Orlando Meunier\"}, {\"credit_id\": \"54959fb6c3a3686af3003f54\", \"department\": \"Visual Effects\", \"gender\": 0, \"id\": 1401810, \"job\": \"Animation Director\", \"name\": \"Taisuke Tanimura\"}, {\"credit_id\": \"54959fd2c3a36831b8001e02\", \"department\": \"Costume & Make-Up\", \"gender\": 0, \"id\": 1401812, \"job\": \"Set Costumer\", \"name\": \"Lilia Mishel Acevedo\"}, {\"credit_id\": \"54959ff9c3a3686ae300440c\", \"department\": \"Costume & Make-Up\", \"gender\": 0, \"id\": 1401814, \"job\": \"Set Costumer\", \"name\": \"Alejandro M. Hernandez\"}, {\"credit_id\": \"5495a0ddc3a3686ae10046fe\", \"department\": \"Editing\", \"gender\": 0, \"id\": 1401815, \"job\": \"Digital Intermediate\", \"name\": \"Marvin Hall\"}, {\"credit_id\": \"5495a1f7c3a3686ae3004443\", \"department\": \"Production\", \"gender\": 0, \"id\": 1401816, \"job\": \"Publicist\", \"name\": \"Judy Alley\"}, {\"credit_id\": \"5592b29fc3a36869d100002f\", \"department\": \"Crew\", \"gender\": 0, \"id\": 1418381, \"job\": \"CG Supervisor\", \"name\": \"Mike Perry\"}, {\"credit_id\": \"5592b23a9251415df8001081\", \"department\": \"Crew\", \"gender\": 0, \"id\": 1426854, \"job\": \"CG Supervisor\", \"name\": \"Andrew Morley\"}, {\"credit_id\": \"55491e1192514104c40002d8\", \"department\": \"Art\", \"gender\": 0, \"id\": 1438901, \"job\": \"Conceptual Design\", \"name\": \"Seth Engstrom\"}, {\"credit_id\": \"5525d5809251417276002b06\", \"department\": \"Crew\", \"gender\": 0, \"id\": 1447362, \"job\": \"Visual Effects Art Director\", \"name\": \"Eric Oliver\"}, {\"credit_id\": \"554427ca925141586500312a\", \"department\": \"Visual Effects\", \"gender\": 0, \"id\": 1447503, \"job\": \"Modeling\", \"name\": \"Matsune Suzuki\"}, {\"credit_id\": \"551906889251415aab001c88\", \"department\": \"Art\", \"gender\": 0, \"id\": 1447524, \"job\": \"Art Department Manager\", \"name\": \"Paul Tobin\"}, {\"credit_id\": \"5592af8492514152cc0010de\", \"department\": \"Costume & Make-Up\", \"gender\": 0, \"id\": 1452643, \"job\": \"Hairstylist\", \"name\": \"Roxane Griffin\"}, {\"credit_id\": \"553d3c109251415852001318\", \"department\": \"Lighting\", \"gender\": 0, \"id\": 1453938, \"job\": \"Lighting Artist\", \"name\": \"Arun Ram-Mohan\"}, {\"credit_id\": \"5592af4692514152d5001355\", \"department\": \"Costume & Make-Up\", \"gender\": 0, \"id\": 1457305, \"job\": \"Makeup Artist\", \"name\": \"Georgia Lockhart-Adams\"}, {\"credit_id\": \"5592b2eac3a36877470012a5\", \"department\": \"Crew\", \"gender\": 0, \"id\": 1466035, \"job\": \"CG Supervisor\", \"name\": \"Thrain Shadbolt\"}, {\"credit_id\": \"5592b032c3a36877450015f1\", \"department\": \"Crew\", \"gender\": 0, \"id\": 1483220, \"job\": \"CG Supervisor\", \"name\": \"Brad Alexander\"}, {\"credit_id\": \"5592b05592514152d80012f6\", \"department\": \"Crew\", \"gender\": 0, \"id\": 1483221, \"job\": \"CG Supervisor\", \"name\": \"Shadi Almassizadeh\"}, {\"credit_id\": \"5592b090c3a36877570010b5\", \"department\": \"Crew\", \"gender\": 0, \"id\": 1483222, \"job\": \"CG Supervisor\", \"name\": \"Simon Clutterbuck\"}, {\"credit_id\": \"5592b0dbc3a368774b00112c\", \"department\": \"Crew\", \"gender\": 0, \"id\": 1483223, \"job\": \"CG Supervisor\", \"name\": \"Graeme Demmocks\"}, {\"credit_id\": \"5592b0fe92514152db0010c1\", \"department\": \"Crew\", \"gender\": 0, \"id\": 1483224, \"job\": \"CG Supervisor\", \"name\": \"Adrian Fernandes\"}, {\"credit_id\": \"5592b11f9251415df8001059\", \"department\": \"Crew\", \"gender\": 0, \"id\": 1483225, \"job\": \"CG Supervisor\", \"name\": \"Mitch Gates\"}, {\"credit_id\": \"5592b15dc3a3687745001645\", \"department\": \"Crew\", \"gender\": 0, \"id\": 1483226, \"job\": \"CG Supervisor\", \"name\": \"Jerry Kung\"}, {\"credit_id\": \"5592b18e925141645a0004ae\", \"department\": \"Crew\", \"gender\": 0, \"id\": 1483227, \"job\": \"CG Supervisor\", \"name\": \"Andy Lomas\"}, {\"credit_id\": \"5592b1bfc3a368775d0010e7\", \"department\": \"Crew\", \"gender\": 0, \"id\": 1483228, \"job\": \"CG Supervisor\", \"name\": \"Sebastian Marino\"}, {\"credit_id\": \"5592b2049251415df8001078\", \"department\": \"Crew\", \"gender\": 0, \"id\": 1483229, \"job\": \"CG Supervisor\", \"name\": \"Matthias Menz\"}, {\"credit_id\": \"5592b27b92514152d800136a\", \"department\": \"Crew\", \"gender\": 0, \"id\": 1483230, \"job\": \"CG Supervisor\", \"name\": \"Sergei Nevshupov\"}, {\"credit_id\": \"5592b2c3c3a36869e800003c\", \"department\": \"Crew\", \"gender\": 0, \"id\": 1483231, \"job\": \"CG Supervisor\", \"name\": \"Philippe Rebours\"}, {\"credit_id\": \"5592b317c3a36877470012af\", \"department\": \"Crew\", \"gender\": 0, \"id\": 1483232, \"job\": \"CG Supervisor\", \"name\": \"Michael Takarangi\"}, {\"credit_id\": \"5592b345c3a36877470012bb\", \"department\": \"Crew\", \"gender\": 0, \"id\": 1483233, \"job\": \"CG Supervisor\", \"name\": \"David Weitzberg\"}, {\"credit_id\": \"5592b37cc3a368775100113b\", \"department\": \"Crew\", \"gender\": 0, \"id\": 1483234, \"job\": \"CG Supervisor\", \"name\": \"Ben White\"}, {\"credit_id\": \"573c8e2f9251413f5d000094\", \"department\": \"Crew\", \"gender\": 1, \"id\": 1621932, \"job\": \"Stunts\", \"name\": \"Min Windle\"}]\n"
     ]
    }
   ],
   "source": [
    "print(movies.iloc[0].crew)"
   ]
  },
  {
   "cell_type": "code",
   "execution_count": 70,
   "id": "0cfe38b0-d3e8-49a9-b2ae-c0f15611d656",
   "metadata": {},
   "outputs": [],
   "source": [
    "import ast\n",
    "def fetch_dir(obj):\n",
    "    L=[]\n",
    "    for i in ast.literal_eval(obj):\n",
    "        if i['job']=='Director':\n",
    "          L.append(i['name'])\n",
    "          break\n",
    "    return L"
   ]
  },
  {
   "cell_type": "code",
   "execution_count": 72,
   "id": "5dc3474e-2334-416d-8968-d055ab72dc00",
   "metadata": {},
   "outputs": [],
   "source": [
    "movies['crew']= movies['crew'].apply(fetch_dir)"
   ]
  },
  {
   "cell_type": "code",
   "execution_count": 73,
   "id": "52c7dc25-f0f6-417d-a32f-7dddb9187179",
   "metadata": {},
   "outputs": [
    {
     "data": {
      "text/html": [
       "<div>\n",
       "<style scoped>\n",
       "    .dataframe tbody tr th:only-of-type {\n",
       "        vertical-align: middle;\n",
       "    }\n",
       "\n",
       "    .dataframe tbody tr th {\n",
       "        vertical-align: top;\n",
       "    }\n",
       "\n",
       "    .dataframe thead th {\n",
       "        text-align: right;\n",
       "    }\n",
       "</style>\n",
       "<table border=\"1\" class=\"dataframe\">\n",
       "  <thead>\n",
       "    <tr style=\"text-align: right;\">\n",
       "      <th></th>\n",
       "      <th>movie_id</th>\n",
       "      <th>title</th>\n",
       "      <th>overview</th>\n",
       "      <th>genres</th>\n",
       "      <th>keywords</th>\n",
       "      <th>cast</th>\n",
       "      <th>crew</th>\n",
       "    </tr>\n",
       "  </thead>\n",
       "  <tbody>\n",
       "    <tr>\n",
       "      <th>0</th>\n",
       "      <td>19995</td>\n",
       "      <td>Avatar</td>\n",
       "      <td>In the 22nd century, a paraplegic Marine is di...</td>\n",
       "      <td>[Action, Adventure, Fantasy, Science Fiction]</td>\n",
       "      <td>[culture clash, future, space war, space colon...</td>\n",
       "      <td>[Sam Worthington, Zoe Saldana, Sigourney Weaver]</td>\n",
       "      <td>[James Cameron]</td>\n",
       "    </tr>\n",
       "  </tbody>\n",
       "</table>\n",
       "</div>"
      ],
      "text/plain": [
       "   movie_id   title                                           overview  \\\n",
       "0     19995  Avatar  In the 22nd century, a paraplegic Marine is di...   \n",
       "\n",
       "                                          genres  \\\n",
       "0  [Action, Adventure, Fantasy, Science Fiction]   \n",
       "\n",
       "                                            keywords  \\\n",
       "0  [culture clash, future, space war, space colon...   \n",
       "\n",
       "                                               cast             crew  \n",
       "0  [Sam Worthington, Zoe Saldana, Sigourney Weaver]  [James Cameron]  "
      ]
     },
     "execution_count": 73,
     "metadata": {},
     "output_type": "execute_result"
    }
   ],
   "source": [
    "movies.head(1)"
   ]
  },
  {
   "cell_type": "code",
   "execution_count": 74,
   "id": "e6fd96ef-7cda-446d-b94e-d43cac96a1a2",
   "metadata": {},
   "outputs": [
    {
     "data": {
      "text/plain": [
       "'In the 22nd century, a paraplegic Marine is dispatched to the moon Pandora on a unique mission, but becomes torn between following orders and protecting an alien civilization.'"
      ]
     },
     "execution_count": 74,
     "metadata": {},
     "output_type": "execute_result"
    }
   ],
   "source": [
    "movies['overview'][0]"
   ]
  },
  {
   "cell_type": "code",
   "execution_count": 76,
   "id": "94f4b9bf-f1a0-454e-a7ee-d541d958d5f7",
   "metadata": {},
   "outputs": [],
   "source": [
    "movies['overview']=movies['overview'].apply(lambda x: x.split())"
   ]
  },
  {
   "cell_type": "code",
   "execution_count": 77,
   "id": "7dd1f8ae-945c-4a14-a1fb-f178256015cd",
   "metadata": {},
   "outputs": [
    {
     "data": {
      "text/html": [
       "<div>\n",
       "<style scoped>\n",
       "    .dataframe tbody tr th:only-of-type {\n",
       "        vertical-align: middle;\n",
       "    }\n",
       "\n",
       "    .dataframe tbody tr th {\n",
       "        vertical-align: top;\n",
       "    }\n",
       "\n",
       "    .dataframe thead th {\n",
       "        text-align: right;\n",
       "    }\n",
       "</style>\n",
       "<table border=\"1\" class=\"dataframe\">\n",
       "  <thead>\n",
       "    <tr style=\"text-align: right;\">\n",
       "      <th></th>\n",
       "      <th>movie_id</th>\n",
       "      <th>title</th>\n",
       "      <th>overview</th>\n",
       "      <th>genres</th>\n",
       "      <th>keywords</th>\n",
       "      <th>cast</th>\n",
       "      <th>crew</th>\n",
       "    </tr>\n",
       "  </thead>\n",
       "  <tbody>\n",
       "    <tr>\n",
       "      <th>0</th>\n",
       "      <td>19995</td>\n",
       "      <td>Avatar</td>\n",
       "      <td>[In, the, 22nd, century,, a, paraplegic, Marin...</td>\n",
       "      <td>[Action, Adventure, Fantasy, Science Fiction]</td>\n",
       "      <td>[culture clash, future, space war, space colon...</td>\n",
       "      <td>[Sam Worthington, Zoe Saldana, Sigourney Weaver]</td>\n",
       "      <td>[James Cameron]</td>\n",
       "    </tr>\n",
       "  </tbody>\n",
       "</table>\n",
       "</div>"
      ],
      "text/plain": [
       "   movie_id   title                                           overview  \\\n",
       "0     19995  Avatar  [In, the, 22nd, century,, a, paraplegic, Marin...   \n",
       "\n",
       "                                          genres  \\\n",
       "0  [Action, Adventure, Fantasy, Science Fiction]   \n",
       "\n",
       "                                            keywords  \\\n",
       "0  [culture clash, future, space war, space colon...   \n",
       "\n",
       "                                               cast             crew  \n",
       "0  [Sam Worthington, Zoe Saldana, Sigourney Weaver]  [James Cameron]  "
      ]
     },
     "execution_count": 77,
     "metadata": {},
     "output_type": "execute_result"
    }
   ],
   "source": [
    "movies.head(1)"
   ]
  },
  {
   "cell_type": "code",
   "execution_count": 78,
   "id": "dd86af9b-fca6-4177-89ad-01ecd4c2e789",
   "metadata": {},
   "outputs": [],
   "source": [
    "# next step is to remove all spaces bw the names and make it as single word.\n",
    "# ex: 'Sam Worthington'  should be converted to 'SamWorthington'"
   ]
  },
  {
   "cell_type": "code",
   "execution_count": 79,
   "id": "5ea75981-25c0-4c68-b5bf-b63f381199ce",
   "metadata": {},
   "outputs": [],
   "source": [
    "movies['genres'] = movies['genres'].apply(lambda x: [i.replace(\" \", \"\") for i in x])\n",
    "movies['keywords'] = movies['keywords'].apply(lambda x: [i.replace(\" \", \"\") for i in x])\n",
    "movies['cast'] = movies['cast'].apply(lambda x: [i.replace(\" \", \"\") for i in x])\n",
    "movies['crew'] = movies['crew'].apply(lambda x: [i.replace(\" \", \"\") for i in x])"
   ]
  },
  {
   "cell_type": "code",
   "execution_count": 80,
   "id": "3d19911b-29f6-4eb9-9991-2eeefd69241d",
   "metadata": {},
   "outputs": [
    {
     "data": {
      "text/html": [
       "<div>\n",
       "<style scoped>\n",
       "    .dataframe tbody tr th:only-of-type {\n",
       "        vertical-align: middle;\n",
       "    }\n",
       "\n",
       "    .dataframe tbody tr th {\n",
       "        vertical-align: top;\n",
       "    }\n",
       "\n",
       "    .dataframe thead th {\n",
       "        text-align: right;\n",
       "    }\n",
       "</style>\n",
       "<table border=\"1\" class=\"dataframe\">\n",
       "  <thead>\n",
       "    <tr style=\"text-align: right;\">\n",
       "      <th></th>\n",
       "      <th>movie_id</th>\n",
       "      <th>title</th>\n",
       "      <th>overview</th>\n",
       "      <th>genres</th>\n",
       "      <th>keywords</th>\n",
       "      <th>cast</th>\n",
       "      <th>crew</th>\n",
       "    </tr>\n",
       "  </thead>\n",
       "  <tbody>\n",
       "    <tr>\n",
       "      <th>0</th>\n",
       "      <td>19995</td>\n",
       "      <td>Avatar</td>\n",
       "      <td>[In, the, 22nd, century,, a, paraplegic, Marin...</td>\n",
       "      <td>[Action, Adventure, Fantasy, ScienceFiction]</td>\n",
       "      <td>[cultureclash, future, spacewar, spacecolony, ...</td>\n",
       "      <td>[SamWorthington, ZoeSaldana, SigourneyWeaver]</td>\n",
       "      <td>[JamesCameron]</td>\n",
       "    </tr>\n",
       "  </tbody>\n",
       "</table>\n",
       "</div>"
      ],
      "text/plain": [
       "   movie_id   title                                           overview  \\\n",
       "0     19995  Avatar  [In, the, 22nd, century,, a, paraplegic, Marin...   \n",
       "\n",
       "                                         genres  \\\n",
       "0  [Action, Adventure, Fantasy, ScienceFiction]   \n",
       "\n",
       "                                            keywords  \\\n",
       "0  [cultureclash, future, spacewar, spacecolony, ...   \n",
       "\n",
       "                                            cast            crew  \n",
       "0  [SamWorthington, ZoeSaldana, SigourneyWeaver]  [JamesCameron]  "
      ]
     },
     "execution_count": 80,
     "metadata": {},
     "output_type": "execute_result"
    }
   ],
   "source": [
    "movies.head(1)"
   ]
  },
  {
   "cell_type": "code",
   "execution_count": 81,
   "id": "0ea6c870-9a49-4bcb-8a01-5033c780dc78",
   "metadata": {},
   "outputs": [],
   "source": [
    "movies['tags']= movies['overview']+ movies['genres'] + movies['keywords']+ movies['cast']+ movies['crew'] "
   ]
  },
  {
   "cell_type": "code",
   "execution_count": 82,
   "id": "50209298-ba39-4330-b3bd-e5bf926207cd",
   "metadata": {},
   "outputs": [],
   "source": [
    "new_df= movies[['movie_id','title','tags']]"
   ]
  },
  {
   "cell_type": "code",
   "execution_count": 83,
   "id": "60869dfc-d79a-488f-9639-493007fb7e8e",
   "metadata": {},
   "outputs": [
    {
     "data": {
      "text/html": [
       "<div>\n",
       "<style scoped>\n",
       "    .dataframe tbody tr th:only-of-type {\n",
       "        vertical-align: middle;\n",
       "    }\n",
       "\n",
       "    .dataframe tbody tr th {\n",
       "        vertical-align: top;\n",
       "    }\n",
       "\n",
       "    .dataframe thead th {\n",
       "        text-align: right;\n",
       "    }\n",
       "</style>\n",
       "<table border=\"1\" class=\"dataframe\">\n",
       "  <thead>\n",
       "    <tr style=\"text-align: right;\">\n",
       "      <th></th>\n",
       "      <th>movie_id</th>\n",
       "      <th>title</th>\n",
       "      <th>tags</th>\n",
       "    </tr>\n",
       "  </thead>\n",
       "  <tbody>\n",
       "    <tr>\n",
       "      <th>0</th>\n",
       "      <td>19995</td>\n",
       "      <td>Avatar</td>\n",
       "      <td>[In, the, 22nd, century,, a, paraplegic, Marin...</td>\n",
       "    </tr>\n",
       "    <tr>\n",
       "      <th>1</th>\n",
       "      <td>285</td>\n",
       "      <td>Pirates of the Caribbean: At World's End</td>\n",
       "      <td>[Captain, Barbossa,, long, believed, to, be, d...</td>\n",
       "    </tr>\n",
       "    <tr>\n",
       "      <th>2</th>\n",
       "      <td>206647</td>\n",
       "      <td>Spectre</td>\n",
       "      <td>[A, cryptic, message, from, Bond’s, past, send...</td>\n",
       "    </tr>\n",
       "    <tr>\n",
       "      <th>3</th>\n",
       "      <td>49026</td>\n",
       "      <td>The Dark Knight Rises</td>\n",
       "      <td>[Following, the, death, of, District, Attorney...</td>\n",
       "    </tr>\n",
       "    <tr>\n",
       "      <th>4</th>\n",
       "      <td>49529</td>\n",
       "      <td>John Carter</td>\n",
       "      <td>[John, Carter, is, a, war-weary,, former, mili...</td>\n",
       "    </tr>\n",
       "    <tr>\n",
       "      <th>...</th>\n",
       "      <td>...</td>\n",
       "      <td>...</td>\n",
       "      <td>...</td>\n",
       "    </tr>\n",
       "    <tr>\n",
       "      <th>4804</th>\n",
       "      <td>9367</td>\n",
       "      <td>El Mariachi</td>\n",
       "      <td>[El, Mariachi, just, wants, to, play, his, gui...</td>\n",
       "    </tr>\n",
       "    <tr>\n",
       "      <th>4805</th>\n",
       "      <td>72766</td>\n",
       "      <td>Newlyweds</td>\n",
       "      <td>[A, newlywed, couple's, honeymoon, is, upended...</td>\n",
       "    </tr>\n",
       "    <tr>\n",
       "      <th>4806</th>\n",
       "      <td>231617</td>\n",
       "      <td>Signed, Sealed, Delivered</td>\n",
       "      <td>[\"Signed,, Sealed,, Delivered\", introduces, a,...</td>\n",
       "    </tr>\n",
       "    <tr>\n",
       "      <th>4807</th>\n",
       "      <td>126186</td>\n",
       "      <td>Shanghai Calling</td>\n",
       "      <td>[When, ambitious, New, York, attorney, Sam, is...</td>\n",
       "    </tr>\n",
       "    <tr>\n",
       "      <th>4808</th>\n",
       "      <td>25975</td>\n",
       "      <td>My Date with Drew</td>\n",
       "      <td>[Ever, since, the, second, grade, when, he, fi...</td>\n",
       "    </tr>\n",
       "  </tbody>\n",
       "</table>\n",
       "<p>4806 rows × 3 columns</p>\n",
       "</div>"
      ],
      "text/plain": [
       "      movie_id                                     title  \\\n",
       "0        19995                                    Avatar   \n",
       "1          285  Pirates of the Caribbean: At World's End   \n",
       "2       206647                                   Spectre   \n",
       "3        49026                     The Dark Knight Rises   \n",
       "4        49529                               John Carter   \n",
       "...        ...                                       ...   \n",
       "4804      9367                               El Mariachi   \n",
       "4805     72766                                 Newlyweds   \n",
       "4806    231617                 Signed, Sealed, Delivered   \n",
       "4807    126186                          Shanghai Calling   \n",
       "4808     25975                         My Date with Drew   \n",
       "\n",
       "                                                   tags  \n",
       "0     [In, the, 22nd, century,, a, paraplegic, Marin...  \n",
       "1     [Captain, Barbossa,, long, believed, to, be, d...  \n",
       "2     [A, cryptic, message, from, Bond’s, past, send...  \n",
       "3     [Following, the, death, of, District, Attorney...  \n",
       "4     [John, Carter, is, a, war-weary,, former, mili...  \n",
       "...                                                 ...  \n",
       "4804  [El, Mariachi, just, wants, to, play, his, gui...  \n",
       "4805  [A, newlywed, couple's, honeymoon, is, upended...  \n",
       "4806  [\"Signed,, Sealed,, Delivered\", introduces, a,...  \n",
       "4807  [When, ambitious, New, York, attorney, Sam, is...  \n",
       "4808  [Ever, since, the, second, grade, when, he, fi...  \n",
       "\n",
       "[4806 rows x 3 columns]"
      ]
     },
     "execution_count": 83,
     "metadata": {},
     "output_type": "execute_result"
    }
   ],
   "source": [
    "new_df"
   ]
  },
  {
   "cell_type": "code",
   "execution_count": 86,
   "id": "622a8dde-643f-48ff-a1e6-57b944de7327",
   "metadata": {},
   "outputs": [
    {
     "name": "stderr",
     "output_type": "stream",
     "text": [
      "C:\\Users\\Sunita\\AppData\\Local\\Temp\\ipykernel_10688\\684433085.py:1: SettingWithCopyWarning: \n",
      "A value is trying to be set on a copy of a slice from a DataFrame.\n",
      "Try using .loc[row_indexer,col_indexer] = value instead\n",
      "\n",
      "See the caveats in the documentation: https://pandas.pydata.org/pandas-docs/stable/user_guide/indexing.html#returning-a-view-versus-a-copy\n",
      "  new_df['tags']=new_df['tags'].apply(lambda x: \" \".join(x))\n"
     ]
    }
   ],
   "source": [
    "new_df['tags']=new_df['tags'].apply(lambda x: \" \".join(x))"
   ]
  },
  {
   "cell_type": "code",
   "execution_count": 87,
   "id": "4f9a4462-f376-493c-8210-869729e59b9b",
   "metadata": {},
   "outputs": [
    {
     "data": {
      "text/html": [
       "<div>\n",
       "<style scoped>\n",
       "    .dataframe tbody tr th:only-of-type {\n",
       "        vertical-align: middle;\n",
       "    }\n",
       "\n",
       "    .dataframe tbody tr th {\n",
       "        vertical-align: top;\n",
       "    }\n",
       "\n",
       "    .dataframe thead th {\n",
       "        text-align: right;\n",
       "    }\n",
       "</style>\n",
       "<table border=\"1\" class=\"dataframe\">\n",
       "  <thead>\n",
       "    <tr style=\"text-align: right;\">\n",
       "      <th></th>\n",
       "      <th>movie_id</th>\n",
       "      <th>title</th>\n",
       "      <th>tags</th>\n",
       "    </tr>\n",
       "  </thead>\n",
       "  <tbody>\n",
       "    <tr>\n",
       "      <th>0</th>\n",
       "      <td>19995</td>\n",
       "      <td>Avatar</td>\n",
       "      <td>In the 22nd century, a paraplegic Marine is di...</td>\n",
       "    </tr>\n",
       "  </tbody>\n",
       "</table>\n",
       "</div>"
      ],
      "text/plain": [
       "   movie_id   title                                               tags\n",
       "0     19995  Avatar  In the 22nd century, a paraplegic Marine is di..."
      ]
     },
     "execution_count": 87,
     "metadata": {},
     "output_type": "execute_result"
    }
   ],
   "source": [
    "new_df.head(1)"
   ]
  },
  {
   "cell_type": "code",
   "execution_count": 88,
   "id": "c6af132f-4b6d-43b3-b5ab-453f35f1061a",
   "metadata": {},
   "outputs": [
    {
     "name": "stderr",
     "output_type": "stream",
     "text": [
      "C:\\Users\\Sunita\\AppData\\Local\\Temp\\ipykernel_10688\\2543325826.py:1: SettingWithCopyWarning: \n",
      "A value is trying to be set on a copy of a slice from a DataFrame.\n",
      "Try using .loc[row_indexer,col_indexer] = value instead\n",
      "\n",
      "See the caveats in the documentation: https://pandas.pydata.org/pandas-docs/stable/user_guide/indexing.html#returning-a-view-versus-a-copy\n",
      "  new_df['tags']=new_df['tags'].apply(lambda x: x.lower())\n"
     ]
    }
   ],
   "source": [
    "new_df['tags']=new_df['tags'].apply(lambda x: x.lower())"
   ]
  },
  {
   "cell_type": "code",
   "execution_count": 89,
   "id": "122d4ffb-9064-4e77-8206-5ed14899e7fd",
   "metadata": {},
   "outputs": [
    {
     "data": {
      "text/plain": [
       "movie_id                                                19995\n",
       "title                                                  Avatar\n",
       "tags        in the 22nd century, a paraplegic marine is di...\n",
       "Name: 0, dtype: object"
      ]
     },
     "execution_count": 89,
     "metadata": {},
     "output_type": "execute_result"
    }
   ],
   "source": [
    "new_df.iloc[0]"
   ]
  },
  {
   "cell_type": "code",
   "execution_count": 90,
   "id": "1de13ee3-d066-4c90-a333-6544eb041c18",
   "metadata": {},
   "outputs": [],
   "source": [
    "from sklearn.feature_extraction.text import CountVectorizer\n",
    "cv = CountVectorizer(max_features=5000,stop_words='english')\n",
    "# we will combine all the tags and pick up the 5000 most frequent words from it. Stop words like and, for , are is , a, an,the which do not\n",
    "# contribute anything to the meaning of sentence will be removed"
   ]
  },
  {
   "cell_type": "code",
   "execution_count": 91,
   "id": "5d6f7c0f-b6f1-4121-8526-1fe569e04f4f",
   "metadata": {},
   "outputs": [],
   "source": [
    "vectors = cv.fit_transform(new_df['tags']).toarray()"
   ]
  },
  {
   "cell_type": "code",
   "execution_count": 92,
   "id": "99fb6a00-a923-49b3-a498-703a8585d3ba",
   "metadata": {},
   "outputs": [
    {
     "data": {
      "text/plain": [
       "array([[0, 0, 0, ..., 0, 0, 0],\n",
       "       [0, 0, 0, ..., 0, 0, 0],\n",
       "       [0, 0, 0, ..., 0, 0, 0],\n",
       "       ...,\n",
       "       [0, 0, 0, ..., 0, 0, 0],\n",
       "       [0, 0, 0, ..., 0, 0, 0],\n",
       "       [0, 0, 0, ..., 0, 0, 0]], dtype=int64)"
      ]
     },
     "execution_count": 92,
     "metadata": {},
     "output_type": "execute_result"
    }
   ],
   "source": [
    "vectors"
   ]
  },
  {
   "cell_type": "code",
   "execution_count": 100,
   "id": "bdbdebe2-e2ab-4309-8b96-97f5caa13dcd",
   "metadata": {},
   "outputs": [
    {
     "name": "stdout",
     "output_type": "stream",
     "text": [
      "['000', '007', '10', '100', '11', '12', '13', '14', '15', '16', '17', '18', '18th', '19', '1930s', '1940s', '1950', '1950s', '1960s', '1970s', '1980', '1980s', '1985', '1990s', '1999', '19th', '19thcentury', '20', '200', '2009', '20th', '24', '25', '30', '300', '3d', '40', '50', '500', '60', '60s', '70', '70s', 'aaron', 'aaroneckhart', 'abandoned', 'abducted', 'abigailbreslin', 'abilities', 'ability', 'able', 'aboard', 'abuse', 'abusive', 'academy', 'accept', 'accepted', 'accepts', 'access', 'accident', 'accidental', 'accidentally', 'accompanied', 'accomplish', 'account', 'accountant', 'accused', 'ace', 'achieve', 'act', 'acting', 'action', 'actionhero', 'actions', 'activist', 'activities', 'activity', 'actor', 'actors', 'actress', 'acts', 'actual', 'actually', 'adam', 'adams', 'adamsandler', 'adamshankman', 'adaptation', 'adapted', 'addict', 'addicted', 'addiction', 'adolescence', 'adolescent', 'adopt', 'adopted', 'adoption', 'adopts', 'adrienbrody', 'adult', 'adultanimation', 'adultery', 'adulthood', 'adults', 'advantage', 'adventure', 'adventures', 'advertising', 'advice', 'affair', 'affairs', 'affection', 'affections', 'afghanistan', 'africa', 'african', 'africanamerican', 'aftercreditsstinger', 'afterlife', 'aftermath', 'age', 'aged', 'agedifference', 'agency', 'agenda', 'agent', 'agents', 'aggressive', 'aging', 'ago', 'agree', 'agrees', 'ahead', 'aid', 'aided', 'aids', 'ailing', 'air', 'airplane', 'airplanecrash', 'airport', 'aka', 'al', 'alabama', 'alan', 'alaska', 'albert', 'alcohol', 'alcoholic', 'alcoholism', 'alecbaldwin', 'alex', 'alfredhitchcock', 'ali', 'alice', 'alien', 'alieninvasion', 'alienlife', 'aliens', 'alike', 'alive', 'allen', 'alliance', 'allied', 'allies', 'allow', 'allowing', 'allows', 'ally', 'alongside', 'alpacino', 'alpha', 'alter', 'alternate', 'alternative', 'alzheimer', 'amanda', 'amandapeet', 'amandaseyfried', 'amateur', 'amazing', 'ambassador', 'ambition', 'ambitious', 'ambulance', 'ambush', 'america', 'american', 'americanabroad', 'americanfootball', 'americans', 'amid', 'amidst', 'amnesia', 'amp', 'amsterdam', 'amusementpark', 'amy', 'amyadams', 'amysmart', 'ana', 'anakin', 'analyst', 'anarchiccomedy', 'ancient', 'ancientrome', 'ancientworld', 'anderson', 'andiemacdowell', 'andrew', 'android', 'andy', 'andygarcía', 'angel', 'angelabassett', 'angeles', 'angelinajolie', 'angels', 'anger', 'anglee', 'angry', 'animal', 'animalattack', 'animalhorror', 'animals', 'animated', 'animation', 'anna', 'annafaris', 'anne', 'annehathaway', 'annemoss', 'annettebening', 'annie', 'anniversary', 'annual', 'answer', 'answers', 'ant', 'anthology', 'anthony', 'anthonyanderson', 'anthonyhopkins', 'anthropomorphism', 'anti', 'antics', 'antihero', 'antoinefuqua', 'antoniobanderas', 'antonyelchin', 'apart', 'apartheid', 'apartment', 'ape', 'apes', 'apocalypse', 'apocalyptic', 'apparent', 'apparently', 'appear', 'appears', 'apple', 'appointed', 'apprentice', 'approach', 'approaches', 'approaching', 'april', 'aquarium', 'arab', 'arch', 'archaeologist', 'architect', 'arctic', 'area', 'aren', 'arena', 'argument', 'arise', 'aristocrat', 'armed', 'arms', 'army', 'arnold', 'arnoldschwarzenegger', 'arrangedmarriage', 'arrest', 'arrested', 'arrival', 'arrive', 'arrives', 'arriving', 'arrogant', 'art', 'arthur', 'artificialintelligence', 'artist', 'artistic', 'artists', 'arts', 'ashley', 'ashleyjudd', 'ashtonkutcher', 'asia', 'asian', 'aside', 'ask', 'asked', 'asking', 'asks', 'aspirations', 'aspiring', 'assassin', 'assassinate', 'assassination', 'assassins', 'assault', 'assigned', 'assignment', 'assistant', 'assumes', 'asteroid', 'astronaut', 'astronauts', 'asylum', 'athlete', 'atomicbomb', 'attack', 'attacked', 'attacks', 'attempt', 'attempting', 'attempts', 'attending', 'attends', 'attention', 'attitude', 'attorney', 'attracted', 'attraction', 'attractive', 'audience', 'audiences', 'audition', 'august', 'aunt', 'austin', 'australia', 'australian', 'author', 'authorities', 'authority', 'autism', 'auto', 'automobileracing', 'avenge', 'average', 'avoid', 'awaits', 'awakens', 'award', 'away', 'awry', 'ax', 'babe', 'baby', 'bachelor', 'backdrop', 'backed', 'background', 'backgrounds', 'bad', 'badly', 'bag', 'bahamas', 'bail', 'balance', 'ball', 'ballet', 'baltimore', 'band', 'bandits', 'bangkok', 'banished', 'bank', 'banker', 'bankrobber', 'bankrobbery', 'bar', 'barely', 'bargained', 'barn', 'barney', 'barry', 'barrylevinson', 'bars', 'base', 'baseball', 'based', 'basedoncomicbook', 'basedongraphicnovel', 'basedonnovel', 'basedonplay', 'basedonstagemusical', 'basedontrueevents', 'basedontruestory', 'basedontvseries', 'basedonvideogame', 'basedonyoungadultnovel', 'basement', 'basketball', 'batman', 'battle', 'battlefield', 'battles', 'battling', 'bay', 'beach', 'bear', 'bears', 'beast', 'beasts', 'beat', 'beating', 'beautiful', 'beautifulwoman', 'beauty', 'becky', 'becominganadult', 'bed', 'bedroom', 'beer', 'befriends', 'began', 'begin', 'beginning', 'begins', 'behavior', 'beings', 'beliefs', 'believe', 'believed', 'believes', 'believing', 'beloved', 'ben', 'benaffleck', 'beneath', 'benfoster', 'beniciodeltoro', 'benjamin', 'benjaminbratt', 'benkingsley', 'bennett', 'benstiller', 'bent', 'berlin', 'best', 'bestfriend', 'bestfriendsinlove', 'bet', 'beth', 'betrayal', 'betrayed', 'bettemidler', 'better', 'betty', 'beverly', 'bible', 'big', 'bigger', 'biggest', 'biker', 'bikini', 'billhader', 'billionaire', 'billmurray', 'billnighy', 'billpaxton', 'billpullman', 'billy', 'billybobthornton', 'billycrudup', 'billycrystal', 'biography', 'bird', 'birth', 'birthday', 'bisexual', 'bishop', 'bit', 'bite', 'bitter', 'bizarre', 'black', 'blackmagic', 'blackmail', 'blackpeople', 'blacksmith', 'blade', 'blame', 'blind', 'bliss', 'block', 'blonde', 'blood', 'bloodsplatter', 'bloodthirsty', 'bloody', 'blow', 'blue', 'board', 'boarding', 'boardingschool', 'boat', 'bob', 'bobby', 'bobbyfarrelly', 'bobhoskins', 'bodies', 'body', 'bodyguard', 'bold', 'bollywood', 'bomb', 'bombing', 'bond', 'bonds', 'bone', 'book', 'books', 'border', 'bored', 'boredom', 'boring', 'born', 'boss', 'boston', 'botched', 'bound', 'boundaries', 'bounty', 'bountyhunter', 'bourne', 'box', 'boxer', 'boxing', 'boy', 'boyfriend', 'boys', 'bradleycooper', 'bradpitt', 'brain', 'brand', 'brave', 'bravery', 'brazil', 'brazilian', 'break', 'breakdown', 'breaking', 'breaks', 'brendanfraser', 'brendangleeson', 'brent', 'brettratner', 'brian', 'briandepalma', 'bride', 'bridesmaid', 'bridge', 'brief', 'brielarson', 'brien', 'bright', 'brilliant', 'bring', 'bringing', 'brings', 'brink', 'britain', 'british', 'britishsecretservice', 'brittanymurphy', 'broadway', 'broke', 'broken', 'broker', 'bronx', 'brooklyn', 'brooks', 'broom', 'brothel', 'brother', 'brotherbrotherrelationship', 'brothers', 'brothersisterrelationship', 'brought', 'brown', 'bruce', 'brucegreenwood', 'brucewillis', 'brutal', 'brutality', 'brutally', 'bryansinger', 'buck', 'buddies', 'buddy', 'buddycomedy', 'budget', 'build', 'building', 'built', 'bully', 'bullying', 'bumbling', 'bunny', 'burglar', 'buried', 'bus', 'bush', 'business', 'businessman', 'bust', 'busy', 'butcher', 'butler', 'buy', 'cabin', 'caesar', 'cage', 'cairo', 'cal', 'california', 'called', 'calls', 'calvin', 'camcorder', 'came', 'camera', 'cameraman', 'cameras', 'camerondiaz', 'camp', 'campaign', 'campbell', 'camping', 'campus', 'canada', 'canadian', 'cancer', 'candidate', 'candy', 'cannibal', 'capable', 'capital', 'capitalism', 'capt', 'captain', 'captive', 'capture', 'captured', 'captures', 'car', 'caraccident', 'carchase', 'carcrash', 'card', 'care', 'career', 'carefree', 'caretaker', 'caribbean', 'carjourney', 'carl', 'carlagugino', 'carmen', 'carol', 'carolina', 'carrace', 'carrie', 'carry', 'carrying', 'cars', 'cartel', 'carter', 'cartoon', 'caryelwes', 'case', 'caseyaffleck', 'cash', 'casino', 'cast', 'castle', 'cat', 'cataclysm', 'catastrophe', 'catch', 'catches', 'cateblanchett', 'catherinedeneuve', 'catherinekeener', 'catherinezeta', 'catholic', 'catholicism', 'cattle', 'caught', 'cause', 'caused', 'causes', 'causing', 'cavalry', 'cave', 'cavemen', 'celebrate', 'celebrated', 'celebration', 'celebrity', 'cellphone', 'cemetery', 'center', 'centered', 'centers', 'central', 'centuries', 'century', 'ceremony', 'certain', 'chain', 'chainsaw', 'challenge', 'challenged', 'challenges', 'champion', 'championship', 'chance', 'change', 'changed', 'changes', 'changing', 'channingtatum', 'chaos', 'chaotic', 'chapter', 'character', 'characters', 'charge', 'charged', 'charismatic', 'charles', 'charlie', 'charliesheen', 'charlizetheron', 'charlotte', 'charm', 'charming', 'chase', 'chased', 'chases', 'chauffeur', 'chazzpalminteri', 'cheating', 'cheerleader', 'chef', 'chemical', 'cher', 'chicago', 'chicken', 'chief', 'child', 'childabuse', 'childhero', 'childhood', 'children', 'chilling', 'china', 'chinese', 'chip', 'chiwetelejiofor', 'chloëgracemoretz', 'chloësevigny', 'chocolate', 'choice', 'choices', 'choose', 'chosen', 'chowyun', 'chris', 'chriscolumbus', 'chriscooper', 'chrisevans', 'chrishemsworth', 'chrisklein', 'chrispine', 'chrisrock', 'christ', 'christian', 'christianbale', 'christianity', 'christianslater', 'christinaapplegate', 'christinaricci', 'christine', 'christmas', 'christmasparty', 'christopher', 'christopherlloyd', 'christophernolan', 'christopherplummer', 'christopherwalken', 'christophwaltz', 'chrisweitz', 'chronicle', 'chronicles', 'chuck', 'church', 'cia', 'cigarettesmoking', 'cillianmurphy', 'cindy', 'cinema', 'circle', 'circuit', 'circumstances', 'circus', 'cities', 'citizens', 'city', 'civil', 'civilian', 'civilization', 'civilwar', 'claim', 'claims', 'claire', 'clairedanes', 'clan', 'clark', 'clash', 'class', 'classes', 'classic', 'classmate', 'classmates', 'classroom', 'claudevandamme', 'clay', 'clean', 'clear', 'clerk', 'client', 'clients', 'climate', 'climbing', 'clinteastwood', 'clique', 'cliveowen', 'clock', 'clone', 'cloning', 'close', 'closed', 'closer', 'club', 'clubs', 'clues', 'clutches', 'coach', 'coast', 'cocaine', 'code', 'cody', 'coffin', 'cohen', 'col', 'cold', 'coldwar', 'cole', 'colin', 'colinfarrell', 'colinfirth', 'collapse', 'colleague', 'colleagues', 'collect', 'collection', 'collector', 'college', 'collide', 'collision', 'colonel', 'colony', 'color', 'colorado', 'colorful', 'coma', 'combat', 'combined', 'come', 'comeback', 'comedian', 'comedic', 'comedy', 'comes', 'comet', 'comfort', 'comic', 'comics', 'coming', 'comingofage', 'comingout', 'command', 'commander', 'commercial', 'commit', 'commitment', 'committed', 'common', 'communication', 'community', 'companion', 'company', 'compete', 'competing', 'competition', 'complete', 'completely', 'complex', 'complicated', 'complications', 'composer', 'computer', 'computervirus', 'conan', 'concert', 'conclusion', 'condition', 'confederate', 'confession', 'confidence', 'confident', 'conflict', 'confront', 'confronted', 'confronts', 'confused', 'congress', 'conman', 'connected', 'connection', 'connell', 'connor', 'conquer', 'conscience', 'consequences', 'conservative', 'considered', 'conspiracy', 'conspire', 'constant', 'constantly', 'construction', 'consumed', 'contact', 'contain', 'contemporary', 'contend', 'contest', 'continue', 'continues', 'continuing', 'contract', 'control', 'controlled', 'controlling', 'controversial', 'convention', 'converge', 'convict', 'convicted', 'convince', 'convinced', 'convinces', 'cook', 'cooking', 'cool', 'cooper', 'cop', 'cope', 'cops', 'core', 'corner', 'corners', 'corporate', 'corporation', 'corpse', 'corrupt', 'corruption', 'cost', 'costume', 'couldn', 'count', 'country', 'countrymusic', 'countryside', 'county', 'coup', 'couple', 'couples', 'courage', 'courageous', 'course', 'court', 'courtcase', 'courteneycox', 'courtroom', 'cousin', 'cover', 'covert', 'cow', 'cowardliness', 'cowboy', 'crab', 'crack', 'craig', 'crash', 'crashes', 'crazy', 'create', 'created', 'creates', 'creation', 'creator', 'creature', 'creatures', 'creepy', 'crew', 'crime', 'crimefighter', 'crimes', 'criminal', 'criminals', 'crisis', 'critical', 'crocodile', 'crook', 'crooked', 'cross', 'crossed', 'crosses', 'crown', 'crucifixion', 'cruel', 'cruelty', 'cruise', 'crush', 'crystal', 'cuba', 'cubagoodingjr', 'cult', 'cultfilm', 'cultural', 'culture', 'cultureclash', 'cunning', 'cup', 'cure', 'curiosity', 'curious', 'current', 'curse', 'cursed', 'curtishanson', 'custody', 'customers', 'cut', 'cuts', 'cuttingthecord', 'cyberpunk', 'cyborg', 'cynical', 'dad', 'daily', 'dakotafanning', 'damage', 'dan', 'danaykroyd', 'dance', 'dancer', 'dancing', 'danger', 'dangerous', 'dangers', 'daniel', 'danielcraig', 'danielday', 'danielradcliffe', 'danny', 'dannyboyle', 'dannydevito', 'dannyglover', 'dare', 'daring', 'dark', 'darkcomedy', 'darkest', 'darkness', 'date', 'dates', 'dating', 'daughter', 'daughters', 'dave', 'david', 'davidarquette', 'davidduchovny', 'davidfincher', 'davidgordongreen', 'davidmorse', 'davido', 'davis', 'daxshepard', 'day', 'days', 'dc', 'dccomics', 'dea', 'dead', 'deadly', 'deaf', 'deal', 'dealer', 'dealers', 'dealing', 'deals', 'dean', 'death', 'deathofafriend', 'deathpenalty', 'deaths', 'debt', 'debut', 'decade', 'decades', 'decapitation', 'deceased', 'deceit', 'deception', 'decide', 'decided', 'decides', 'decision', 'decisions', 'dedicated', 'deeds', 'deep', 'deeper', 'deeply', 'defeat', 'defeating', 'defend', 'defense', 'deliver', 'delivers', 'delivery', 'delusion', 'demand', 'demanding', 'demands', 'demimoore', 'demon', 'demonic', 'demonicpossession', 'demons', 'dennisdugan', 'dennishopper', 'dennisquaid', 'dentist', 'denzelwashington', 'department', 'depressed', 'depression', 'depths', 'deputy', 'deranged', 'derek', 'descend', 'descends', 'desert', 'deserted', 'designed', 'desire', 'desires', 'desolate', 'despair', 'desperate', 'desperately', 'desperation', 'despite', 'destination', 'destined', 'destiny', 'destroy', 'destroyed', 'destroying', 'destruction', 'details', 'detective', 'detectives', 'determination', 'determine', 'determined', 'detroit', 'devastating', 'develop', 'developed', 'developer', 'develops', 'device', 'devil', 'devoted', 'diabolical', 'dialogue', 'diamond', 'diane', 'dianekeaton', 'dianekruger', 'dianelane', 'diary', 'dick', 'dictator', 'did', 'didn', 'die', 'died', 'diego', 'dies', 'differences', 'different', 'difficult', 'digging', 'dignity', 'diner', 'dinner', 'dinosaur', 'dinosaurs', 'dire', 'directed', 'direction', 'director', 'dirt', 'dirty', 'dirtycop', 'disabled', 'disappearance', 'disappeared', 'disappears', 'disaster', 'disastrous', 'discover', 'discovered', 'discovering', 'discovers', 'discovery', 'disease', 'disfigurement', 'disgraced', 'disguise', 'dishonesty', 'disillusioned', 'disney', 'disorder', 'dispatched', 'distant', 'district', 'distrust', 'disturbed', 'disturbing', 'diva', 'divided', 'division', 'divorce', 'divorced', 'dna', 'doc', 'doctor', 'document', 'documentary', 'documents', 'does', 'doesn', 'dog', 'dogs', 'doing', 'doll', 'dollar', 'dollars', 'dolphin', 'domination', 'don', 'donaldpetrie', 'donaldsutherland', 'doncheadle', 'donnell', 'doomed', 'doomsday', 'door', 'doorstep', 'doppelganger', 'dorothy', 'double', 'doublelife', 'doubt', 'doubts', 'doug', 'douglas', 'dr', 'dracula', 'drag', 'dragon', 'drama', 'dramatic', 'draw', 'drawing', 'drawn', 'draws', 'dream', 'dreams', 'drew', 'drewbarrymore', 'drifter', 'drink', 'drinking', 'drive', 'driven', 'driver', 'drives', 'driving', 'drop', 'drowning', 'drug', 'drugabuse', 'drugaddiction', 'drugdealer', 'druglord', 'drugs', 'drugtraffic', 'druguse', 'drunk', 'drunken', 'du', 'dualidentity', 'dude', 'duel', 'duke', 'dumped', 'dumps', 'duo', 'duringcreditsstinger', 'dustinhoffman', 'dutch', 'duty', 'dwarves', 'dwaynejohnson', 'dying', 'dyinganddeath', 'dylan', 'dynamic', 'dynasty', 'dysfunctional', 'dysfunctionalfamily', 'dystopia', 'dystopicfuture', 'eager', 'earlier', 'early', 'earn', 'earth', 'earthquake', 'east', 'easy', 'eating', 'eccentric', 'economic', 'economy', 'eddie', 'eddiegriffin', 'eddiemurphy', 'edge', 'edharris', 'editor', 'education', 'edward', 'edwardburns', 'edwardnorton', 'effort', 'efforts', 'egg', 'ego', 'egypt', 'egyptian', 'el', 'elaborate', 'elderly', 'election', 'elements', 'eliaskoteas', 'elijahwood', 'eliminate', 'elisabethshue', 'elite', 'elizabeth', 'elizabethbanks', 'ella', 'ellenburstyn', 'ellenpage', 'ellie', 'elliot', 'ellis', 'elusive', 'elves', 'elvis', 'embark', 'embarking', 'embarks', 'embassy', 'embroiled', 'emerge', 'emergency', 'emerges', 'emilehirsch', 'emily', 'emilyblunt', 'emilymortimer', 'emilywatson', 'emma', 'emmastone', 'emmathompson', 'emmawatson', 'emotional', 'emotionally', 'emotions', 'emperor', 'empire', 'employee', 'employees', 'employer', 'employs', 'encounter', 'encounters', 'end', 'ended', 'ending', 'endless', 'endoftheworld', 'ends', 'enemies', 'enemy', 'energy', 'enforcement', 'engaged', 'engagement', 'engineer', 'england', 'english', 'enigmatic', 'enjoy', 'enlist', 'enlists', 'enormous', 'ensemblecast', 'ensues', 'ensure', 'entangled', 'enter', 'enterprise', 'enters', 'entertainer', 'entertaining', 'entire', 'entirely', 'entity', 'environment', 'environmental', 'epic', 'epidemic', 'era', 'eric', 'ericbana', 'erin', 'ernest', 'eroticism', 'erupts', 'escapade', 'escape', 'escaped', 'escapefromprison', 'escapes', 'escaping', 'escort', 'especially', 'espionage', 'establishment', 'estate', 'estranged', 'eternal', 'ethan', 'ethanhawke', 'eugenelevy', 'europe', 'european', 'eva', 'evacuation', 'evamendes', 'evanrachelwood', 'eve', 'evening', 'event', 'events', 'eventually', 'everybody', 'everyday', 'evidence', 'evil', 'evolution', 'ewanmcgregor', 'ex', 'exact', 'exactly', 'examines', 'exchange', 'exciting', 'execution', 'executive', 'exercise', 'exist', 'existed', 'existence', 'existentialism', 'exists', 'exorcism', 'exotic', 'exoticisland', 'expectations', 'expected', 'expects', 'expedition', 'experience', 'experienced', 'experiences', 'experiencing', 'experiment', 'expert', 'explain', 'exploits', 'explorers', 'explores', 'exploring', 'explosion', 'explosive', 'expose', 'exposed', 'exposes', 'extra', 'extramaritalaffair', 'extraordinary', 'extraterrestrial', 'extraterrestrialtechnology', 'extreme', 'extremely', 'extremeviolence', 'eye', 'eyes', 'face', 'faced', 'faces', 'facility', 'facing', 'fact', 'factions', 'factory', 'fail', 'failed', 'failing', 'fails', 'fairy', 'fairytale', 'faith', 'fake', 'fall', 'fallen', 'falling', 'fallinginlove', 'falls', 'falseidentity', 'falselyaccused', 'fame', 'famed', 'families', 'family', 'familyrelationships', 'famkejanssen', 'famous', 'fan', 'fangvamp', 'fans', 'fantasies', 'fantastic', 'fantasy', 'fantasyworld', 'far', 'farewell', 'farm', 'farmer', 'farmhouse', 'fascinated', 'fashion', 'fast', 'faster', 'fat', 'fatal', 'fate', 'fateful', 'father', 'fatherdaughterrelationship', 'fathersonrelationship', 'favorite', 'fbi', 'fbiagent', 'fear', 'fears', 'fearsome', 'feature', 'features', 'featuring', 'federation', 'feel', 'feeling', 'feelings', 'feels', 'feet', 'fellow', 'female', 'femalefriendship', 'femalenudity', 'femaleprotagonist', 'festival', 'feud', 'fi', 'fiancee', 'fiancé', 'fiancée', 'fiction', 'fictional', 'fictionalplace', 'field', 'fields', 'fierce', 'fifth', 'fight', 'fighter', 'fighters', 'fighting', 'fights', 'figure', 'figures', 'filled', 'film', 'filmdirector', 'filmed', 'filming', 'filmmaker', 'filmmakers', 'filmmaking', 'filmproducer', 'films', 'final', 'finale', 'finally', 'financial', 'finding', 'finds', 'fine', 'finish', 'finn', 'fired', 'fireworks', 'firm', 'firsttime', 'fish', 'fisherman', 'fishing', 'fishoutofwater', 'fistfight', 'fit', 'fix', 'flame', 'flashback', 'flat', 'flee', 'flees', 'flesh', 'flight', 'fling', 'flint', 'flirt', 'flood', 'florida', 'flower', 'fly', 'flying', 'flyingsaucer', 'focus', 'focuses', 'foil', 'follow', 'followed', 'following', 'follows', 'food', 'foot', 'footage', 'football', 'footchase', 'forbidden', 'forbiddenlove', 'force', 'forced', 'forces', 'forcing', 'ford', 'foreign', 'forest', 'forestwhitaker', 'forever', 'forget', 'forgiveness', 'form', 'formed', 'formidable', 'forms', 'formula', 'fort', 'fortune', 'fortuneteller', 'forward', 'foster', 'fought', 'foundfootage', 'fourth', 'fox', 'framed', 'france', 'franchise', 'francis', 'francisco', 'francisfordcoppola', 'frank', 'frankenstein', 'frankie', 'frankoz', 'fraternity', 'fraud', 'freak', 'fred', 'freddieprinzejr', 'freddy', 'free', 'freedom', 'french', 'fresh', 'freshman', 'friend', 'friendly', 'friends', 'friendship', 'frightening', 'frog', 'fromragstoriches', 'frontier', 'frozen', 'frustrated', 'fu', 'fueled', 'fugitive', 'fulfill', 'fully', 'fun', 'fund', 'funeral', 'funny', 'furious', 'future', 'futuristic', 'gabrielbyrne', 'gaelgarcíabernal', 'gain', 'galaxy', 'gambler', 'gambling', 'game', 'games', 'gandhi', 'gang', 'gangs', 'gangster', 'gangsters', 'garage', 'garden', 'garrymarshall', 'gary', 'garygray', 'garyoldman', 'garysinise', 'gas', 'gasstation', 'gather', 'gave', 'gay', 'gayrelationship', 'genehackman', 'general', 'generation', 'generations', 'genetic', 'genetically', 'genetics', 'genius', 'gentle', 'geoffreyrush', 'george', 'georgeclooney', 'georgia', 'gerardbutler', 'german', 'germans', 'germany', 'getaway', 'gets', 'getting', 'ghetto', 'ghost', 'ghosts', 'giant', 'giants', 'gift', 'gifted', 'gig', 'girl', 'girlfriend', 'girlfriends', 'girls', 'given', 'gives', 'giving', 'gladiator', 'glamorous', 'glass', 'glennclose', 'global', 'globe', 'glory', 'goal', 'god', 'gods', 'goes', 'going', 'gold', 'golden', 'golf', 'gone', 'good', 'goodvsevil', 'gordon', 'gore', 'goreverbinski', 'gorgeous', 'gorilla', 'gossip', 'got', 'gotham', 'gothamcity', 'government', 'governor', 'grace', 'grade', 'gradually', 'graduate', 'graduation', 'grand', 'grandfather', 'grandmother', 'grant', 'graphic', 'grave', 'great', 'greater', 'greatest', 'greece', 'greed', 'greedy', 'greek', 'green', 'greg', 'gregkinnear', 'gregorypeck', 'grew', 'grief', 'grieving', 'griffin', 'grim', 'grip', 'grisly', 'gritty', 'ground', 'group', 'groupoffriends', 'grow', 'growing', 'growingup', 'grown', 'grows', 'gruesome', 'guard', 'guardian', 'guerrilla', 'guest', 'guests', 'guide', 'guilt', 'guilty', 'guitar', 'gun', 'gunfight', 'gunman', 'guns', 'gunslinger', 'guru', 'gusvansant', 'guy', 'guypearce', 'guyritchie', 'guys', 'gwynethpaltrow', 'gym', 'gypsy', 'hacker', 'hacking', 'hair', 'half', 'hall', 'halleberry', 'halloween', 'hallucination', 'han', 'hand', 'handed', 'hands', 'handsome', 'handtohandcombat', 'hang', 'hanging', 'hangs', 'hannah', 'happen', 'happened', 'happening', 'happens', 'happily', 'happiness', 'happy', 'hara', 'harbor', 'hard', 'harlem', 'harmony', 'harold', 'haroldramis', 'harrisonford', 'harry', 'harsh', 'hart', 'harvard', 'harvey', 'harveykeitel', 'hasn', 'hatches', 'hate', 'hatred', 'haunt', 'haunted', 'hauntedhouse', 'haunting', 'haven', 'having', 'havoc', 'hawaii', 'haydenchristensen', 'head', 'headed', 'heading', 'headquarters', 'heads', 'healing', 'health', 'hear', 'hearing', 'hears', 'heart', 'heartbreak', 'hearted', 'hearts', 'heather', 'heathledger', 'heaven', 'heavily', 'heavy', 'heavymetal', 'heir', 'heiress', 'heist', 'held', 'helen', 'helenabonhamcarter', 'helenhunt', 'helenmirren', 'helicopter', 'hell', 'help', 'helped', 'helping', 'helps', 'henchmen', 'henry', 'hero', 'heroes', 'heroic', 'heroin', 'heroism', 'hidden', 'hiddencamera', 'hide', 'hides', 'hiding', 'high', 'higher', 'highest', 'highlands', 'highly', 'highschool', 'highschoolsports', 'highschoolstudent', 'highway', 'hijack', 'hijacking', 'hilarious', 'hilaryduff', 'hilaryswank', 'hill', 'hills', 'himalaya', 'hip', 'hippie', 'hire', 'hired', 'hires', 'historic', 'historical', 'historicalfigure', 'history', 'hit', 'hitchhiker', 'hitman', 'hits', 'ho', 'hockey', 'hold', 'holding', 'holds', 'hole', 'holiday', 'holly', 'hollywood', 'holmes', 'holy', 'home', 'homeinvasion', 'homeland', 'homeless', 'homelessperson', 'homes', 'hometown', 'homicidal', 'homicide', 'homophobia', 'homosexuality', 'honey', 'honeymoon', 'hong', 'hongkong', 'honor', 'hood', 'hoodlum', 'hook', 'hop', 'hope', 'hopedavis', 'hopelessly', 'hopes', 'hoping', 'hopper', 'horrible', 'horrific', 'horrifying', 'horror', 'horrors', 'horse', 'hospital', 'host', 'hostage', 'hostile', 'hostility', 'hot', 'hotel', 'hotelroom', 'hotshot', 'hour', 'hours', 'house', 'housekeeper', 'housewife', 'housing', 'howard', 'huge', 'hughgrant', 'hughjackman', 'human', 'humananimalrelationship', 'humanity', 'humankind', 'humans', 'humiliation', 'humor', 'hundreds', 'hunger', 'hungry', 'hunt', 'hunted', 'hunter', 'hunters', 'hunting', 'hunts', 'hurricane', 'husband', 'hustler', 'hypnosis', 'hyun', 'ianmckellen', 'ice', 'icecube', 'iconic', 'idea', 'idealistic', 'identities', 'identity', 'idol', 'idyllic', 'ignoring', 'ii', 'iii', 'il', 'ill', 'illegal', 'illegaldrugs', 'illegalimmigration', 'illegalprostitution', 'illness', 'image', 'imaginary', 'imagination', 'imagined', 'imax', 'immediately', 'immigrant', 'immigrants', 'immigration', 'immortal', 'immortality', 'impact', 'imperial', 'important', 'impossible', 'imprisoned', 'imprisonment', 'inadvertently', 'incest', 'incident', 'include', 'includes', 'including', 'increasingly', 'incredible', 'independence', 'independent', 'independentfilm', 'india', 'indian', 'indiana', 'indianlead', 'indians', 'individual', 'industry', 'infamous', 'infant', 'infected', 'infection', 'infidelity', 'infiltrate', 'influence', 'informant', 'information', 'inhabitants', 'inheritance', 'inherits', 'initially', 'injured', 'injury', 'injustice', 'inmates', 'inner', 'innocence', 'innocent', 'insane', 'insanity', 'inside', 'insists', 'insomnia', 'inspector', 'inspiration', 'inspired', 'inspires', 'inspiring', 'installment', 'instant', 'instantly', 'instead', 'institution', 'instructor', 'insurance', 'intelligence', 'intelligent', 'intended', 'intends', 'intense', 'intent', 'intentions', 'intergalactic', 'international', 'internet', 'interrogation', 'interspeciesromance', 'intertwine', 'interview', 'interviews', 'intimate', 'intrigue', 'introduces', 'invaders', 'invading', 'invasion', 'invention', 'inventor', 'investigate', 'investigates', 'investigating', 'investigation', 'investigator', 'investment', 'invisible', 'invites', 'involved', 'involves', 'involving', 'iowa', 'ira', 'iran', 'iranian', 'iraq', 'ireland', 'irish', 'island', 'isn', 'isolated', 'isolation', 'israel', 'israeli', 'issues', 'italian', 'italy', 'ivanreitman', 'jack', 'jackblack', 'jackie', 'jackiechan', 'jacknicholson', 'jackson', 'jadapinkettsmith', 'jail', 'jake', 'jakegyllenhaal', 'james', 'jamescaan', 'jamesfranco', 'jamesivory', 'jamesmangold', 'jamesmarsden', 'jamesmcavoy', 'jameswan', 'jameswoods', 'jamie', 'jamiefoxx', 'jamieleecurtis', 'jane', 'japan', 'japanese', 'jason', 'jasonbateman', 'jasonbiggs', 'jasonlee', 'jasonsegel', 'jasonstatham', 'javierbardem', 'jay', 'jaychandrasekhar', 'jayroach', 'jazz', 'jealous', 'jealousy', 'jean', 'jeanreno', 'jedi', 'jeff', 'jeffbridges', 'jeffdaniels', 'jeffgoldblum', 'jennifer', 'jenniferaniston', 'jenniferconnelly', 'jennifergarner', 'jenniferjasonleigh', 'jenniferlawrence', 'jenniferlopez', 'jenniferlovehewitt', 'jeremyirons', 'jerry', 'jersey', 'jerusalem', 'jess', 'jesse', 'jessebradford', 'jesseeisenberg', 'jessica', 'jessicaalba', 'jessicabiel', 'jessicachastain', 'jesus', 'jesuschrist', 'jetli', 'jew', 'jewel', 'jewish', 'jigsaw', 'jill', 'jim', 'jimbroadbent', 'jimcarrey', 'jimcaviezel', 'jimmy', 'jin', 'joanallen', 'joancusack', 'joaquinphoenix', 'job', 'jobs', 'jodiefoster', 'joe', 'joel', 'joelcoen', 'joelschumacher', 'joepesci', 'joey', 'john', 'johnc', 'johncarpenter', 'johncusack', 'johngoodman', 'johnhurt', 'johnleguizamo', 'johnmalkovich', 'johnmctiernan', 'johnny', 'johnnydepp', 'johnnyknoxville', 'johnsingleton', 'johnson', 'johntravolta', 'johnturturro', 'johnwoo', 'join', 'joined', 'joining', 'joins', 'jon', 'jonahhill', 'jonathan', 'jonathanfrakes', 'jonathanrhysmeyers', 'jones', 'jonfavreau', 'jonturteltaub', 'jonvoight', 'jordan', 'joseph', 'josephgordon', 'josh', 'joshbrolin', 'joshhartnett', 'joshhutcherson', 'journalism', 'journalist', 'journey', 'journeys', 'joy', 'jr', 'judelaw', 'judge', 'judidench', 'julia', 'julian', 'juliannemoore', 'juliaroberts', 'juliastiles', 'julie', 'july', 'jump', 'jumps', 'jungle', 'junior', 'junkie', 'jurors', 'jury', 'just', 'justice', 'justinlong', 'justintimberlake', 'kansas', 'karaoke', 'karate', 'karen', 'karlurban', 'kat', 'kate', 'katebeckinsale', 'katebosworth', 'katehudson', 'katemara', 'katewinslet', 'katherine', 'katherineheigl', 'kathy', 'kathybates', 'katie', 'katieholmes', 'katniss', 'kay', 'keanureeves', 'keeping', 'keeps', 'keiraknightley', 'kelly', 'ken', 'kennedy', 'kennethbranagh', 'kevin', 'kevinbacon', 'kevincostner', 'kevinhart', 'kevinjames', 'kevinkline', 'kevinsmith', 'kevinspacey', 'key', 'kgb', 'khan', 'kid', 'kidnap', 'kidnapped', 'kidnappers', 'kidnapping', 'kidnaps', 'kids', 'kidsandfamily', 'kiefersutherland', 'kill', 'killed', 'killer', 'killerrobot', 'killers', 'killing', 'kills', 'kim', 'kimbasinger', 'kind', 'king', 'kingdom', 'kingpin', 'kirk', 'kirstendunst', 'kiss', 'kit', 'kitchen', 'knew', 'knife', 'knight', 'know', 'knowing', 'knowledge', 'known', 'knows', 'kong', 'korea', 'korean', 'kriskristofferson', 'kristenbell', 'kristenstewart', 'kristenwiig', 'krueger', 'kung', 'kungfu', 'kurt', 'kurtrussell', 'kyle', 'la', 'lab', 'labor', 'laboratory', 'ladies', 'lady', 'ladykiller', 'laid', 'lake', 'land', 'landing', 'lands', 'landscape', 'lane', 'language', 'lapd', 'large', 'larger', 'largest', 'larry', 'las', 'lasergun', 'lassehallström', 'lasvegas', 'late', 'later', 'latest', 'launch', 'launched', 'launches', 'laura', 'lauralinney', 'laurencefishburne', 'lavish', 'law', 'lawman', 'lawrence', 'laws', 'lawyer', 'laxative', 'lazy', 'lead', 'leader', 'leaders', 'leading', 'leads', 'league', 'learn', 'learning', 'learns', 'leave', 'leaves', 'leaving', 'led', 'lee', 'left', 'legacy', 'legal', 'legend', 'legendary', 'legends', 'lenaheadey', 'leo', 'leon', 'leonardnimoy', 'leonardodicaprio', 'lesbian', 'lesbianrelationship', 'lesliemann', 'lesson', 'lessons', 'let', 'lethal', 'letter', 'letters', 'level', 'levitt', 'lewis', 'lgbt', 'liamneeson', 'liar', 'liberation', 'lie', 'lies', 'lieutenant', 'lievschreiber', 'life', 'lifeanddeath', 'lifelong', 'lifestyle', 'lifetime', 'light', 'lightning', 'lights', 'like', 'likes', 'lily', 'limits', 'lincoln', 'linda', 'lindsaylohan', 'line', 'lines', 'link', 'lion', 'lisa', 'list', 'literature', 'little', 'littleboy', 'live', 'lived', 'lives', 'living', 'll', 'loan', 'local', 'locals', 'location', 'locked', 'loganlerman', 'lola', 'london', 'londonengland', 'lone', 'loneliness', 'lonely', 'loner', 'long', 'longer', 'longtime', 'look', 'looking', 'looks', 'loose', 'loosely', 'lord', 'los', 'losangeles', 'lose', 'loser', 'loses', 'losing', 'loss', 'lossofbrother', 'lossofchild', 'lossoffamily', 'lossoffather', 'lossofhusband', 'lossoflover', 'lossofmother', 'lossofparents', 'lossofson', 'lost', 'lot', 'lou', 'louis', 'louisiana', 'lounge', 'love', 'loveatfirstsight', 'loved', 'loveletter', 'loveofone', 'lover', 'lovers', 'loves', 'lovesickness', 'lovetriangle', 'loving', 'low', 'loyal', 'loyalty', 'lt', 'lucas', 'luck', 'lucky', 'lucy', 'lucyliu', 'luke', 'lukewilson', 'lured', 'lust', 'luxury', 'lying', 'ma', 'machine', 'machinegun', 'macy', 'mad', 'madea', 'madness', 'mafia', 'magazine', 'maggie', 'magic', 'magical', 'magician', 'maid', 'main', 'maine', 'maintain', 'major', 'make', 'maker', 'makes', 'making', 'malcolm', 'malcolmd', 'male', 'malefemalerelationship', 'malefriendship', 'malenudity', 'mall', 'man', 'manager', 'manages', 'mandymoore', 'manhattan', 'manhunt', 'maniac', 'manipulation', 'mankind', 'manner', 'mannered', 'mansion', 'manvsmachine', 'map', 'marcforster', 'march', 'marcus', 'maria', 'mariabello', 'marie', 'marijuana', 'marine', 'marisatomei', 'mark', 'marked', 'market', 'markruffalo', 'markwahlberg', 'marlonbrando', 'marlonwayans', 'marriage', 'marriagecrisis', 'marriageproposal', 'married', 'marriedcouple', 'marries', 'marry', 'marrying', 'mars', 'marshal', 'marshall', 'martha', 'martial', 'martialarts', 'martin', 'martincampbell', 'martinlawrence', 'martinscorsese', 'marty', 'marvelcinematicuniverse', 'marvelcomic', 'mary', 'mask', 'masked', 'mass', 'massacre', 'massive', 'massmurder', 'master', 'mastermind', 'masters', 'masturbation', 'match', 'mates', 'mathematician', 'mathematics', 'matrix', 'matt', 'mattdamon', 'mattdillon', 'matter', 'matters', 'matthew', 'matthewbroderick', 'matthewmcconaughey', 'maurice', 'max', 'maya', 'maybe', 'mayhem', 'mayor', 'maze', 'mccall', 'mcclane', 'mcphee', 'mean', 'meaning', 'means', 'meant', 'meat', 'mechanic', 'medal', 'medallion', 'media', 'medical', 'medication', 'medicine', 'medieval', 'meet', 'meeting', 'meets', 'mega', 'megryan', 'melbrooks', 'melgibson', 'melvin', 'member', 'members', 'memories', 'memory', 'memoryloss', 'men', 'menace', 'mental', 'mentalillness', 'mentally', 'mentallydisabled', 'mentor', 'mephisto', 'mercenaries', 'mercenary', 'merciless', 'mere', 'mermaid', 'merylstreep', 'message', 'messages', 'met', 'metal', 'meteor', 'methods', 'metro', 'mexican', 'mexicanstandoff', 'mexico', 'mia', 'miami', 'michael', 'michaelangarano', 'michaelbay', 'michaelcaine', 'michaeldouglas', 'michaelfassbender', 'michaelj', 'michaelkeaton', 'michaelmoore', 'michaelshannon', 'michaelsheen', 'michelle', 'michellemonaghan', 'michellepfeiffer', 'michigan', 'mickeyrourke', 'mid', 'middle', 'middleeast', 'midlifecrisis', 'midst', 'midwest', 'mighty', 'mike', 'mikemyers', 'mikenewell', 'milakunis', 'mild', 'miles', 'military', 'millajovovich', 'miller', 'million', 'millionaire', 'millions', 'mind', 'minds', 'miner', 'mining', 'minions', 'minister', 'minnesota', 'minniedriver', 'minor', 'minute', 'minutes', 'miracle', 'miranda', 'mirror', 'misadventures', 'mischievous', 'miserable', 'misfit', 'misguided', 'miss', 'missile', 'missing', 'missingperson', 'mission', 'missionary', 'missionofmurder', 'mississippi', 'mistaken', 'mistakenidentity', 'mistakenly', 'mistakes', 'mistress', 'mitch', 'mitchell', 'mix', 'mixed', 'mob', 'mobster', 'mockumentary', 'model', 'modern', 'mole', 'molly', 'mom', 'moment', 'moments', 'money', 'monica', 'monk', 'monkey', 'monster', 'monsters', 'monstrous', 'montana', 'month', 'months', 'moon', 'moonlights', 'moore', 'moral', 'morality', 'morganfreeman', 'morgue', 'mormon', 'morning', 'morrischestnut', 'mortal', 'moscow', 'moses', 'motel', 'mother', 'motherdaughterrelationship', 'motherrole', 'mothersonrelationship', 'motion', 'motor', 'motorcycle', 'mountain', 'mountains', 'mouse', 'moved', 'movement', 'moves', 'movie', 'movies', 'moviestar', 'moving', 'mr', 'mrs', 'multi', 'multiple', 'multiplestorylines', 'mumblecore', 'mumblegore', 'murder', 'murdered', 'murderer', 'murderhunt', 'murdering', 'murderous', 'murders', 'murphy', 'museum', 'music', 'musical', 'musicband', 'musician', 'musicians', 'muslim', 'mutant', 'mutants', 'mutation', 'mutiny', 'mutual', 'mysteries', 'mysterious', 'mysteriously', 'mystery', 'mystical', 'mythical', 'mythology', 'naive', 'nam', 'named', 'names', 'nancy', 'nanny', 'naomiwatts', 'narcotics', 'narration', 'nasa', 'nasty', 'natalie', 'natalieportman', 'nathan', 'nation', 'national', 'nations', 'native', 'nativeamerican', 'natural', 'naturally', 'nature', 'navigate', 'navy', 'nazi', 'nazigermany', 'nazis', 'neal', 'near', 'nearby', 'nearly', 'necessary', 'need', 'needed', 'needs', 'nefarious', 'neighbor', 'neighborhood', 'neighbors', 'neiljordan', 'nelson', 'nemesis', 'neo', 'nephew', 'nerd', 'nerdy', 'netherlands', 'network', 'neurotic', 'nevada', 'nevecampbell', 'new', 'newborn', 'newcomer', 'newfound', 'newidentity', 'newjersey', 'newlove', 'newly', 'newmexico', 'news', 'newspaper', 'newyear', 'newyork', 'newyorkcity', 'nialong', 'nice', 'nicholas', 'nick', 'nicknolte', 'nicolascage', 'nicolekidman', 'niece', 'night', 'nightclub', 'nightmare', 'nightmares', 'nightshyamalan', 'nightstand', 'ninja', 'noble', 'noir', 'non', 'normal', 'north', 'northern', 'notorious', 'novel', 'novelist', 'nuclear', 'nuclearmissile', 'nudity', 'number', 'numberintitle', 'numbers', 'numerous', 'nun', 'nurse', 'nypd', 'object', 'obsessed', 'obsession', 'obsessive', 'obstacles', 'obtain', 'occult', 'occupied', 'occurrences', 'occurs', 'ocean', 'odd', 'oddball', 'odds', 'odyssey', 'offer', 'offered', 'offers', 'office', 'officer', 'officers', 'official', 'ohio', 'oil', 'old', 'older', 'oliver', 'oliverstone', 'olivia', 'oliviawilde', 'olympic', 'olympicgames', 'omar', 'ones', 'online', 'ontherun', 'open', 'opening', 'opens', 'opera', 'operation', 'operative', 'opportunity', 'opposing', 'opposite', 'oppositesattract', 'orcs', 'order', 'ordered', 'orders', 'ordinary', 'oregon', 'organization', 'organized', 'organizedcrime', 'original', 'origins', 'orlandobloom', 'orleans', 'orphan', 'orphanage', 'orphaned', 'oscar', 'oscaraward', 'otherworldly', 'outback', 'outbreak', 'outcast', 'outerspace', 'outlaw', 'outrageous', 'outside', 'overcome', 'overrun', 'owenwilson', 'owl', 'owned', 'owner', 'owners', 'oxford', 'oz', 'paced', 'pacific', 'pack', 'package', 'packed', 'pact', 'pageant', 'paid', 'pain', 'painful', 'painter', 'painting', 'pair', 'pal', 'palace', 'pals', 'pam', 'pan', 'panic', 'panther', 'paradise', 'parallel', 'parallelworld', 'paranoia', 'paranoid', 'paranormal', 'parent', 'parents', 'parentskidsrelationship', 'paris', 'park', 'parker', 'parody', 'parole', 'particularly', 'parties', 'partner', 'partners', 'partnership', 'parts', 'party', 'partying', 'pass', 'passed', 'passenger', 'passengers', 'passes', 'passing', 'passion', 'passionate', 'past', 'pastor', 'path', 'paths', 'patient', 'patients', 'patriarch', 'patrick', 'patrickstewart', 'patrickwilson', 'paul', 'paulapatton', 'paulbettany', 'paulgiamatti', 'paulgreengrass', 'paulnewman', 'paulrudd', 'paulw', 'paulwalker', 'pawns', 'pay', 'pays', 'peace', 'peaceful', 'pearl', 'peasant', 'penguin', 'penguins', 'penn', 'pennsylvania', 'penélopecruz', 'people', 'perfect', 'perform', 'performance', 'performances', 'performer', 'performing', 'perilous', 'period', 'perioddrama', 'perry', 'person', 'personal', 'personality', 'peru', 'pet', 'pete', 'peter', 'peterjackson', 'petersarsgaard', 'petersegal', 'petty', 'phil', 'philadelphia', 'philippe', 'philipseymourhoffman', 'phillipnoyce', 'philosophy', 'phone', 'photo', 'photographer', 'photography', 'physical', 'pianist', 'piano', 'pick', 'picks', 'picture', 'pictures', 'piece', 'pieces', 'piercebrosnan', 'pierre', 'pig', 'pilot', 'pilots', 'pimp', 'piperperabo', 'pirate', 'pistol', 'pits', 'place', 'placed', 'places', 'plague', 'plagued', 'plan', 'plane', 'planet', 'planned', 'plannedmurder', 'planning', 'plans', 'plant', 'plantation', 'play', 'playboy', 'played', 'player', 'players', 'playground', 'playing', 'plays', 'playwright', 'pleasure', 'plenty', 'plot', 'plots', 'plunged', 'plus', 'po', 'poet', 'poetry', 'point', 'poison', 'poker', 'polar', 'police', 'policebrutality', 'policechase', 'policeman', 'policeofficer', 'policeoperation', 'political', 'politician', 'politics', 'pollution', 'polly', 'pool', 'poor', 'pop', 'popstar', 'popular', 'popularity', 'population', 'porn', 'pornography', 'port', 'portal', 'porter', 'portrait', 'pose', 'posing', 'position', 'possess', 'possessed', 'possesses', 'possession', 'possibility', 'possible', 'possibly', 'post', 'posttraumaticstressdisorder', 'pot', 'potential', 'potter', 'poverty', 'power', 'powered', 'powerful', 'poweroutage', 'powers', 'prank', 'prayer', 'pre', 'preacher', 'precious', 'predator', 'pregnancy', 'pregnancyandbirth', 'pregnant', 'prehistoric', 'prejudice', 'prejudices', 'premonition', 'prepare', 'prepared', 'prepares', 'preparing', 'prequel', 'presence', 'present', 'presents', 'president', 'presidential', 'presidentialelection', 'press', 'pressure', 'pretty', 'prevent', 'previous', 'prey', 'price', 'pride', 'priest', 'prime', 'prince', 'princess', 'principal', 'prison', 'prisoner', 'prisoners', 'prisonersofwar', 'private', 'prize', 'pro', 'problem', 'problems', 'process', 'prodigy', 'produced', 'producer', 'product', 'production', 'professional', 'professor', 'profit', 'program', 'project', 'prom', 'prominent', 'promise', 'promised', 'promises', 'promising', 'promoter', 'prompting', 'property', 'prophecy', 'prosecution', 'prostitute', 'prostitution', 'protect', 'protecting', 'protection', 'protest', 'prove', 'proves', 'provide', 'psychiatric', 'psychiatrist', 'psychic', 'psychological', 'psychologist', 'psychology', 'psychopath', 'psychotic', 'pub', 'puberty', 'public', 'pull', 'pulled', 'pulls', 'punishment', 'punk', 'puppet', 'puppy', 'pure', 'purpose', 'pursue', 'pursued', 'pursues', 'pursuing', 'pursuit', 'push', 'pushed', 'pushes', 'puts', 'putting', 'quarantine', 'quarterback', 'queen', 'queenlatifah', 'queens', 'quentintarantino', 'quest', 'question', 'questions', 'quick', 'quickly', 'quiet', 'quirky', 'quite', 'rabbit', 'race', 'raceagainsttime', 'racer', 'races', 'rachaelleighcook', 'rachel', 'rachelmcadams', 'rachelweisz', 'racial', 'racing', 'racism', 'radio', 'rag', 'rage', 'rageandhate', 'raid', 'railroad', 'rain', 'raise', 'raised', 'raising', 'ralph', 'ralphfiennes', 'rampage', 'ranch', 'ranger', 'rangers', 'ranking', 'ransom', 'rape', 'rapidly', 'rapmusic', 'rapper', 'rare', 'rat', 'ravaged', 'raw', 'ray', 'rayliotta', 'raymond', 'raywinstone', 'reach', 'reaches', 'reading', 'ready', 'real', 'reality', 'realize', 'realizes', 'realizing', 'really', 'realm', 'reaper', 'reason', 'rebecca', 'rebeccahall', 'rebel', 'rebellion', 'rebellious', 'rebels', 'reboot', 'rebuild', 'receive', 'receives', 'receiving', 'recent', 'recently', 'reclaim', 'reclusive', 'reconcile', 'reconnect', 'record', 'recording', 'records', 'recover', 'recovering', 'recruit', 'recruited', 'recruits', 'red', 'redemption', 'reesewitherspoon', 'refuge', 'refuses', 'regain', 'regime', 'reign', 'reilly', 'relationship', 'relationshipproblems', 'relationships', 'relatives', 'release', 'released', 'relentless', 'religion', 'religionandsupernatural', 'religious', 'relocated', 'reluctant', 'reluctantly', 'rely', 'remain', 'remaining', 'remains', 'remake', 'remember', 'remote', 'renegade', 'rennyharlin', 'renowned', 'renéezellweger', 'repayment', 'replace', 'report', 'reporter', 'repressed', 'republic', 'reputation', 'rescue', 'rescued', 'rescues', 'rescuing', 'research', 'researcher', 'resident', 'residents', 'resistance', 'resolve', 'resort', 'resources', 'respect', 'respected', 'respective', 'response', 'responsibility', 'responsible', 'rest', 'restaurant', 'restore', 'result', 'resulting', 'results', 'resurrected', 'resurrection', 'retelling', 'retired', 'retirement', 'retreat', 'retribution', 'retrieve', 'return', 'returned', 'returning', 'returns', 'reunion', 'reunite', 'reunited', 'reunites', 'reveal', 'revealed', 'revealing', 'reveals', 'revelation', 'revenge', 'revolution', 'revolutionary', 'revolves', 'reward', 'rich', 'richard', 'richarddonner', 'richarddreyfuss', 'richardgere', 'richardlinklater', 'rick', 'rid', 'riddle', 'ride', 'rider', 'riding', 'ridleyscott', 'rifle', 'right', 'rightandjustice', 'rights', 'riley', 'ring', 'riot', 'ripley', 'rise', 'rises', 'rising', 'risk', 'risks', 'ritual', 'rival', 'rivalry', 'rivals', 'river', 'road', 'roadmovie', 'roadtrip', 'rob', 'robber', 'robbers', 'robbery', 'robcohen', 'robert', 'robertdeniro', 'robertdowneyjr', 'robertduvall', 'robertenglund', 'robertredford', 'robertrodriguez', 'robertzemeckis', 'robin', 'robinson', 'robinwilliams', 'robinwright', 'robot', 'robots', 'robreiner', 'rock', 'rockandroll', 'rocket', 'rockstar', 'rocky', 'roger', 'rogerdonaldson', 'rogermoore', 'rogue', 'rolandemmerich', 'role', 'roles', 'roll', 'roman', 'romance', 'romantic', 'romanticcomedy', 'rome', 'romeo', 'romero', 'ron', 'ronhoward', 'ronnie', 'roof', 'rookie', 'room', 'roommate', 'roots', 'rosariodawson', 'rose', 'rosebyrne', 'ross', 'rough', 'round', 'routine', 'row', 'roy', 'royal', 'royalty', 'ruby', 'rugrats', 'rule', 'ruled', 'rules', 'run', 'runaway', 'runner', 'running', 'runs', 'rupertgrint', 'rural', 'ruralsetting', 'rush', 'russell', 'russellcrowe', 'russia', 'russian', 'russians', 'ruth', 'ruthless', 'ryan', 'ryangosling', 'ryanphillippe', 'ryanreynolds', 'sabotage', 'sacrifice', 'sadism', 'sadistic', 'sadness', 'safe', 'safety', 'saga', 'said', 'sailing', 'sailor', 'sale', 'salesman', 'sally', 'salmahayek', 'sam', 'samantha', 'samanthamorton', 'sammendes', 'samneill', 'samraimi', 'samrockwell', 'samuel', 'samuell', 'samurai', 'san', 'sandrabullock', 'sandy', 'sanfrancisco', 'sanity', 'santa', 'santaclaus', 'sara', 'sarah', 'sarahjessicaparker', 'sarahmichellegellar', 'satan', 'satellite', 'satire', 'savage', 'save', 'saved', 'saves', 'saving', 'savingtheworld', 'say', 'sbook', 'scam', 'scandal', 'scared', 'scarlettjohansson', 'scary', 'scene', 'scenes', 'scheme', 'schemes', 'scheming', 'schizophrenia', 'scholarship', 'school', 'schoolteacher', 'sci', 'science', 'sciencefiction', 'scientific', 'scientist', 'scientists', 'score', 'scotland', 'scott', 'scottglenn', 'scottish', 'scout', 'screaming', 'screen', 'screenwriter', 'scubadiving', 'sdailylife', 'sea', 'seal', 'sean', 'seanbean', 'seanconnery', 'seannwilliamscott', 'seanpenn', 'search', 'searches', 'searching', 'seas', 'seaside', 'season', 'seasoned', 'seattle', 'sebastian', 'second', 'secret', 'secretagent', 'secretary', 'secretidentity', 'secretintelligenceservice', 'secretlove', 'secretly', 'secretmission', 'secretorganization', 'secrets', 'secretservice', 'secretsociety', 'section', 'secure', 'security', 'securityguard', 'seduction', 'seductive', 'seeing', 'seek', 'seeking', 'seeks', 'seemingly', 'seen', 'sees', 'self', 'selfsacrifice', 'sell', 'selling', 'sells', 'selmablair', 'semi', 'senate', 'senator', 'send', 'sending', 'sends', 'senior', 'seniors', 'sense', 'sent', 'sentence', 'sentenced', 'seo', 'separate', 'separated', 'separation', 'sequel', 'sergeant', 'serial', 'serialkiller', 'series', 'seriesofmurders', 'seriously', 'servant', 'serve', 'serves', 'service', 'serving', 'set', 'seth', 'sethgreen', 'sethrogen', 'sets', 'setting', 'settle', 'seve', 'seven', 'severe', 'severely', 'sex', 'sexaddiction', 'sexual', 'sexualabuse', 'sexuality', 'sexually', 'sexualobsession', 'sexy', 'shadow', 'shady', 'shake', 'shaken', 'shakespeare', 'shane', 'shannynsossamon', 'shape', 'share', 'shared', 'shares', 'sharing', 'shark', 'sharkattack', 'sharks', 'sharonstone', 'sharp', 'shattered', 'shaw', 'shawnlevy', 'shelter', 'sheltered', 'sheriff', 'shialabeouf', 'ship', 'shipwreck', 'shocked', 'shocking', 'shoes', 'shooting', 'shootout', 'shop', 'short', 'shot', 'shotgun', 'showdown', 'shower', 'showing', 'shows', 'shrek', 'shut', 'shy', 'shyness', 'siblings', 'sick', 'sidekick', 'sides', 'sidney', 'siege', 'sight', 'sights', 'sign', 'signed', 'signs', 'sigourneyweaver', 'silent', 'silver', 'similar', 'simon', 'simonpegg', 'simonwest', 'simple', 'simply', 'sin', 'sing', 'singer', 'singers', 'singing', 'single', 'singlefather', 'singlemother', 'singleparent', 'sinister', 'sir', 'sister', 'sisters', 'sistersisterrelationship', 'site', 'sittingonatoilet', 'situation', 'situations', 'size', 'sized', 'skateboarding', 'skeleton', 'skeptical', 'skilled', 'skills', 'skull', 'sky', 'skyscraper', 'slacker', 'slapstick', 'slasher', 'slaughter', 'slave', 'slavery', 'slaves', 'sleazy', 'sleep', 'sleeping', 'sleepy', 'slife', 'slowly', 'slum', 'small', 'smalltown', 'smart', 'smith', 'smitten', 'smoking', 'smuggling', 'snake', 'sniper', 'snow', 'snowstorm', 'soccer', 'social', 'socialite', 'socially', 'society', 'sociopath', 'sofia', 'solar', 'sold', 'soldier', 'soldiers', 'sole', 'solomon', 'solve', 'somebody', 'somewhat', 'son', 'song', 'songs', 'songwriter', 'sons', 'soon', 'sophie', 'sorcerer', 'sorcery', 'sorority', 'sort', 'soul', 'souls', 'soundtrack', 'source', 'south', 'southafrica', 'southern', 'southernusa', 'soviet', 'space', 'spacecraft', 'spacemarine', 'spacemission', 'spaceopera', 'spaceship', 'spacetravel', 'spain', 'spanish', 'spanning', 'sparks', 'speak', 'speaking', 'special', 'specialist', 'species', 'spectacle', 'spectacular', 'speech', 'speed', 'spell', 'spend', 'spending', 'spends', 'spent', 'spider', 'spikelee', 'spiral', 'spirit', 'spirited', 'spirits', 'spiritual', 'spoof', 'sport', 'sports', 'spot', 'spotlight', 'spread', 'spring', 'spy', 'squad', 'st', 'stadium', 'staff', 'stage', 'stages', 'stake', 'stakes', 'stalked', 'stalker', 'stalking', 'stan', 'stand', 'standing', 'stands', 'star', 'starcrossedlovers', 'stardom', 'stark', 'starring', 'stars', 'start', 'started', 'starting', 'starts', 'state', 'states', 'station', 'status', 'stay', 'steal', 'stealing', 'steals', 'steampunk', 'steel', 'stella', 'step', 'stepfather', 'stephen', 'stephendorff', 'stephenfrears', 'stephenherek', 'stephenrea', 'stepmother', 'steps', 'steve', 'stevebuscemi', 'stevecarell', 'stevemartin', 'steven', 'stevens', 'stevenseagal', 'stevensoderbergh', 'stevenspielberg', 'stevezahn', 'stewart', 'stock', 'stockbroker', 'stolen', 'stone', 'stoneage', 'stoner', 'stop', 'stopmotion', 'stopping', 'store', 'stories', 'storm', 'story', 'straight', 'stranded', 'strange', 'stranger', 'strangers', 'strategy', 'street', 'streetgang', 'streets', 'strength', 'stress', 'strict', 'strike', 'strikes', 'strip', 'stripclub', 'stripes', 'stripper', 'strong', 'struggle', 'struggles', 'struggling', 'stuart', 'stuck', 'student', 'students', 'studies', 'studio', 'study', 'stumble', 'stumbles', 'stunning', 'stunts', 'style', 'sub', 'submarine', 'suburban', 'suburbia', 'subway', 'succeed', 'succeeds', 'success', 'successful', 'successfully', 'successor', 'sudden', 'suddenly', 'sue', 'suffering', 'suffers', 'suggests', 'suicidal', 'suicide', 'suicideattempt', 'suit', 'suitcase', 'suitor', 'sullivan', 'summer', 'sun', 'sunglasses', 'super', 'superhero', 'superheroes', 'superhuman', 'superhumanstrength', 'superman', 'supermarket', 'supernatural', 'supernaturalpowers', 'superpowers', 'superstar', 'supervillain', 'supervisor', 'supply', 'support', 'supposed', 'suppressedpast', 'sure', 'surface', 'surfer', 'surgeon', 'surgery', 'surprise', 'surprising', 'surreal', 'surrealism', 'surrounding', 'surveillance', 'survival', 'survive', 'survived', 'survives', 'surviving', 'survivor', 'survivors', 'susan', 'susansarandon', 'suspect', 'suspected', 'suspecting', 'suspects', 'suspense', 'suspicion', 'suspicious', 'sweet', 'sweetheart', 'swimmingpool', 'sword', 'swordandsorcery', 'swordfight', 'swordplay', 'sylvesterstallone', 'table', 'tag', 'tail', 'taken', 'takes', 'taking', 'tale', 'talent', 'talented', 'tales', 'talk', 'talking', 'talkinganimal', 'talks', 'tall', 'tank', 'tape', 'target', 'targeted', 'targets', 'task', 'tasked', 'taste', 'taxi', 'taxidriver', 'taylor', 'teach', 'teacher', 'teachers', 'teaches', 'teaching', 'team', 'teams', 'tear', 'tears', 'tech', 'technology', 'ted', 'teen', 'teenage', 'teenagecrush', 'teenagegirl', 'teenager', 'teenagers', 'teencomedy', 'teenmovie', 'teens', 'telekinesis', 'telepathy', 'television', 'tell', 'telling', 'tells', 'temple', 'tennessee', 'tennis', 'tense', 'tension', 'term', 'terminal', 'terminalillness', 'terms', 'terrencehoward', 'terrible', 'terrier', 'terrified', 'terrifying', 'territory', 'terror', 'terrorism', 'terrorist', 'terrorists', 'terrorize', 'terry', 'terrygilliam', 'tess', 'test', 'tested', 'tests', 'texas', 'thailand', 'thandienewton', 'thanks', 'thanksgiving', 'theater', 'theatremilieu', 'theft', 'theory', 'therapist', 'therapy', 'thief', 'thieves', 'thing', 'things', 'think', 'thinking', 'thinks', 'thirty', 'thomas', 'thomashadenchurch', 'thomasjane', 'thompson', 'thought', 'thoughts', 'thousand', 'thousands', 'threat', 'threaten', 'threatened', 'threatening', 'threatens', 'threats', 'thrill', 'thriller', 'thrilling', 'throne', 'throw', 'thrown', 'thrust', 'thugs', 'thwart', 'ticket', 'ties', 'tiger', 'tim', 'timallen', 'timburton', 'time', 'timeless', 'times', 'timetravel', 'timothyolyphant', 'timrobbins', 'timroth', 'tiny', 'titanic', 'title', 'tobeymaguire', 'today', 'todd', 'toddphillips', 'tokyo', 'told', 'tom', 'tomcruise', 'tomhanks', 'tomhardy', 'tommy', 'tommyleejones', 'tomshadyac', 'tomwilkinson', 'tonicollette', 'tony', 'tonyscott', 'took', 'tormented', 'torn', 'tornado', 'toronto', 'torture', 'tortured', 'total', 'totally', 'touch', 'touches', 'touching', 'tough', 'toughest', 'tour', 'tourist', 'tournament', 'town', 'toxic', 'toy', 'toycomestolife', 'toys', 'track', 'tracking', 'tracks', 'tracy', 'trade', 'tradition', 'traditional', 'traffic', 'trafficking', 'tragedy', 'tragic', 'trail', 'train', 'trained', 'trainer', 'training', 'trains', 'traitor', 'transfer', 'transform', 'transformation', 'transformed', 'transformers', 'transforming', 'transforms', 'transported', 'transporter', 'trap', 'trapped', 'traps', 'trauma', 'traumatic', 'travel', 'traveling', 'travels', 'treacherous', 'treasure', 'treasurehunt', 'treat', 'treatment', 'tree', 'trek', 'trial', 'trials', 'triangle', 'tribe', 'trick', 'tried', 'tries', 'trilogy', 'trio', 'trip', 'troops', 'tropical', 'trouble', 'troubled', 'troy', 'truck', 'trucker', 'true', 'truly', 'trust', 'truth', 'try', 'trying', 'tunnel', 'turmoil', 'turn', 'turned', 'turner', 'turning', 'turns', 'turtle', 'turtles', 'tv', 'tvmovie', 'tvshow', 'tvstation', 'twin', 'twinbrother', 'twins', 'twist', 'twisted', 'tycoon', 'tyler', 'tylerperry', 'type', 'typical', 'tyrannical', 'téaleoni', 'ufo', 'ugly', 'ultimate', 'ultimately', 'ultra', 'umathurman', 'unable', 'unaware', 'uncle', 'unconventional', 'uncover', 'uncovering', 'uncovers', 'undead', 'undercover', 'undercoveragent', 'undercovercop', 'underdog', 'underground', 'understand', 'underwater', 'underworld', 'unemployed', 'unemployment', 'unexpected', 'unexpectedly', 'unfold', 'unforeseen', 'unforgettable', 'unfortunate', 'unfortunately', 'unimaginable', 'union', 'unique', 'unit', 'unite', 'united', 'universe', 'university', 'unknown', 'unleash', 'unleashed', 'unleashing', 'unlikely', 'unlock', 'unorthodox', 'unprecedented', 'unravel', 'unrequitedlove', 'unsimulatedsex', 'unsociability', 'unstable', 'unstoppable', 'unsuspecting', 'unusual', 'unwitting', 'unwittingly', 'upcoming', 'upper', 'upperclass', 'uprising', 'ups', 'upside', 'uptight', 'urban', 'usa', 'usapresident', 'use', 'used', 'uses', 'using', 'utah', 'vacation', 'val', 'valentine', 'valkilmer', 'valley', 'valuable', 'value', 'values', 'vampire', 'vampires', 'van', 'vandalism', 'vanessa', 'vanessahudgens', 'variety', 'various', 'vast', 'vatican', 'vault', 've', 'vegas', 'vegetarian', 'vengeance', 'vengeful', 'venice', 'verafarmiga', 'verge', 'version', 'verylittledialogue', 'veteran', 'vice', 'vicious', 'victim', 'victims', 'victor', 'victoria', 'victory', 'video', 'videogame', 'vienna', 'vietnam', 'vietnamveteran', 'vietnamwar', 'view', 'viggomortensen', 'vigilante', 'village', 'villain', 'villainous', 'villains', 'vincent', 'vincevaughn', 'vindiesel', 'vineyard', 'violence', 'violent', 'virgin', 'virginia', 'virginiamadsen', 'virginity', 'virtualreality', 'virus', 'vision', 'visions', 'visit', 'visited', 'visits', 'voice', 'volatile', 'volcano', 'volunteers', 'von', 'voodoo', 'vow', 'vows', 'voyage', 'voyeurism', 'wacky', 'wade', 'wait', 'waiting', 'waitress', 'wake', 'wakes', 'walk', 'walker', 'walking', 'walks', 'wall', 'wallet', 'walls', 'wallstreet', 'walt', 'walter', 'wang', 'want', 'wanted', 'wanting', 'wants', 'war', 'warcrimes', 'ward', 'warden', 'warehouse', 'warfare', 'warlock', 'warlord', 'warondrugs', 'warren', 'warrenbeatty', 'warrior', 'warriors', 'wars', 'washed', 'washington', 'washingtond', 'wasteland', 'watch', 'watches', 'watching', 'water', 'waters', 'wave', 'way', 'ways', 'wealth', 'wealthy', 'weapon', 'weapons', 'wearing', 'weather', 'web', 'website', 'wedding', 'week', 'weekend', 'weeks', 'welcome', 'went', 'werewolf', 'wesbentley', 'wescraven', 'wesley', 'wesleysnipes', 'west', 'western', 'whale', 'wheelchair', 'whip', 'white', 'whitehouse', 'whoopigoldberg', 'wicked', 'wide', 'widow', 'widowed', 'widower', 'wife', 'wifehusbandrelationship', 'wild', 'wilderness', 'wildly', 'willemdafoe', 'willferrell', 'william', 'williamh', 'williamhurt', 'williams', 'williamshatner', 'willing', 'willpatton', 'willsmith', 'wilson', 'win', 'wind', 'window', 'winds', 'wine', 'wing', 'winner', 'winning', 'winonaryder', 'wins', 'winter', 'wise', 'wish', 'wishes', 'witch', 'witches', 'witness', 'witnesses', 'wits', 'wizard', 'wizardry', 'wolf', 'woman', 'womandirector', 'womanizer', 'womanrelation', 'women', 'won', 'wonder', 'wonders', 'woods', 'woody', 'woodyallen', 'woodyharrelson', 'word', 'words', 'work', 'workaholic', 'worked', 'worker', 'workers', 'working', 'works', 'world', 'worlds', 'worldwari', 'worldwarii', 'worldwide', 'worse', 'worst', 'worth', 'wounded', 'wreak', 'wrestling', 'wretch', 'wright', 'write', 'writer', 'writes', 'writing', 'written', 'wrong', 'wwii', 'wyoming', 'xenophobia', 'yacht', 'yakuza', 'yard', 'year', 'years', 'yellow', 'york', 'young', 'youngadult', 'younger', 'youngest', 'youth', 'yuppie', 'zacefron', 'zachgalifianakis', 'zacksnyder', 'zebra', 'zeus', 'zoe', 'zoesaldana', 'zombie', 'zombies', 'zone', 'zoo', 'zooeydeschanel']\n"
     ]
    }
   ],
   "source": [
    "features = cv.get_feature_names_out()\n",
    "print(list(features))"
   ]
  },
  {
   "cell_type": "code",
   "execution_count": 101,
   "id": "7761c89a-ab08-4c61-a3ba-4f9b29ba2870",
   "metadata": {},
   "outputs": [],
   "source": [
    "# the words are repetitive. For example: 'activities', 'activity' and 'actor', 'actors' and 'africa', 'african'\n",
    "# to solve this we will be using the steming technique"
   ]
  },
  {
   "cell_type": "code",
   "execution_count": 103,
   "id": "456d60b7-e9e9-484c-b9ba-03c0eb1f2706",
   "metadata": {},
   "outputs": [],
   "source": [
    "import nltk"
   ]
  },
  {
   "cell_type": "code",
   "execution_count": 104,
   "id": "d1a0727a-980d-4e7b-8d92-3ff3d7a43695",
   "metadata": {},
   "outputs": [],
   "source": [
    "from nltk.stem.porter import PorterStemmer\n",
    "ps= PorterStemmer()"
   ]
  },
  {
   "cell_type": "code",
   "execution_count": 105,
   "id": "7979e6f3-b70a-4724-ae1a-cf68b642ea29",
   "metadata": {},
   "outputs": [],
   "source": [
    "def stem(text):\n",
    "    y=[]\n",
    "    for i in text.split():\n",
    "        y.append(ps.stem(i))\n",
    "    return \" \".join(y)"
   ]
  },
  {
   "cell_type": "code",
   "execution_count": 106,
   "id": "dd503ee0-8f63-44b3-8d1c-be56eadc6a4c",
   "metadata": {},
   "outputs": [
    {
     "name": "stderr",
     "output_type": "stream",
     "text": [
      "C:\\Users\\Sunita\\AppData\\Local\\Temp\\ipykernel_10688\\3021978705.py:1: SettingWithCopyWarning: \n",
      "A value is trying to be set on a copy of a slice from a DataFrame.\n",
      "Try using .loc[row_indexer,col_indexer] = value instead\n",
      "\n",
      "See the caveats in the documentation: https://pandas.pydata.org/pandas-docs/stable/user_guide/indexing.html#returning-a-view-versus-a-copy\n",
      "  new_df['tags']= new_df['tags'].apply(stem)\n"
     ]
    }
   ],
   "source": [
    "new_df['tags']= new_df['tags'].apply(stem)"
   ]
  },
  {
   "cell_type": "code",
   "execution_count": 107,
   "id": "27ce18a7-25ac-4ece-b3ab-821d96985b00",
   "metadata": {},
   "outputs": [],
   "source": [
    "# now lets repeat vectorization steps"
   ]
  },
  {
   "cell_type": "code",
   "execution_count": 108,
   "id": "9b26b444-0465-4a80-a5b8-9fd970f6ba00",
   "metadata": {},
   "outputs": [],
   "source": [
    "from sklearn.feature_extraction.text import CountVectorizer\n",
    "cv = CountVectorizer(max_features=5000,stop_words='english')\n",
    "# we will combine all the tags and pick up the 5000 most frequent words from it. Stop words like and, for , are is , a, an,the which do not\n",
    "# contribute anything to the meaning of sentence will be removed"
   ]
  },
  {
   "cell_type": "code",
   "execution_count": 109,
   "id": "1a764d2b-1a9a-409c-9c22-a03d72495921",
   "metadata": {},
   "outputs": [],
   "source": [
    "vectors = cv.fit_transform(new_df['tags']).toarray()"
   ]
  },
  {
   "cell_type": "code",
   "execution_count": 110,
   "id": "856afde3-6e3b-433e-a84d-89e5d9a1d17a",
   "metadata": {},
   "outputs": [
    {
     "name": "stdout",
     "output_type": "stream",
     "text": [
      "['000', '007', '10', '100', '11', '12', '13', '14', '15', '16', '17', '17th', '18', '18th', '18thcenturi', '19', '1910', '1920', '1930', '1940', '1944', '1950', '1950s', '1960', '1960s', '1970', '1970s', '1971', '1974', '1976', '1980', '1985', '1990', '1999', '19th', '19thcenturi', '20', '200', '2003', '2009', '20th', '21st', '23', '24', '25', '30', '300', '3d', '40', '50', '500', '60', '70', '80', 'aaron', 'aaroneckhart', 'abandon', 'abduct', 'abigailbreslin', 'abil', 'abl', 'aboard', 'abov', 'abus', 'academ', 'academi', 'accept', 'access', 'accid', 'accident', 'acclaim', 'accompani', 'accomplish', 'account', 'accus', 'ace', 'achiev', 'acquaint', 'act', 'action', 'actionhero', 'activ', 'activist', 'activities', 'actor', 'actress', 'actual', 'ad', 'adam', 'adamsandl', 'adamshankman', 'adapt', 'add', 'addict', 'adjust', 'admir', 'admit', 'adolesc', 'adopt', 'ador', 'adrienbrodi', 'adult', 'adultanim', 'adulteri', 'adulthood', 'advanc', 'adventur', 'adventure', 'adventures', 'advertis', 'advic', 'advis', 'affair', 'affect', 'afghanistan', 'africa', 'african', 'africanamerican', 'aftercreditssting', 'afterlif', 'aftermath', 'ag', 'age', 'agediffer', 'agenc', 'agency', 'agenda', 'agent', 'agents', 'aggress', 'ago', 'agre', 'ahead', 'aid', 'aidanquinn', 'ail', 'aim', 'air', 'airplan', 'airplanecrash', 'airport', 'aka', 'al', 'alabama', 'alan', 'alaska', 'albert', 'alcatraz', 'alcohol', 'alecbaldwin', 'alex', 'alexkendrick', 'alfredhitchcock', 'alfredmolina', 'ali', 'alic', 'alice', 'alien', 'alieninvas', 'alienlife', 'alienplanet', 'aliens', 'alik', 'aliv', 'alive', 'allen', 'alli', 'allianc', 'allow', 'alon', 'alongsid', 'alpacino', 'alpha', 'alreadi', 'alter', 'altern', 'alway', 'alyssa', 'alzheimer', 'amanda', 'amandapeet', 'amandaseyfri', 'amateur', 'amaz', 'amazon', 'ambassador', 'ambit', 'ambiti', 'ambul', 'ambush', 'america', 'american', 'americanabroad', 'americancivilwar', 'americanfootbal', 'americanfootballplay', 'amid', 'amidst', 'amnesia', 'amp', 'amsterdam', 'amus', 'amusementpark', 'amy', 'amyadam', 'amysmart', 'ana', 'anakin', 'analyst', 'anarchiccomedi', 'ancient', 'ancientrom', 'ancientworld', 'anderson', 'andi', 'andiemacdowel', 'andrew', 'android', 'andy', 'andygarcía', 'angel', 'angela', 'angelabassett', 'angeles', 'angelinajoli', 'anger', 'angle', 'angri', 'ani', 'anim', 'animalattack', 'animalhorror', 'animals', 'anjelicahuston', 'ann', 'anna', 'annafari', 'annakendrick', 'anne', 'annehathaway', 'annemoss', 'annetteben', 'anni', 'annie', 'anniversari', 'announc', 'annual', 'anonym', 'anoth', 'answer', 'ant', 'antholog', 'anthoni', 'anthonyanderson', 'anthonyhopkin', 'anthropomorph', 'anti', 'antic', 'antihero', 'antiqu', 'antoinefuqua', 'antoniobandera', 'antonyelchin', 'anyon', 'anyth', 'apart', 'apartheid', 'apartment', 'ape', 'apocalyps', 'apocalypse', 'apocalypt', 'appar', 'appear', 'appl', 'apple', 'appoint', 'appreci', 'apprentic', 'approach', 'april', 'aquarium', 'arab', 'arch', 'archaeologist', 'archeolog', 'archer', 'architect', 'arctic', 'area', 'aren', 'arena', 'argument', 'aris', 'aristocrat', 'arm', 'armi', 'armor', 'armsdeal', 'army', 'arnold', 'arnoldschwarzenegg', 'arrang', 'arrangedmarriag', 'arrest', 'arriv', 'arrog', 'art', 'arthur', 'artifact', 'artifici', 'artificialintellig', 'artist', 'ash', 'ashley', 'ashleyjudd', 'ashtonkutch', 'asia', 'asian', 'asid', 'ask', 'aspect', 'aspir', 'assassin', 'assault', 'assembl', 'assign', 'assist', 'assistant', 'associ', 'assum', 'asteroid', 'astronaut', 'asylum', 'atheist', 'athlet', 'atom', 'atomicbomb', 'attack', 'attacks', 'attempt', 'attend', 'attent', 'attic', 'attitud', 'attorney', 'attract', 'auction', 'audienc', 'audit', 'august', 'aunt', 'austin', 'australia', 'australian', 'author', 'autism', 'auto', 'automobilerac', 'aveng', 'averag', 'avoid', 'await', 'awak', 'awaken', 'awar', 'award', 'away', 'awkward', 'awri', 'awry', 'ax', 'babe', 'babi', 'baby', 'bachelor', 'backdrop', 'background', 'backpack', 'bad', 'bag', 'bahama', 'bail', 'balanc', 'ball', 'ballet', 'balloon', 'baltimor', 'ban', 'band', 'bandit', 'bangkok', 'banish', 'bank', 'banker', 'bankrobb', 'bankrobberi', 'bar', 'barbrastreisand', 'bare', 'bargain', 'barn', 'barney', 'baron', 'barri', 'barrylevinson', 'barrysonnenfeld', 'bas', 'base', 'basebal', 'basedoncomicbook', 'basedongraphicnovel', 'basedonnovel', 'basedonplay', 'basedonstagemus', 'basedontrueev', 'basedontruestori', 'basedontvseri', 'basedonvideogam', 'basedonyoungadultnovel', 'basement', 'basketbal', 'basketball', 'bat', 'batman', 'battl', 'battle', 'battlefield', 'bay', 'beach', 'beam', 'bear', 'beard', 'beast', 'beat', 'beauti', 'beautiful', 'beautifulwoman', 'beauty', 'becam', 'becaus', 'becki', 'becom', 'becominganadult', 'bed', 'bedroom', 'bee', 'beer', 'befor', 'befriend', 'began', 'begin', 'begins', 'behavior', 'belief', 'believ', 'bell', 'bella', 'belong', 'belov', 'ben', 'benaffleck', 'bend', 'beneath', 'benefit', 'benfost', 'beniciodeltoro', 'benjamin', 'benjaminbratt', 'benkingsley', 'bennett', 'benstil', 'bent', 'berlin', 'best', 'bestfriend', 'bestfriendsinlov', 'bet', 'beth', 'betray', 'bettemidl', 'better', 'betti', 'beverli', 'bibl', 'bid', 'big', 'bigger', 'biggest', 'bike', 'biker', 'bikini', 'billhad', 'billi', 'billionair', 'billmurray', 'billnighi', 'billpaxton', 'billpullman', 'billybobthornton', 'billycrudup', 'billycryst', 'biographi', 'biolog', 'bird', 'birth', 'birthday', 'bisexu', 'bishop', 'bit', 'bite', 'bitter', 'bizarr', 'black', 'blackmag', 'blackmail', 'blackpeopl', 'blacksmith', 'blade', 'blame', 'blend', 'blind', 'bliss', 'blizzard', 'block', 'blond', 'blood', 'bloodi', 'bloodsplatt', 'bloodthirsti', 'blow', 'blue', 'board', 'boardingschool', 'boat', 'bob', 'bobbi', 'bobbyfarrelli', 'bobhoskin', 'bodi', 'body', 'bodyguard', 'bold', 'bollywood', 'bomb', 'bond', 'bone', 'book', 'border', 'bore', 'boredom', 'born', 'boss', 'boston', 'botch', 'bound', 'boundari', 'bounti', 'bountyhunt', 'bout', 'box', 'boxer', 'boy', 'boyfriend', 'boys', 'bradleycoop', 'bradpitt', 'brain', 'brainwash', 'brand', 'brandon', 'brave', 'braveri', 'brazil', 'brazilian', 'break', 'breakdown', 'breast', 'breath', 'breed', 'brendanfras', 'brendangleeson', 'brent', 'brettratn', 'brian', 'briandepalma', 'bride', 'bridesmaid', 'bridg', 'brief', 'brielarson', 'brien', 'bright', 'brilliant', 'bring', 'brink', 'britain', 'british', 'britishsecretservic', 'brittanymurphi', 'broadcast', 'broadway', 'broke', 'broken', 'broker', 'bronx', 'brook', 'brooklyn', 'broom', 'brothel', 'brother', 'brotherbrotherrelationship', 'brothers', 'brothersisterrelationship', 'brought', 'brown', 'bruce', 'brucegreenwood', 'brucewilli', 'brutal', 'bryansing', 'bu', 'buck', 'bud', 'buddi', 'buddy', 'buddycomedi', 'buddycop', 'budget', 'build', 'building', 'built', 'bullet', 'bulli', 'bumbl', 'bunch', 'bunker', 'bunni', 'burglar', 'buri', 'burn', 'bush', 'busi', 'business', 'businessman', 'bust', 'butcher', 'butler', 'butt', 'button', 'buy', 'buzz', 'cabin', 'caesar', 'cage', 'cairo', 'cal', 'california', 'calvin', 'camcord', 'came', 'camera', 'cameraman', 'camerondiaz', 'camp', 'campaign', 'campbell', 'campu', 'canada', 'canadian', 'cancer', 'candi', 'candid', 'canin', 'cannib', 'canuxploit', 'capabl', 'caper', 'capit', 'capt', 'captain', 'captiv', 'captur', 'capture', 'car', 'caraccid', 'carchas', 'carcrash', 'card', 'care', 'career', 'carefre', 'caretak', 'careymulligan', 'caribbean', 'carjourney', 'carl', 'carlagugino', 'carmen', 'carol', 'carolina', 'carrac', 'carri', 'carrie', 'cartel', 'carter', 'cartoon', 'caryelw', 'case', 'caseyaffleck', 'cash', 'casino', 'cast', 'castl', 'cat', 'cataclysm', 'catastroph', 'catch', 'cateblanchett', 'catherinedeneuv', 'catherinekeen', 'catherinezeta', 'cathol', 'catholic', 'cattl', 'caught', 'caus', 'cavalri', 'cave', 'cavemen', 'celebr', 'celebration', 'cell', 'cellphon', 'cemeteri', 'center', 'centr', 'central', 'centuri', 'centuries', 'century', 'ceo', 'certain', 'chad', 'chain', 'chainsaw', 'challeng', 'chamber', 'champion', 'championship', 'chanc', 'chance', 'chang', 'change', 'changed', 'changes', 'channingtatum', 'chao', 'chaos', 'chaotic', 'chapter', 'charact', 'character', 'characters', 'charg', 'charismat', 'charl', 'charli', 'charlie', 'charliesheen', 'charlizetheron', 'charm', 'chart', 'chase', 'chauffeur', 'chazzpalminteri', 'cheat', 'check', 'cheerlead', 'chef', 'chemic', 'cher', 'chevychas', 'chicago', 'chicken', 'chief', 'child', 'childabus', 'childhero', 'childhood', 'childprodigi', 'children', 'chill', 'chimp', 'china', 'chines', 'chip', 'chipmunk', 'chiwetelejiofor', 'chloe', 'chloëgracemoretz', 'chloësevigni', 'chocol', 'choic', 'choice', 'choos', 'chosen', 'chowyun', 'chri', 'chriscolumbu', 'chriscoop', 'chrisevan', 'chrishemsworth', 'chrisklein', 'chrispin', 'chrisrock', 'christ', 'christian', 'christianbal', 'christianslat', 'christin', 'christinaappleg', 'christinaricci', 'christma', 'christmas', 'christmasparti', 'christmastre', 'christoph', 'christopherlambert', 'christopherlloyd', 'christophernolan', 'christopherplumm', 'christopherwalken', 'christophwaltz', 'chrisweitz', 'chronicl', 'chuck', 'church', 'cia', 'ciaránhind', 'cigarettesmok', 'cillianmurphi', 'cinema', 'circl', 'circu', 'circuit', 'circumst', 'citi', 'citizen', 'city', 'civil', 'civilian', 'civilwar', 'claim', 'clair', 'clairedan', 'claireforlani', 'clan', 'clark', 'clash', 'class', 'classdiffer', 'classic', 'classmat', 'classroom', 'claudevandamm', 'clay', 'clean', 'clear', 'clerk', 'clever', 'client', 'clients', 'cliff', 'climat', 'climb', 'clinteastwood', 'cliveowen', 'clock', 'clone', 'close', 'closer', 'cloud', 'clown', 'club', 'clue', 'clueless', 'clutch', 'coach', 'coast', 'cocain', 'code', 'coffin', 'cohen', 'col', 'cold', 'coldwar', 'cole', 'colin', 'colinfarrel', 'colinfirth', 'collaps', 'colleagu', 'collect', 'collector', 'colleg', 'college', 'collid', 'collis', 'colombia', 'colonel', 'coloni', 'color', 'colorado', 'coma', 'combat', 'combin', 'come', 'comeback', 'comed', 'comedi', 'comedian', 'comedy', 'comet', 'comfort', 'comic', 'coming', 'comingofag', 'comingout', 'command', 'commando', 'commerci', 'commiss', 'commit', 'common', 'commun', 'communist', 'community', 'compani', 'companion', 'company', 'compet', 'competit', 'competition', 'complet', 'complex', 'complic', 'compos', 'compuls', 'comput', 'computerviru', 'conan', 'concern', 'concert', 'concoct', 'condit', 'condition', 'conduct', 'confeder', 'confess', 'confid', 'confin', 'conflict', 'confront', 'confus', 'congress', 'conman', 'connect', 'connecticut', 'connel', 'connor', 'conquer', 'consequ', 'consequences', 'conserv', 'consid', 'conspir', 'conspiraci', 'conspiracy', 'constant', 'constantli', 'construct', 'consum', 'contact', 'contain', 'contemporari', 'contend', 'content', 'contest', 'continu', 'contract', 'contractor', 'control', 'controversi', 'convent', 'converg', 'convers', 'convict', 'convinc', 'cook', 'cool', 'cooper', 'cop', 'cope', 'cops', 'core', 'corner', 'corp', 'corpor', 'corporation', 'corps', 'corrupt', 'cost', 'costum', 'couldn', 'counselor', 'count', 'countess', 'countless', 'countri', 'country', 'countryhous', 'countrymus', 'countrysid', 'coup', 'coupl', 'couple', 'courag', 'cours', 'court', 'courtcas', 'courteneycox', 'courtroom', 'cousin', 'cover', 'covert', 'covet', 'cow', 'cowardli', 'cowboy', 'crab', 'crack', 'craft', 'craig', 'crane', 'crash', 'crave', 'crazi', 'creat', 'creation', 'creativ', 'creator', 'creatur', 'creature', 'creatures', 'credit', 'creepi', 'crew', 'cri', 'crime', 'crimefight', 'crimes', 'crimin', 'criminal', 'criminals', 'crisi', 'crisis', 'critic', 'crocodil', 'crook', 'cross', 'crossdress', 'crowd', 'crown', 'cruel', 'cruelti', 'cruis', 'crusad', 'crush', 'crystal', 'cuba', 'cubagoodingjr', 'culmin', 'cult', 'cultfilm', 'cultur', 'culture', 'cultureclash', 'cun', 'cup', 'cure', 'current', 'curs', 'curse', 'custodi', 'custom', 'cut', 'cuttingthecord', 'cyberpunk', 'cyborg', 'cynic', 'dad', 'daili', 'dakotafan', 'dale', 'damag', 'damon', 'dan', 'danaykroyd', 'danc', 'dancer', 'danger', 'daniel', 'danielcraig', 'danielday', 'danielradcliff', 'danni', 'danny', 'dannyboyl', 'dannydevito', 'dannyglov', 'dare', 'dark', 'darkcomedi', 'darkest', 'darkness', 'darylhannah', 'dash', 'date', 'daughter', 'daughters', 'dave', 'davi', 'david', 'davidarquett', 'davidcronenberg', 'davidduchovni', 'davidfinch', 'davidgordongreen', 'davidmors', 'davido', 'davidschwimm', 'davidspad', 'davidthewli', 'dawn', 'daxshepard', 'day', 'daydream', 'days', 'dc', 'dccomic', 'dea', 'dead', 'deadli', 'deadliest', 'deaf', 'deal', 'dealer', 'dean', 'death', 'deathofafriend', 'deathoffath', 'deathpenalti', 'debt', 'debut', 'decad', 'decapit', 'deceas', 'deceit', 'decept', 'decid', 'decis', 'declar', 'dedic', 'deed', 'deep', 'deeper', 'deepli', 'defeat', 'defend', 'defens', 'defi', 'defin', 'delight', 'deliv', 'deliveri', 'delus', 'demand', 'demimoor', 'demon', 'demonicpossess', 'demons', 'deni', 'deniserichard', 'denmark', 'denni', 'dennisdugan', 'dennishopp', 'dennisquaid', 'dentist', 'denzelwashington', 'depart', 'depend', 'depict', 'depress', 'depth', 'deputi', 'derang', 'derek', 'derekluk', 'descend', 'describ', 'desert', 'design', 'desir', 'desk', 'desol', 'despair', 'desper', 'despit', 'destin', 'destini', 'destiny', 'destroy', 'destroyed', 'destruct', 'destruction', 'detect', 'detective', 'determin', 'detroit', 'devast', 'develop', 'devic', 'devil', 'deviou', 'devis', 'devot', 'diabol', 'diagnos', 'dialogu', 'diamond', 'dian', 'dianekeaton', 'dianekrug', 'dianelan', 'diari', 'dick', 'dictat', 'did', 'didn', 'die', 'died', 'diego', 'dies', 'differ', 'different', 'difficult', 'difficulti', 'dig', 'dilemma', 'diner', 'dinner', 'dinosaur', 'diplomat', 'dire', 'direct', 'director', 'dirt', 'dirti', 'dirtycop', 'disabl', 'disappear', 'disappears', 'disast', 'disaster', 'disastr', 'discov', 'discoveri', 'diseas', 'disease', 'disfigur', 'disgrac', 'disguis', 'dishonesti', 'disillus', 'disney', 'disord', 'dispatch', 'disrupt', 'distant', 'district', 'distrust', 'disturb', 'ditch', 'diva', 'dive', 'divid', 'divis', 'divorc', 'divorce', 'dj', 'dna', 'doc', 'doctor', 'document', 'documentari', 'dodg', 'doe', 'doesn', 'dog', 'doll', 'dollar', 'dolphin', 'domest', 'domin', 'don', 'donaldpetri', 'donaldsutherland', 'doncheadl', 'donnel', 'doom', 'doomsday', 'door', 'doorstep', 'doppelgang', 'dorothi', 'doubl', 'double', 'doublecross', 'doublelif', 'doubt', 'doug', 'dougliman', 'dr', 'dracula', 'drag', 'dragon', 'drama', 'dramat', 'draw', 'drawn', 'dread', 'dream', 'dreams', 'dress', 'drew', 'drewbarrymor', 'drift', 'drifter', 'drink', 'drive', 'driven', 'driver', 'drone', 'drop', 'drown', 'drug', 'drugabus', 'drugaddict', 'drugdeal', 'druglord', 'drugs', 'drugsmuggl', 'drugtraff', 'drugus', 'drunk', 'drunken', 'du', 'dualident', 'dub', 'duck', 'dude', 'duel', 'duke', 'dump', 'duo', 'dure', 'duringcreditssting', 'dustinhoffman', 'dutch', 'duti', 'dwarv', 'dwaynejohnson', 'dyinganddeath', 'dylan', 'dynam', 'dynasti', 'dysfunct', 'dysfunctionalfamili', 'dystopia', 'dystopicfutur', 'eager', 'earli', 'earlier', 'earn', 'earth', 'earthquak', 'easi', 'easili', 'east', 'eat', 'eccentr', 'econom', 'economi', 'eddi', 'eddiegriffin', 'eddiemurphi', 'edg', 'edgar', 'edharri', 'editor', 'educ', 'edward', 'edwardburn', 'edwardnorton', 'edwardzwick', 'effect', 'effort', 'egg', 'ego', 'egypt', 'egyptian', 'el', 'elabor', 'elderli', 'elect', 'element', 'eleph', 'elev', 'eliaskotea', 'elijahwood', 'elimin', 'elisabethshu', 'elit', 'elite', 'elizabeth', 'elizabethbank', 'ella', 'ellenburstyn', 'ellenpag', 'elli', 'elliot', 'elliott', 'els', 'elud', 'elus', 'elv', 'elvi', 'embark', 'embassi', 'embroil', 'emerg', 'emigr', 'emilehirsch', 'emili', 'emilyblunt', 'emilymortim', 'emilywatson', 'emma', 'emmarobert', 'emmaston', 'emmathompson', 'emmawatson', 'emot', 'emperor', 'empir', 'empire', 'employ', 'employe', 'employer', 'enabl', 'enchant', 'encount', 'encourag', 'end', 'endless', 'endoftheworld', 'endur', 'enemi', 'enemies', 'enemy', 'energi', 'enforc', 'engag', 'engin', 'england', 'english', 'enigmat', 'enjoy', 'enlist', 'enorm', 'enrol', 'ensemblecast', 'ensu', 'ensues', 'ensur', 'entangl', 'enter', 'enterpris', 'entertain', 'enthusiast', 'entir', 'entiti', 'environ', 'environment', 'epic', 'epidem', 'episod', 'equal', 'era', 'eric', 'ericbana', 'erin', 'ernest', 'erotic', 'erupt', 'escap', 'escapad', 'escape', 'escapefromprison', 'escort', 'especi', 'espionag', 'establish', 'estat', 'estrang', 'etern', 'ethan', 'ethanhawk', 'ethic', 'eugenelevi', 'europ', 'european', 'eva', 'evacu', 'evad', 'evamend', 'evanrachelwood', 'eve', 'event', 'events', 'eventu', 'eventually', 'everi', 'everybodi', 'everyday', 'everyon', 'everyth', 'evid', 'evil', 'evolut', 'evolv', 'ewanmcgregor', 'ex', 'exact', 'exactli', 'exam', 'examin', 'exchang', 'excit', 'exclus', 'execut', 'exercis', 'exhibit', 'exil', 'exist', 'existence', 'existenti', 'exorc', 'exot', 'exoticisland', 'expect', 'expected', 'expedit', 'experi', 'experienc', 'experience', 'experiment', 'expert', 'explain', 'explod', 'exploit', 'explor', 'explos', 'expos', 'extend', 'extra', 'extramaritalaffair', 'extraordinari', 'extraterrestri', 'extraterrestrialtechnolog', 'extrem', 'extremeviol', 'eye', 'eyes', 'fabl', 'fac', 'face', 'facil', 'fact', 'faction', 'factori', 'fade', 'fail', 'fairi', 'fairytal', 'faith', 'fake', 'falcon', 'fall', 'fallen', 'fallinginlov', 'fals', 'falseident', 'falselyaccus', 'fame', 'famili', 'families', 'family', 'familyconflict', 'familyrelationship', 'famkejanssen', 'famou', 'famous', 'fan', 'fanat', 'fangvamp', 'fans', 'fantasi', 'fantast', 'fantasyworld', 'far', 'farewel', 'farm', 'farmer', 'fascin', 'fashion', 'fast', 'faster', 'fat', 'fatal', 'fate', 'father', 'fatherdaughterrelationship', 'fathersonrelationship', 'favor', 'favorit', 'fbi', 'fbiagent', 'fear', 'fearless', 'fearsom', 'featur', 'fed', 'feder', 'feed', 'feel', 'feet', 'fellow', 'femal', 'female', 'femalecorps', 'femalefriendship', 'femalenud', 'femaleprotagonist', 'fend', 'festiv', 'festival', 'fetish', 'feud', 'fi', 'fiance', 'fiancé', 'fiction', 'fictionalplac', 'field', 'fierc', 'fifth', 'fight', 'fighter', 'figur', 'fil', 'file', 'film', 'filmdirector', 'filmmak', 'filmproduc', 'films', 'final', 'finale', 'financ', 'financi', 'fine', 'finish', 'finn', 'firemen', 'firework', 'firm', 'firsttim', 'fish', 'fisherman', 'fishoutofwat', 'fistfight', 'fit', 'fix', 'flame', 'flash', 'flashback', 'flat', 'fledgl', 'flee', 'flesh', 'fli', 'flight', 'fling', 'flint', 'flirt', 'flood', 'florida', 'florist', 'flower', 'flyingsauc', 'focu', 'focus', 'foe', 'foil', 'foley', 'folk', 'follow', 'food', 'foot', 'footag', 'footbal', 'footchas', 'forbidden', 'forbiddenlov', 'forc', 'force', 'forces', 'ford', 'foreign', 'forest', 'forestwhitak', 'forev', 'forever', 'forg', 'forget', 'forgiv', 'form', 'formid', 'formula', 'fort', 'fortun', 'fortune', 'fortunetel', 'forward', 'foster', 'fought', 'foundfootag', 'fourth', 'fox', 'frame', 'franc', 'france', 'francisco', 'francisfordcoppola', 'frank', 'frankcoraci', 'frankenstein', 'franki', 'frankoz', 'frantic', 'fratern', 'fraud', 'freak', 'fred', 'freddi', 'freddieprinzejr', 'free', 'freedom', 'freeman', 'freez', 'french', 'frequent', 'fresh', 'freshman', 'friend', 'friendli', 'friends', 'friendship', 'frighten', 'frog', 'fromragstorich', 'frontier', 'frozen', 'frustrat', 'fu', 'fuel', 'fugit', 'fulfil', 'fulli', 'fun', 'fund', 'funer', 'funeral', 'furiou', 'futur', 'future', 'futurist', 'fword', 'ga', 'gabriel', 'gabrielbyrn', 'gadget', 'gaelgarcíabern', 'gain', 'galaxi', 'galaxy', 'gambl', 'gambler', 'game', 'games', 'gandhi', 'gang', 'gangs', 'gangster', 'gangsterboss', 'gangwar', 'garag', 'garden', 'garfield', 'gari', 'garrymarshal', 'garygray', 'garyoldman', 'garysinis', 'gasstat', 'gather', 'gave', 'gay', 'gayinterest', 'gayrelationship', 'genehackman', 'gener', 'general', 'generation', 'genet', 'geniu', 'genius', 'gentl', 'geoffreyrush', 'georg', 'george', 'georgea', 'georgeclooney', 'georgemil', 'georgia', 'gerardbutl', 'german', 'germani', 'germany', 'getaway', 'ghetto', 'ghost', 'giant', 'gift', 'gig', 'girl', 'girlfriend', 'girls', 'given', 'glamor', 'glass', 'glennclos', 'global', 'globe', 'glori', 'goal', 'god', 'goe', 'gold', 'golden', 'golf', 'gone', 'good', 'goodvsevil', 'gordon', 'gore', 'goreverbinski', 'gorgeou', 'gorilla', 'gossip', 'got', 'gotham', 'gothamc', 'gotten', 'govern', 'government', 'governor', 'grace', 'grad', 'grade', 'gradual', 'graduat', 'grand', 'grandfath', 'grandfather', 'grandmoth', 'grandmother', 'grant', 'graphic', 'grasp', 'grave', 'great', 'greater', 'greatest', 'greec', 'greed', 'greedi', 'greek', 'green', 'greg', 'gregkinnear', 'gregorypeck', 'grew', 'grief', 'griev', 'griffin', 'grim', 'grip', 'grisli', 'ground', 'group', 'groupoffriend', 'grow', 'growingup', 'grown', 'gruesom', 'gu', 'guard', 'guardian', 'guerrilla', 'guest', 'guid', 'guilt', 'guitar', 'gun', 'gunfight', 'gunman', 'gunsling', 'guru', 'gusvans', 'guy', 'guypearc', 'guyritchi', 'guys', 'gwynethpaltrow', 'gym', 'gypsi', 'ha', 'hack', 'hacker', 'hair', 'haleyjoelos', 'half', 'hall', 'halleberri', 'halloween', 'hallucin', 'han', 'hand', 'handl', 'hands', 'handsom', 'handtohandcombat', 'hang', 'hangov', 'hannah', 'hansel', 'hapless', 'happen', 'happens', 'happi', 'happili', 'happiness', 'happy', 'hara', 'harass', 'harbor', 'hard', 'harder', 'harlem', 'harmoni', 'harold', 'haroldrami', 'harri', 'harriet', 'harrison', 'harrisonford', 'harrow', 'harry', 'harsh', 'hart', 'harvard', 'harvey', 'harveykeitel', 'hasn', 'hatch', 'hate', 'hatr', 'haunt', 'hauntedhous', 'haven', 'havoc', 'hawaii', 'haydenchristensen', 'haze', 'head', 'headlin', 'heal', 'health', 'hear', 'heard', 'heart', 'heartattack', 'heartbreak', 'heat', 'heather', 'heathergraham', 'heathledg', 'heaven', 'heavi', 'heavili', 'heavymet', 'height', 'heir', 'heiress', 'heist', 'held', 'helen', 'helenabonhamcart', 'helenhunt', 'helenmirren', 'helicopt', 'hell', 'help', 'henchmen', 'henri', 'hero', 'heroes', 'heroic', 'heroin', 'heroism', 'hi', 'hidden', 'hiddencamera', 'hide', 'high', 'higher', 'highest', 'highland', 'highli', 'highschool', 'highschoolsport', 'highschoolstud', 'highway', 'hijack', 'hike', 'hilari', 'hilaryduff', 'hilaryswank', 'hill', 'himalaya', 'hip', 'hippi', 'hire', 'histor', 'histori', 'historicalfigur', 'history', 'hit', 'hitch', 'hitchhik', 'hitman', 'ho', 'hobbit', 'hockey', 'hold', 'hole', 'holi', 'holiday', 'holli', 'hollywood', 'home', 'homeinvas', 'homeland', 'homeless', 'homelessperson', 'hometown', 'homicid', 'homophobia', 'homosexu', 'honey', 'honeymoon', 'hong', 'hongkong', 'honor', 'hood', 'hoodlum', 'hook', 'hop', 'hope', 'hopedavi', 'hopelessli', 'hopper', 'hord', 'horribl', 'horrif', 'horrifi', 'horror', 'hors', 'horsebackrid', 'horserac', 'hospit', 'hospital', 'host', 'hostag', 'hostage', 'hostil', 'hot', 'hotel', 'hotelroom', 'hotshot', 'hour', 'hous', 'house', 'household', 'housewif', 'howard', 'howev', 'hud', 'huge', 'hugh', 'hughgrant', 'hughjackman', 'human', 'humananimalrelationship', 'humanity', 'humankind', 'humans', 'humili', 'humor', 'hundr', 'hunger', 'hungri', 'hunt', 'hunter', 'hunters', 'hurrican', 'hurt', 'husband', 'hustler', 'hypnosi', 'hypnot', 'hyster', 'hyun', 'ianmckellen', 'ice', 'icecub', 'icon', 'idea', 'ideal', 'idealist', 'ident', 'identity', 'idol', 'idyl', 'ignit', 'ignor', 'ii', 'iii', 'il', 'ill', 'illeg', 'illegaldrug', 'illegalimmigr', 'illegalprostitut', 'illness', 'illus', 'illustr', 'imag', 'imagin', 'imaginari', 'imagined', 'imax', 'immedi', 'immens', 'immigr', 'immort', 'impact', 'imperi', 'imperson', 'implic', 'import', 'imposs', 'impostor', 'impress', 'imprison', 'inadvert', 'incest', 'incid', 'includ', 'incompet', 'increas', 'increasingli', 'incred', 'independ', 'independentfilm', 'indi', 'india', 'indian', 'indiana', 'indianlead', 'individu', 'industri', 'industry', 'inevit', 'inexplic', 'infam', 'infant', 'infect', 'infidel', 'infiltr', 'influenc', 'inform', 'inhabit', 'inherit', 'initi', 'inject', 'injur', 'injuri', 'inmat', 'inner', 'innoc', 'insan', 'insecur', 'insid', 'insight', 'insist', 'insomnia', 'inspector', 'inspir', 'instal', 'instant', 'instantli', 'instead', 'instinct', 'institut', 'institution', 'instructor', 'insur', 'insurg', 'intellig', 'intend', 'intens', 'intent', 'intergalact', 'intern', 'internet', 'interpret', 'interrog', 'interspeciesrom', 'intertwin', 'interview', 'intim', 'intoler', 'intrigu', 'introduc', 'invad', 'invas', 'invent', 'inventor', 'invest', 'investig', 'investigate', 'invis', 'invit', 'involv', 'iowa', 'ira', 'iran', 'iranian', 'iraq', 'iraqwar', 'ireland', 'irish', 'iron', 'islam', 'island', 'isn', 'isol', 'isra', 'israel', 'issu', 'itali', 'italian', 'ivanreitman', 'jack', 'jackass', 'jackblack', 'jacki', 'jackiechan', 'jacknicholson', 'jackson', 'jacob', 'jadapinkettsmith', 'jade', 'jail', 'jake', 'jakegyllenha', 'jamaica', 'jame', 'james', 'jamescaan', 'jamescameron', 'jamesfranco', 'jamesivori', 'jamesmangold', 'jamesmarsden', 'jamesmcavoy', 'jameswan', 'jameswood', 'jami', 'jamie', 'jamiefoxx', 'jamieleecurti', 'jan', 'jane', 'janitor', 'japan', 'japanes', 'jaredleto', 'jason', 'jasonbateman', 'jasonbigg', 'jasonle', 'jasonschwartzman', 'jasonsegel', 'jasonstatham', 'javierbardem', 'jay', 'jaychandrasekhar', 'jayroach', 'jazz', 'jealousi', 'jean', 'jeanreno', 'jedi', 'jeff', 'jeffbridg', 'jeffdaniel', 'jeffgoldblum', 'jeffreywright', 'jennif', 'jenniferaniston', 'jenniferconnelli', 'jennifergarn', 'jenniferjasonleigh', 'jenniferlawr', 'jenniferlopez', 'jenniferlovehewitt', 'jeremyiron', 'jeremyrenn', 'jerri', 'jersey', 'jerusalem', 'jess', 'jessebradford', 'jesseeisenberg', 'jessica', 'jessicaalba', 'jessicabiel', 'jessicachastain', 'jesu', 'jesus', 'jesuschrist', 'jetli', 'jew', 'jewel', 'jewish', 'jigsaw', 'jill', 'jim', 'jimbroadb', 'jimcarrey', 'jimcaviezel', 'jimmi', 'jimmy', 'jin', 'joanallen', 'joancusack', 'joaquinphoenix', 'job', 'jobinterview', 'jock', 'jodiefost', 'joe', 'joel', 'joelcoen', 'joeledgerton', 'joelschumach', 'joepesci', 'joey', 'john', 'johnc', 'johncarpent', 'johncusack', 'johngoodman', 'johnhurt', 'johnkrasinski', 'johnleguizamo', 'johnmalkovich', 'johnmctiernan', 'johnni', 'johnny', 'johnnydepp', 'johnnyknoxvil', 'johnsingleton', 'johnson', 'johntravolta', 'johnturturro', 'johnwoo', 'join', 'jon', 'jonahhil', 'jonathan', 'jonathanfrak', 'jonathanrhysmey', 'jone', 'jones', 'jonfavreau', 'jonturteltaub', 'jonvoight', 'jordan', 'joseph', 'josephgordon', 'josh', 'joshbrolin', 'joshhartnett', 'joshhutcherson', 'journal', 'journalist', 'journey', 'joy', 'jr', 'juan', 'judelaw', 'judg', 'judidench', 'juli', 'julia', 'julian', 'juliannemoor', 'juliarobert', 'juliastil', 'julie', 'jump', 'jungl', 'jungle', 'junior', 'junki', 'just', 'justic', 'justice', 'justinlong', 'justintimberlak', 'kansa', 'karat', 'karen', 'karlurban', 'kat', 'kate', 'katebeckinsal', 'katebosworth', 'katehudson', 'katemara', 'katewinslet', 'katherin', 'katherineheigl', 'kathi', 'kathyb', 'kati', 'katieholm', 'katniss', 'kay', 'keanureev', 'keiraknightley', 'kelli', 'kelly', 'kellypreston', 'ken', 'kennethbranagh', 'kermit', 'kevin', 'kevinbacon', 'kevincostn', 'kevinhart', 'kevinjam', 'kevinklin', 'kevinsmith', 'kevinspacey', 'key', 'kgb', 'khan', 'kick', 'kid', 'kidnap', 'kidnapp', 'kidnapped', 'kids', 'kidsandfamili', 'kiefersutherland', 'kill', 'killed', 'killer', 'killerrobot', 'killers', 'kim', 'kimbasing', 'kind', 'king', 'kingdom', 'kingpin', 'kirk', 'kirstendunst', 'kiss', 'kit', 'kitchen', 'knew', 'knife', 'knight', 'knit', 'knock', 'know', 'knowledg', 'known', 'kong', 'korea', 'korean', 'kowalski', 'kriskristofferson', 'kristenbel', 'kristenstewart', 'kristenwiig', 'kristinscottthoma', 'krueger', 'kung', 'kungfu', 'kurt', 'kurtrussel', 'kyle', 'la', 'lab', 'labor', 'laboratori', 'lac', 'lack', 'ladi', 'ladies', 'ladykil', 'laid', 'lake', 'land', 'landscap', 'lane', 'languag', 'lapd', 'larg', 'larger', 'largest', 'larri', 'laser', 'lasergun', 'lassehallström', 'lasvega', 'late', 'later', 'latest', 'laugh', 'launch', 'laura', 'lauralinney', 'laurencefishburn', 'lavish', 'law', 'lawman', 'lawrenc', 'lawyer', 'lax', 'lay', 'lazi', 'le', 'lead', 'leader', 'leadership', 'leagu', 'learn', 'leav', 'led', 'lee', 'left', 'leg', 'legaci', 'legacy', 'legal', 'legend', 'legendari', 'legends', 'legion', 'lenaheadey', 'length', 'leo', 'leon', 'leonardnimoy', 'leonardodicaprio', 'lesbian', 'lesbianrelationship', 'lesliemann', 'leslienielsen', 'lesson', 'let', 'lethal', 'letter', 'level', 'levitt', 'lewi', 'lgbt', 'li', 'liaison', 'liamneeson', 'liar', 'liber', 'lie', 'lieuten', 'lievschreib', 'lif', 'life', 'lifeanddeath', 'lifelong', 'lifestyl', 'lifetim', 'lift', 'light', 'lightn', 'lik', 'like', 'lili', 'limit', 'lincoln', 'linda', 'lindsaylohan', 'line', 'lines', 'link', 'lion', 'lisa', 'lisakudrow', 'list', 'listen', 'liter', 'literatur', 'littl', 'littleboy', 'live', 'liveactionandanim', 'lives', 'living', 'lizzi', 'll', 'lloyd', 'lo', 'loan', 'local', 'locat', 'lock', 'logan', 'loganlerman', 'lola', 'london', 'londonengland', 'lone', 'loneli', 'loner', 'lonewolf', 'long', 'longer', 'longtim', 'look', 'loop', 'loos', 'loose', 'loot', 'lord', 'losangel', 'lose', 'loser', 'loss', 'lossofbroth', 'lossofchild', 'lossoffamili', 'lossoffath', 'lossofhusband', 'lossoflov', 'lossofmoth', 'lossofpar', 'lossofson', 'lost', 'lot', 'lotteri', 'lou', 'loui', 'louisiana', 'lov', 'lovabl', 'love', 'loveatfirstsight', 'loveless', 'lovelett', 'loveofone', 'lover', 'loves', 'lovesick', 'lovetriangl', 'low', 'loyal', 'loyalti', 'lt', 'luca', 'luci', 'luck', 'lucki', 'lucy', 'lucyliu', 'luke', 'lukewilson', 'lure', 'lurk', 'lust', 'luxuri', 'ma', 'machin', 'machine', 'machinegun', 'maci', 'mad', 'madam', 'madea', 'madison', 'madness', 'madonna', 'mafia', 'magazin', 'maggi', 'maggie', 'magic', 'magician', 'maid', 'mail', 'main', 'maintain', 'major', 'mak', 'make', 'malcolm', 'malcolmd', 'male', 'malefemalerelationship', 'malefriendship', 'malenud', 'malibu', 'mall', 'man', 'manag', 'manager', 'mandymoor', 'manhattan', 'manhunt', 'mani', 'maniac', 'manipul', 'mankind', 'mann', 'manner', 'mansion', 'manufactur', 'manvsmachin', 'map', 'mar', 'marcforst', 'march', 'marcu', 'mari', 'maria', 'mariabello', 'marijuana', 'marin', 'marisatomei', 'mark', 'market', 'markruffalo', 'markstrong', 'markwahlberg', 'marlonbrando', 'marlonwayan', 'marri', 'marriag', 'marriage', 'marriagecrisi', 'marriagepropos', 'married', 'marriedcoupl', 'marsh', 'marshal', 'martha', 'marti', 'martial', 'martialart', 'martian', 'martin', 'martincampbel', 'martinfreeman', 'martinlawr', 'martinscorses', 'marvelcinematicunivers', 'marvelcom', 'mary', 'marymccormack', 'mask', 'maskedkil', 'mass', 'massacr', 'massiv', 'massmurd', 'master', 'mastermind', 'masturb', 'match', 'mate', 'materi', 'mathemat', 'mathematician', 'matrix', 'matt', 'mattdamon', 'mattdillon', 'matter', 'matteroflifeanddeath', 'matthew', 'matthewbroderick', 'matthewlillard', 'matthewmcconaughey', 'maverick', 'max', 'maya', 'mayb', 'mayhem', 'mayor', 'maze', 'mccall', 'mcclane', 'mean', 'meant', 'meanwhil', 'meat', 'mechan', 'medal', 'medallion', 'media', 'medic', 'medicin', 'mediev', 'meet', 'mega', 'megan', 'megryan', 'melbrook', 'melgibson', 'melissa', 'melvin', 'member', 'members', 'memoir', 'memori', 'memoryloss', 'men', 'menac', 'mental', 'mentalil', 'mentallydis', 'mentor', 'mephisto', 'mercenari', 'merchant', 'merciless', 'mere', 'mermaid', 'merylstreep', 'messag', 'met', 'metal', 'meteor', 'method', 'metro', 'mexican', 'mexicanstandoff', 'mexico', 'mia', 'miami', 'michael', 'michaelangarano', 'michaelbay', 'michaelcain', 'michaeldougla', 'michaelfassbend', 'michaelj', 'michaelkeaton', 'michaelmoor', 'michaelshannon', 'michaelsheen', 'michel', 'michellemonaghan', 'michellepfeiff', 'michellerodriguez', 'michigan', 'mickey', 'mickeyrourk', 'mid', 'middl', 'middle', 'middleag', 'middleeast', 'midlifecrisi', 'midnight', 'midst', 'midwest', 'mighti', 'mike', 'mikemy', 'mikenewel', 'milakuni', 'mild', 'mile', 'militari', 'millajovovich', 'miller', 'million', 'millionair', 'milo', 'mind', 'mindcontrol', 'miner', 'minion', 'minist', 'minnesota', 'minniedriv', 'minor', 'minut', 'miracl', 'miracul', 'miranda', 'mirror', 'misadventur', 'misanthrop', 'mischiev', 'miser', 'misfit', 'misguid', 'mismatch', 'misogynist', 'miss', 'missil', 'missing', 'missingperson', 'mission', 'missionari', 'missionofmurd', 'mississippi', 'missouri', 'mistak', 'mistaken', 'mistakenident', 'mistakenli', 'mistress', 'mitch', 'mitchel', 'mix', 'mob', 'mobster', 'mockumentari', 'model', 'modern', 'mole', 'molli', 'mom', 'moment', 'money', 'monica', 'monk', 'monkey', 'monster', 'monsters', 'monstrou', 'montana', 'month', 'months', 'montreal', 'moon', 'moonlight', 'moor', 'moore', 'moral', 'morganfreeman', 'morgu', 'mormon', 'morn', 'morrischestnut', 'mortal', 'moscow', 'mose', 'mossad', 'mostli', 'motel', 'mother', 'motherdaughterrelationship', 'motherrol', 'mothersonrelationship', 'motion', 'motiv', 'motley', 'motor', 'motorcycl', 'mount', 'mountain', 'mountains', 'mous', 'mouth', 'movement', 'movi', 'movie', 'movieinmovi', 'movies', 'moviestar', 'mr', 'multi', 'multipl', 'multiplestorylin', 'mumblecor', 'mumblegor', 'murder', 'murdered', 'murderer', 'murderhunt', 'murphi', 'murray', 'muse', 'museum', 'music', 'musicband', 'musician', 'musket', 'muslim', 'mut', 'mutant', 'mutat', 'mutini', 'mutual', 'mysteri', 'mystery', 'mystic', 'myth', 'mythic', 'mytholog', 'naiv', 'nam', 'nanni', 'naomiwatt', 'narcot', 'narnia', 'narrat', 'nasa', 'nasti', 'natalieportman', 'nathan', 'nation', 'nativ', 'nativeamerican', 'natur', 'naturaldisast', 'nature', 'navi', 'navig', 'navys', 'nazi', 'nazigermani', 'nba', 'near', 'nearbi', 'nearli', 'necessari', 'need', 'nefari', 'negoti', 'neighbor', 'neighborhood', 'neil', 'neiljordan', 'nelson', 'nemesi', 'nemesis', 'neo', 'nephew', 'nerd', 'nerdi', 'netherland', 'network', 'nevada', 'nevecampbel', 'new', 'newborn', 'newcom', 'newfound', 'newident', 'newjersey', 'newli', 'newlov', 'newlyw', 'newmexico', 'news', 'newspap', 'newyear', 'newyork', 'newyorkc', 'nialong', 'nice', 'nick', 'nicknolt', 'nicol', 'nicolascag', 'nicolekidman', 'niec', 'niece', 'night', 'nightclub', 'nightlif', 'nightmar', 'nightmare', 'nightshyamalan', 'nightstand', 'ninja', 'noah', 'nobl', 'nobodi', 'noir', 'nomad', 'non', 'normal', 'norman', 'north', 'northern', 'nose', 'note', 'noth', 'notic', 'notori', 'novel', 'novelist', 'nowher', 'nuclear', 'nuclearmissil', 'nuditi', 'number', 'numberintitl', 'numer', 'nun', 'nurs', 'nypd', 'object', 'observ', 'obsess', 'obsession', 'obstacl', 'obtain', 'occasion', 'occult', 'occup', 'occupi', 'occur', 'ocean', 'odd', 'oddbal', 'odds', 'odyssey', 'offer', 'offic', 'office', 'officer', 'offici', 'ogr', 'ohio', 'oil', 'old', 'older', 'oliv', 'oliverston', 'olivia', 'oliviawild', 'olymp', 'olympicgam', 'omar', 'onc', 'onli', 'onlin', 'ontherun', 'open', 'oper', 'opera', 'operation', 'opportun', 'oppos', 'opposit', 'oppositesattract', 'oppress', 'orc', 'orchestr', 'order', 'ordinari', 'oregon', 'organ', 'organization', 'organizedcrim', 'origin', 'orlandobloom', 'orlean', 'orphan', 'orphanag', 'orphanage', 'oscar', 'oscaraward', 'oscarisaac', 'otherworldli', 'outback', 'outbreak', 'outcast', 'outerspac', 'outlaw', 'outrag', 'outsid', 'outwit', 'overcom', 'overrun', 'overthrow', 'overwhelm', 'owenwilson', 'owl', 'owner', 'oxford', 'oz', 'pacif', 'pack', 'packag', 'pact', 'pageant', 'paid', 'pain', 'paint', 'painter', 'pair', 'pal', 'palac', 'pam', 'pan', 'pandora', 'panic', 'panther', 'paper', 'parallel', 'parallelworld', 'paranoia', 'paranoid', 'paranorm', 'parent', 'parents', 'parentskidsrelationship', 'pari', 'paris', 'parisian', 'park', 'parker', 'parodi', 'parol', 'parrish', 'parti', 'particip', 'particularli', 'parties', 'partner', 'partners', 'partnership', 'party', 'pass', 'passeng', 'passion', 'past', 'pastor', 'path', 'patient', 'patriarch', 'patriciaarquett', 'patrick', 'patrickstewart', 'patrickwilson', 'patriot', 'patrol', 'paul', 'paulapatton', 'paulbettani', 'paulgiamatti', 'paulgreengrass', 'paulnewman', 'paulrudd', 'paulw', 'paulwalk', 'pawn', 'pay', 'peac', 'peace', 'pearl', 'peasant', 'pedophilia', 'penguin', 'penn', 'pennsylvania', 'penélopecruz', 'peopl', 'people', 'perfect', 'perform', 'peril', 'period', 'perioddrama', 'perry', 'persian', 'person', 'persuad', 'peru', 'pet', 'pete', 'peter', 'peterberg', 'peterjackson', 'petersarsgaard', 'peterseg', 'petti', 'phantom', 'phil', 'philadelphia', 'philipseymourhoffman', 'phillipnoyc', 'philosoph', 'philosophi', 'phone', 'photo', 'photograph', 'photographi', 'physic', 'pianist', 'piano', 'picard', 'pick', 'pictur', 'picture', 'piec', 'piercebrosnan', 'pierr', 'pig', 'pilot', 'pimp', 'pink', 'pinocchio', 'piperperabo', 'pirat', 'pistol', 'pit', 'pitch', 'place', 'plagu', 'plan', 'plane', 'planet', 'plannedmurd', 'plans', 'plant', 'plantat', 'play', 'playboy', 'player', 'playground', 'playwright', 'pleasur', 'pledg', 'plenti', 'plot', 'plung', 'po', 'poet', 'poetri', 'point', 'poison', 'poker', 'polar', 'polic', 'police', 'policebrut', 'policechas', 'policeman', 'policeoffic', 'policeoper', 'polit', 'politician', 'polli', 'pool', 'poor', 'pop', 'popstar', 'popul', 'popular', 'porn', 'pornographi', 'port', 'portal', 'porter', 'portrait', 'portray', 'pose', 'posit', 'possess', 'possibl', 'post', 'posttraumaticstressdisord', 'pot', 'potenti', 'potter', 'pound', 'poverti', 'pow', 'power', 'poweroutag', 'powers', 'practic', 'prank', 'prayer', 'pre', 'preacher', 'preciou', 'predat', 'predict', 'prefer', 'pregnanc', 'pregnancyandbirth', 'pregnant', 'prehistor', 'prejudic', 'premonit', 'prepar', 'prequel', 'presenc', 'present', 'presid', 'president', 'presidenti', 'presidentialelect', 'press', 'pressur', 'prestigi', 'presum', 'pretend', 'pretti', 'prevent', 'previou', 'prey', 'price', 'priceless', 'pride', 'priest', 'prime', 'princ', 'prince', 'princess', 'princip', 'principl', 'prison', 'prisonersofwar', 'privat', 'privatedetect', 'privileg', 'prize', 'pro', 'problem', 'problems', 'process', 'prodigi', 'produc', 'product', 'production', 'profession', 'professor', 'profil', 'profit', 'program', 'progress', 'project', 'prom', 'promin', 'promis', 'promot', 'prompt', 'proof', 'properti', 'propheci', 'propos', 'prosecut', 'prospect', 'prostitut', 'protect', 'protest', 'prove', 'provid', 'psychiatr', 'psychiatrist', 'psychic', 'psycholog', 'psychologist', 'psychopath', 'psychot', 'pub', 'puberti', 'public', 'publicist', 'publish', 'pull', 'punish', 'punk', 'puppet', 'puppi', 'purchas', 'pure', 'purpos', 'pursu', 'pursuit', 'push', 'quarantin', 'quarterback', 'queen', 'queenlatifah', 'quentintarantino', 'quest', 'question', 'quick', 'quickli', 'quiet', 'quirki', 'quit', 'rabbit', 'race', 'raceagainsttim', 'racehors', 'racer', 'rachaelleighcook', 'rachel', 'rachelmcadam', 'rachelweisz', 'racial', 'racism', 'radiat', 'radic', 'radio', 'rag', 'rage', 'rageandh', 'ragtag', 'raid', 'railroad', 'rain', 'rais', 'ralli', 'ralph', 'ralphfienn', 'rampag', 'ran', 'ranch', 'rancher', 'ranger', 'rank', 'ransom', 'rape', 'rapidli', 'rapmus', 'rapper', 'rare', 'rat', 'rate', 'ravag', 'raw', 'ray', 'rayliotta', 'raymond', 'raywinston', 'reach', 'reaction', 'read', 'readi', 'real', 'realis', 'realiti', 'reality', 'realiz', 'realli', 'realm', 'reaper', 'reason', 'rebecca', 'rebeccahal', 'rebel', 'rebelli', 'rebellion', 'reboot', 'rebuild', 'receiv', 'recent', 'reckless', 'reclaim', 'reclus', 'reconcil', 'reconnect', 'record', 'recount', 'recov', 'recreat', 'recruit', 'red', 'redempt', 'redemption', 'rediscov', 'redneck', 'reel', 'reesewitherspoon', 'reflect', 'refug', 'refus', 'regain', 'regard', 'regim', 'regret', 'regular', 'reign', 'reilli', 'reject', 'rekindl', 'rel', 'relat', 'relationship', 'relationshipproblem', 'relationships', 'releas', 'relentless', 'reli', 'religi', 'religion', 'religionandsupernatur', 'reloc', 'reluct', 'reluctantli', 'remain', 'remak', 'remark', 'rememb', 'remind', 'reminisc', 'remot', 'renegad', 'renerusso', 'rennyharlin', 'renown', 'rent', 'renéezellweg', 'repair', 'repay', 'replac', 'report', 'reporter', 'repres', 'repress', 'reput', 'request', 'requir', 'rescu', 'rescue', 'research', 'resid', 'resist', 'resistance', 'resolv', 'resort', 'resourc', 'resources', 'respect', 'respond', 'respons', 'rest', 'restaur', 'restaurant', 'restor', 'result', 'results', 'resurfac', 'resurrect', 'retel', 'retir', 'retreat', 'retriev', 'return', 'reunion', 'reunit', 'reveal', 'revealed', 'revel', 'reveng', 'revenge', 'reverend', 'reviv', 'revolut', 'revolutionari', 'revolv', 'reward', 'rich', 'richard', 'richarddonn', 'richarddreyfuss', 'richardger', 'richardlinklat', 'rick', 'ricki', 'rid', 'riddl', 'ride', 'rider', 'ridicul', 'ridleyscott', 'rifl', 'rig', 'right', 'rightandjustic', 'riley', 'ring', 'riot', 'rip', 'ripley', 'rise', 'risk', 'ritual', 'rival', 'rivalri', 'river', 'road', 'roadmovi', 'roadtrip', 'roam', 'roar', 'rob', 'robber', 'robberi', 'robcohen', 'robert', 'robertdeniro', 'robertdowneyjr', 'robertduval', 'robertenglund', 'robertredford', 'robertrodriguez', 'robertzemecki', 'robin', 'robinson', 'robinwilliam', 'robinwright', 'robot', 'robrein', 'rock', 'rockandrol', 'rocket', 'rocki', 'rockstar', 'roger', 'rogerdonaldson', 'rogermoor', 'rogu', 'rolandemmerich', 'role', 'roll', 'roller', 'roman', 'romanc', 'romance', 'romant', 'romanticcomedi', 'rome', 'romeo', 'romero', 'ron', 'ronhoward', 'ronni', 'roof', 'rooftop', 'rooki', 'room', 'roommat', 'root', 'rosamundpik', 'rosariodawson', 'rose', 'rosebyrn', 'ross', 'rough', 'round', 'routin', 'row', 'roy', 'royal', 'royalti', 'rubi', 'rugbi', 'rugrat', 'ruin', 'rule', 'ruler', 'rules', 'rumor', 'run', 'runaway', 'runner', 'rupertgrint', 'rural', 'ruralset', 'rush', 'russel', 'russell', 'russellcrow', 'russia', 'russian', 'ruth', 'ruthless', 'ryan', 'ryangosl', 'ryanphillipp', 'ryanreynold', 'sabotag', 'sacr', 'sacrific', 'sad', 'sadism', 'sadist', 'safe', 'safeti', 'safety', 'saga', 'said', 'sail', 'sailor', 'saint', 'sale', 'salesman', 'salli', 'salmahayek', 'sam', 'samantha', 'samanthamorton', 'sammend', 'samneil', 'samraimi', 'samrockwel', 'samuel', 'samuell', 'samurai', 'san', 'sand', 'sandi', 'sandrabullock', 'sanfrancisco', 'santa', 'santaclau', 'sara', 'sarah', 'sarahjessicapark', 'sarahmichellegellar', 'sarapaxton', 'satan', 'satellit', 'satir', 'satisfi', 'savag', 'save', 'savingtheworld', 'saw', 'say', 'sbook', 'scam', 'scandal', 'scar', 'scare', 'scari', 'scarlettjohansson', 'scene', 'schedul', 'scheme', 'schizophrenia', 'scholarship', 'school', 'schoolteach', 'sci', 'scienc', 'sciencefict', 'scientif', 'scientist', 'score', 'scotland', 'scott', 'scottglenn', 'scottish', 'scout', 'scrambl', 'scream', 'screen', 'screenplay', 'screenwrit', 'script', 'scubadiv', 'sdailylif', 'sea', 'seal', 'sean', 'seanbean', 'seanconneri', 'seannwilliamscott', 'seanpenn', 'search', 'seas', 'seasid', 'season', 'seattl', 'sebastian', 'seclud', 'second', 'secret', 'secretag', 'secretari', 'secretident', 'secretintelligenceservic', 'secretli', 'secretlov', 'secretmiss', 'secretorgan', 'secrets', 'secretservic', 'secretsocieti', 'section', 'secur', 'securityguard', 'seduc', 'seduct', 'seek', 'seemingli', 'seen', 'seiz', 'sel', 'self', 'selfsacrific', 'sell', 'selmablair', 'semi', 'senat', 'send', 'senior', 'sens', 'sensat', 'sensit', 'sent', 'sentenc', 'seo', 'separ', 'sequel', 'sergeant', 'seri', 'serial', 'serialkil', 'series', 'seriesofmurd', 'seriou', 'seriously', 'serv', 'servant', 'servic', 'service', 'session', 'set', 'seth', 'sethgreen', 'sethrogen', 'settl', 'settler', 'sev', 'seven', 'sever', 'sewer', 'sex', 'sexaddict', 'sexi', 'sexual', 'sexualabus', 'sexualobsess', 'shadi', 'shadow', 'shadowi', 'shake', 'shaken', 'shakespear', 'shakespeare', 'shane', 'shanghai', 'shannynsossamon', 'shape', 'share', 'shark', 'sharkattack', 'sharonston', 'sharp', 'shatter', 'shaw', 'shawnlevi', 'shelter', 'shepherd', 'sheriff', 'shi', 'shialabeouf', 'shield', 'shift', 'ship', 'shipwreck', 'shock', 'shoe', 'shoot', 'shootout', 'shop', 'short', 'shot', 'shotgun', 'showdown', 'shower', 'shredder', 'shrek', 'shut', 'shuttl', 'shyness', 'sibl', 'sick', 'sid', 'sidekick', 'sidney', 'sight', 'sign', 'signal', 'sigourneyweav', 'silenc', 'silent', 'silentfilm', 'silver', 'similar', 'simon', 'simonpegg', 'simonwest', 'simpl', 'simpli', 'simpson', 'simultan', 'sin', 'sinc', 'sing', 'singer', 'singl', 'single', 'singlefath', 'singlemoth', 'singlepar', 'sinist', 'sir', 'sister', 'sisters', 'sistersisterrelationship', 'sit', 'site', 'sittingonatoilet', 'situat', 'situation', 'size', 'skateboard', 'skeleton', 'skeptic', 'ski', 'skill', 'skull', 'sky', 'skyscrap', 'slacker', 'slapstick', 'slasher', 'slaughter', 'slave', 'slaveri', 'slavery', 'sleazi', 'sleep', 'sleepi', 'sleepwalk', 'slif', 'slip', 'slowli', 'slum', 'small', 'smalltown', 'smart', 'smash', 'smith', 'smitten', 'smoke', 'smuggl', 'smuggler', 'smurf', 'snake', 'snatch', 'sniper', 'snow', 'snowstorm', 'soccer', 'social', 'societi', 'society', 'sociopath', 'sofia', 'solar', 'sold', 'soldi', 'soldier', 'soldiers', 'sole', 'solitari', 'solomon', 'solv', 'somebodi', 'someon', 'someth', 'sometim', 'somewhat', 'somewher', 'son', 'song', 'songwrit', 'soon', 'sophi', 'sorcer', 'sorcerer', 'sorceri', 'soror', 'sort', 'soul', 'sound', 'soundtrack', 'sour', 'south', 'southafrica', 'southern', 'southernusa', 'soviet', 'sovietunion', 'space', 'spacecraft', 'spacemarin', 'spacemiss', 'spaceopera', 'spaceship', 'spacetravel', 'spain', 'span', 'spanish', 'spark', 'speak', 'speci', 'special', 'specialist', 'spectacular', 'speech', 'speed', 'spell', 'spencer', 'spend', 'spent', 'spi', 'spider', 'spike', 'spikele', 'spin', 'spiral', 'spirit', 'spiritu', 'spite', 'spoil', 'spoof', 'sport', 'sportsteam', 'spot', 'spotlight', 'spread', 'spring', 'squad', 'squar', 'st', 'stab', 'stadium', 'staff', 'stage', 'stak', 'stake', 'stalk', 'stalker', 'stan', 'stand', 'stanley', 'star', 'starcrossedlov', 'stardom', 'starfleet', 'stark', 'start', 'state', 'states', 'station', 'statu', 'stay', 'steal', 'steampunk', 'steel', 'stella', 'step', 'stepfath', 'stephen', 'stephendorff', 'stephenfrear', 'stephenherek', 'stephenrea', 'stepmoth', 'steve', 'stevebuscemi', 'stevecarel', 'stevemartin', 'steven', 'stevenseag', 'stevensoderbergh', 'stevenspielberg', 'stevezahn', 'stewardess', 'stewart', 'stick', 'stir', 'stock', 'stockbrok', 'stolen', 'stone', 'stoneag', 'stoner', 'stop', 'stopmot', 'store', 'stori', 'stories', 'storm', 'story', 'straight', 'strain', 'strand', 'strang', 'stranger', 'strateg', 'strategi', 'stray', 'street', 'streetgang', 'streets', 'strength', 'stress', 'stretch', 'strict', 'strike', 'strikes', 'strip', 'stripclub', 'stripper', 'strive', 'strong', 'struggl', 'stu', 'stuart', 'stuck', 'student', 'students', 'studi', 'studio', 'stumbl', 'stun', 'stunt', 'stupid', 'style', 'su', 'sub', 'subject', 'submachinegun', 'submarin', 'subsequ', 'suburban', 'suburbia', 'subway', 'succeed', 'success', 'successful', 'successor', 'sudden', 'suddenli', 'sue', 'suffer', 'suggest', 'suicid', 'suicide', 'suicideattempt', 'suit', 'suitor', 'sullivan', 'summer', 'summon', 'sun', 'sunglass', 'super', 'supercomput', 'superhero', 'superhuman', 'superhumanstrength', 'superman', 'supermarket', 'supernatur', 'supernaturalpow', 'superpow', 'superstar', 'supervillain', 'supervisor', 'suppli', 'support', 'suppos', 'suppress', 'suppressedpast', 'sure', 'surf', 'surfac', 'surface', 'surfer', 'surgeon', 'surgeri', 'surpris', 'surreal', 'surround', 'surveil', 'surviv', 'survival', 'survive', 'survivor', 'survivors', 'susan', 'susansarandon', 'suspect', 'suspens', 'suspici', 'suspicion', 'swallow', 'sweep', 'sweet', 'sweetheart', 'swept', 'swimmingpool', 'swing', 'switch', 'sword', 'swordandsorceri', 'swordfight', 'swordplay', 'sylvesterstallon', 'symbol', 'tabl', 'tactic', 'tag', 'tail', 'tak', 'taken', 'tale', 'talent', 'talk', 'talkinganim', 'tall', 'tank', 'tap', 'tape', 'target', 'task', 'tast', 'tattoo', 'taxi', 'taxidriv', 'taylor', 'teach', 'teacher', 'team', 'tear', 'tech', 'technolog', 'technology', 'ted', 'teen', 'teenag', 'teenagecrush', 'teenagegirl', 'teenager', 'teenagers', 'teenagesexu', 'teencomedi', 'teenmovi', 'teens', 'telekinesi', 'telepathi', 'teleport', 'televis', 'tell', 'tens', 'tension', 'term', 'termin', 'terminalil', 'terrencehoward', 'terri', 'terribl', 'terrier', 'terrifi', 'territori', 'terror', 'terrorist', 'terrygilliam', 'tess', 'test', 'tested', 'texa', 'texas', 'th', 'thailand', 'thandienewton', 'thank', 'thanksgiv', 'theater', 'theatremilieu', 'theft', 'theme', 'themselv', 'theori', 'therapist', 'thi', 'thief', 'thiev', 'thing', 'things', 'think', 'thirst', 'thirti', 'thoma', 'thomashadenchurch', 'thomasjan', 'thompson', 'thought', 'thousand', 'threat', 'threaten', 'thrill', 'thriller', 'throne', 'throw', 'thrown', 'thrust', 'thu', 'thug', 'thwart', 'tibet', 'tick', 'ticket', 'tie', 'tiger', 'tildaswinton', 'tim', 'timallen', 'timburton', 'time', 'timeless', 'times', 'timetravel', 'timothyolyph', 'timrobbin', 'timroth', 'timstori', 'tini', 'tire', 'titan', 'titl', 'tobeymaguir', 'today', 'todd', 'toddphillip', 'togeth', 'tokyo', 'told', 'tom', 'tomcruis', 'tomhank', 'tomhardi', 'tommi', 'tommyleejon', 'tomshadyac', 'tomwilkinson', 'toni', 'tonicollett', 'tonyscott', 'took', 'tool', 'tooth', 'torment', 'torn', 'tornado', 'toronto', 'tortur', 'total', 'totalitarian', 'touch', 'tough', 'toughest', 'tour', 'tourist', 'tournament', 'tower', 'town', 'toxic', 'toy', 'toycomestolif', 'trace', 'track', 'trade', 'trader', 'tradit', 'traffic', 'traffick', 'tragedi', 'tragedy', 'tragic', 'trail', 'train', 'trainer', 'traitor', 'transfer', 'transform', 'transit', 'transplant', 'transport', 'trap', 'trauma', 'traumat', 'travel', 'treacher', 'treasur', 'treasurehunt', 'treat', 'treatment', 'tree', 'trek', 'tri', 'trial', 'triangl', 'triangle', 'tribe', 'trick', 'trigger', 'trio', 'trip', 'triumph', 'troop', 'tropic', 'troubl', 'trouble', 'troy', 'truck', 'trucker', 'true', 'truli', 'trust', 'truth', 'tsunami', 'tunnel', 'turbul', 'turmoil', 'turn', 'turned', 'turner', 'turtl', 'tv', 'tvmovi', 'tvshow', 'tvstation', 'twenti', 'twin', 'twinbroth', 'twist', 'tycoon', 'tyler', 'tylerperri', 'type', 'typic', 'tyrann', 'téaleoni', 'ufo', 'ugli', 'ultim', 'ultra', 'umathurman', 'unabl', 'unawar', 'unbeknownst', 'uncl', 'uncle', 'uncomfort', 'unconvent', 'uncov', 'undead', 'undercov', 'undercoverag', 'undercovercop', 'underdog', 'undergo', 'underground', 'understand', 'undertak', 'underwat', 'underworld', 'unemploy', 'unexpect', 'unexpectedli', 'unexplain', 'unfaith', 'unfold', 'unforgett', 'unfortun', 'unfortunately', 'unhappi', 'unimagin', 'union', 'uniqu', 'unit', 'univers', 'universe', 'university', 'unknown', 'unleash', 'unless', 'unlik', 'unlikelyfriendship', 'unlock', 'unorthodox', 'unpreced', 'unpredict', 'unravel', 'unrequitedlov', 'unsimulatedsex', 'unsoci', 'unstabl', 'unstopp', 'unsuspect', 'unusu', 'unveil', 'unwit', 'unwittingli', 'upcom', 'upper', 'upperclass', 'upris', 'upset', 'upsid', 'uptight', 'urban', 'urg', 'usa', 'usapresid', 'use', 'usual', 'utah', 'vacat', 'vacation', 'val', 'valentine', 'valkilm', 'valley', 'valu', 'valuabl', 'vampir', 'vampire', 'vampires', 'van', 'vandal', 'vanessa', 'vanessahudgen', 'vanish', 'varieti', 'variou', 'vast', 'vatican', 'vault', 'vega', 'vegas', 'vegetarian', 'veng', 'vengeanc', 'vengeance', 'venic', 'ventur', 'verafarmiga', 'verg', 'veri', 'version', 'verylittledialogu', 'vet', 'veteran', 'vice', 'viciou', 'victim', 'victims', 'victor', 'victori', 'victoria', 'victorian', 'victory', 'video', 'videogam', 'vienna', 'vietnam', 'vietnamveteran', 'vietnamwar', 'view', 'viewer', 'viggomortensen', 'vigilant', 'vike', 'villag', 'village', 'villain', 'vincent', 'vincevaughn', 'vindiesel', 'vineyard', 'violenc', 'violence', 'violent', 'virgin', 'virginia', 'virginiamadsen', 'virginity', 'virtual', 'virtualr', 'viru', 'vision', 'visit', 'visitor', 'visual', 'vlad', 'voic', 'voice', 'volatil', 'volcano', 'volunt', 'vomit', 'von', 'voodoo', 'vorort', 'vow', 'voyag', 'voyeur', 'wa', 'wacki', 'wade', 'wage', 'wager', 'wai', 'wait', 'waiter', 'waitress', 'wake', 'walk', 'walker', 'wall', 'wallet', 'wallstreet', 'walt', 'walter', 'wander', 'wang', 'want', 'war', 'warcrim', 'ward', 'warden', 'warehous', 'warhead', 'warlock', 'warlord', 'warm', 'warn', 'warondrug', 'warren', 'warrenbeatti', 'warrior', 'wars', 'warship', 'warveteran', 'wash', 'washington', 'washingtond', 'wasn', 'wast', 'wasteland', 'watch', 'water', 'wave', 'way', 'ways', 'weak', 'wealth', 'wealthi', 'weapon', 'weapons', 'wear', 'weather', 'web', 'wed', 'wedding', 'week', 'weekend', 'weird', 'welcom', 'went', 'werewolf', 'wesanderson', 'wesbentley', 'wescraven', 'wesley', 'wesleysnip', 'west', 'western', 'whale', 'whatev', 'wheelchair', 'whi', 'whip', 'whisk', 'white', 'whitehous', 'whoopigoldberg', 'wick', 'widow', 'wield', 'wif', 'wife', 'wifehusbandrelationship', 'wild', 'wilder', 'wilderness', 'wildli', 'willemdafo', 'willferrel', 'willi', 'william', 'williamh', 'williamhurt', 'williamshatn', 'willpatton', 'willsmith', 'wilson', 'win', 'wind', 'window', 'wine', 'wing', 'winner', 'winonaryd', 'winter', 'wipe', 'wise', 'wish', 'wit', 'witch', 'witchhunt', 'wizard', 'wolf', 'wolfgangpetersen', 'woman', 'womandirector', 'womanrel', 'women', 'won', 'wonder', 'woo', 'wood', 'woodi', 'woods', 'woodyallen', 'woodyharrelson', 'word', 'work', 'workahol', 'worker', 'workers', 'working', 'world', 'worlds', 'worldwari', 'worldwarii', 'worldwid', 'worri', 'wors', 'worse', 'worship', 'worst', 'worth', 'wound', 'wreak', 'wrestl', 'wrestler', 'wretch', 'wright', 'write', 'writer', 'written', 'wrong', 'wwii', 'wyom', 'xenophobia', 'yacht', 'yakuza', 'yard', 'year', 'yearn', 'years', 'yellow', 'york', 'yorker', 'young', 'youngadult', 'youngboy', 'younger', 'youngest', 'youngster', 'youth', 'yuppi', 'zacefron', 'zachgalifianaki', 'zacksnyd', 'zealand', 'zebra', 'zeu', 'zhangziyi', 'zoe', 'zoesaldana', 'zombi', 'zombies', 'zone', 'zoo', 'zooeydeschanel']\n"
     ]
    }
   ],
   "source": [
    "features = cv.get_feature_names_out()\n",
    "print(list(features))"
   ]
  },
  {
   "cell_type": "code",
   "execution_count": 113,
   "id": "1260a860-cefb-439c-a4da-070e059dd3fb",
   "metadata": {},
   "outputs": [],
   "source": [
    "from sklearn.metrics.pairwise import cosine_similarity\n",
    "similarity=cosine_similarity(vectors)"
   ]
  },
  {
   "cell_type": "code",
   "execution_count": 114,
   "id": "acbf1c6f-5066-4e85-94e4-b5b13c12578f",
   "metadata": {},
   "outputs": [],
   "source": [
    "# in case of cosine_similarity we calculate the similarity of each vector to all other vectors\n",
    "# overall O(n^2) operation"
   ]
  },
  {
   "cell_type": "code",
   "execution_count": 115,
   "id": "86040d62-45c6-46ec-923d-47874d24184a",
   "metadata": {},
   "outputs": [
    {
     "data": {
      "text/plain": [
       "array([0.08346223, 1.        , 0.06063391, ..., 0.02378257, 0.        ,\n",
       "       0.02615329])"
      ]
     },
     "execution_count": 115,
     "metadata": {},
     "output_type": "execute_result"
    }
   ],
   "source": [
    "similarity[1]"
   ]
  },
  {
   "cell_type": "code",
   "execution_count": 116,
   "id": "fe98ac60-dcd5-488b-ad34-e23ffa6eb088",
   "metadata": {},
   "outputs": [
    {
     "data": {
      "text/plain": [
       "array([0.0860309 , 0.06063391, 1.        , ..., 0.02451452, 0.        ,\n",
       "       0.        ])"
      ]
     },
     "execution_count": 116,
     "metadata": {},
     "output_type": "execute_result"
    }
   ],
   "source": [
    "similarity[2]"
   ]
  },
  {
   "cell_type": "code",
   "execution_count": 119,
   "id": "bbb1209d-2419-46aa-aa2f-60a8bcd0049f",
   "metadata": {},
   "outputs": [],
   "source": [
    "# each row at index i has a list\n",
    "# each number j inside list indicates similarity of vector i with vector j"
   ]
  },
  {
   "cell_type": "code",
   "execution_count": 117,
   "id": "7d13549a-3ed3-472f-b4f5-17d5f94cdb2b",
   "metadata": {},
   "outputs": [
    {
     "name": "stdout",
     "output_type": "stream",
     "text": [
      "[[1.         0.08346223 0.0860309  ... 0.04499213 0.         0.        ]\n",
      " [0.08346223 1.         0.06063391 ... 0.02378257 0.         0.02615329]\n",
      " [0.0860309  0.06063391 1.         ... 0.02451452 0.         0.        ]\n",
      " ...\n",
      " [0.04499213 0.02378257 0.02451452 ... 1.         0.03962144 0.04229549]\n",
      " [0.         0.         0.         ... 0.03962144 1.         0.08714204]\n",
      " [0.         0.02615329 0.         ... 0.04229549 0.08714204 1.        ]]\n"
     ]
    }
   ],
   "source": [
    "print(similarity)"
   ]
  },
  {
   "cell_type": "code",
   "execution_count": 118,
   "id": "f24b0942-1149-4438-ab8e-875c4ee9924e",
   "metadata": {},
   "outputs": [
    {
     "data": {
      "text/plain": [
       "(4806, 4806)"
      ]
     },
     "execution_count": 118,
     "metadata": {},
     "output_type": "execute_result"
    }
   ],
   "source": [
    "similarity.shape"
   ]
  },
  {
   "cell_type": "code",
   "execution_count": 120,
   "id": "53b6d2b2-e3a7-45ee-8d1d-dde03cfd26ba",
   "metadata": {},
   "outputs": [],
   "source": [
    "# Selects the top 5 most similar movies "
   ]
  },
  {
   "cell_type": "code",
   "execution_count": 121,
   "id": "2487fb73-f265-434a-b3a0-0b28b7ea31f5",
   "metadata": {},
   "outputs": [],
   "source": [
    "def recommend(movie):\n",
    "    movie_index = new_df[new_df['title'] == movie].index[0]\n",
    "    distances = similarity[movie_index]\n",
    "    movies_list = sorted(list(enumerate(distances)), reverse=True, key=lambda x: x[1])[1:6]\n",
    "\n",
    "    for i in movies_list:\n",
    "        print(new_df.iloc[i[0]].title)"
   ]
  },
  {
   "cell_type": "code",
   "execution_count": 122,
   "id": "3a1b43d6-a6e2-40bc-bfcb-c5b14f297b10",
   "metadata": {},
   "outputs": [
    {
     "name": "stdout",
     "output_type": "stream",
     "text": [
      "The Dark Knight\n",
      "Batman\n",
      "Batman\n",
      "The Dark Knight Rises\n",
      "10th & Wolf\n"
     ]
    }
   ],
   "source": [
    "recommend('Batman Begins')"
   ]
  },
  {
   "cell_type": "code",
   "execution_count": 123,
   "id": "057c9bec-1f9f-45e8-b41d-4a1701be06a6",
   "metadata": {},
   "outputs": [],
   "source": [
    "import pickle\n",
    "pickle.dump(new_df,open('movies.pkl','wb'))"
   ]
  },
  {
   "cell_type": "code",
   "execution_count": 125,
   "id": "045e4831-ffed-462b-88c6-d4f3a4338038",
   "metadata": {},
   "outputs": [],
   "source": [
    "import pickle\n",
    "pickle.dump(new_df.to_dict(),open('movies_dict.pkl','wb'))"
   ]
  },
  {
   "cell_type": "code",
   "execution_count": 126,
   "id": "d5906146-366a-4128-a12c-ea5580b08f64",
   "metadata": {},
   "outputs": [],
   "source": [
    "pickle.dump(similarity,open('similarity.pkl','wb'))"
   ]
  },
  {
   "cell_type": "code",
   "execution_count": null,
   "id": "a1342f1a-3eee-4e80-94de-8a1830f9e00d",
   "metadata": {},
   "outputs": [],
   "source": []
  }
 ],
 "metadata": {
  "kernelspec": {
   "display_name": "Python 3 (ipykernel)",
   "language": "python",
   "name": "python3"
  },
  "language_info": {
   "codemirror_mode": {
    "name": "ipython",
    "version": 3
   },
   "file_extension": ".py",
   "mimetype": "text/x-python",
   "name": "python",
   "nbconvert_exporter": "python",
   "pygments_lexer": "ipython3",
   "version": "3.12.7"
  }
 },
 "nbformat": 4,
 "nbformat_minor": 5
}
